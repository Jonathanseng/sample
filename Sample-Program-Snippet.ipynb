{
 "cells": [
  {
   "cell_type": "markdown",
   "metadata": {},
   "source": [
    "<h2 align=\"center\"><b>Jun</h2>"
   ]
  },
  {
   "cell_type": "markdown",
   "metadata": {},
   "source": [
    "* [**How To Draw This Pattern?**](#How-To-Draw-This-Pattern?)\n",
    "* [**Make NoteBook Link Contents**](#Make-NoteBook-Link-Contents)\n",
    "* [ **Remove Element From List**](#-Remove-Element-From-List)\n",
    "* [**List Admin Created Users**](#List-Admin-Created-Users)\n",
    "* [**List Methods In Row And Column Format**](#List-Methods-In-Row-And-Column-Format)\n",
    "* [**How To Find 32bit Or 64bit System?**](#How-To-Find-32bit-Or-64bit-System?)\n",
    "* [**How To use Linux Command In Python?**](#How-To-use-Linux-Command-In-Python?)\n",
    "* [**How To Calculate Your Age?**](#How-To-Calculate-Your-Age?)\n",
    "* [**How To Find Last File Properties Changed Time?**](#How-To-Find-Last-File-Properties-Changed-Time?)\n",
    "* [**How To Obtain UNIX Epoch Time?**](#How-To-Obtain-UNIX-Epoch-Time?)\n",
    "* [**How To Find Path Of Module?**](#How-To-Find-Path-Of-Module?)\n",
    "* [**How To Find MAC Address Of Network Device?**](#How-To-Find-MAC-Address-Of-Network-Device?)\n",
    "* [**How To Find MAC Address Of Current Using Network Device?**](#How-To-Find-MAC-Address-Of-Current-Using-Network-Device?)\n",
    "* [**What Is Difference Between Function And Method?**,](#What-Is-Difference-Between-Function-And-Method?,)\n",
    "* [**How To Find Maximum Values Of Column?**](#How-To-Find-Maximum-Values-Of-Column?)\n",
    "* [**How To Find Minimum Values Of Column?**](#How-To-Find-Minimum-Values-Of-Column?)\n",
    "* [**How To Sum Values Of Column?**](#How-To-Sum-Values-Of-Column?)\n",
    "* [**How To Find Average Values Of Column?**](#How-To-Find-Average-Values-Of-Column?)\n",
    "* [**How To Find Average Values Of Column?**](#How-To-Find-Average-Values-Of-Column?)\n",
    "* [**How To Write ABCD...?**](#How-To-Write-ABCD...?)\n",
    "* [**Comprehension**](#Comprehension)\n",
    "* [**How Object Call Works?**,](#How-Object-Call-Works?,)\n",
    "* [**List Out All Python Build-In Classes And Subclasses**](#List-Out-All-Python-Build-In-Classes-And-Subclasses)\n",
    "* [**How To List Modified Files Between Specific Range Of Days?**,](#How-To-List-Modified-Files-Between-Specific-Range-Of-Days?,)\n",
    "* [**How To Add Line Number To File?**](#How-To-Add-Line-Number-To-File?)\n",
    "* [**Generator**,](#Generator,)\n",
    "* [**Print file permission in Numeric Mode**](#Print-file-permission-in-Numeric-Mode)\n",
    "* [**MRO in Inheritance**,](#MRO-in-Inheritance,)\n",
    "* [**Method Resloution Order(MRO)**](#Method-Resloution-Order(MRO))\n",
    "* [**How To Replace Multiple String?**](#How-To-Replace-Multiple-String?)\n",
    "* [**How To Filter Which String Have Second Charcter \\a\\?**](#How-To-Filter-Which-String-Have-Second-Charcter-\\a\\?)\n",
    "* [**How To List Specific Extension Files Only?**](#How-To-List-Specific-Extension-Files-Only?)\n",
    "* [**How To Get Help In Python?**](#How-To-Get-Help-In-Python?)\n",
    "* [**How Print Function Works?**,](#How-Print-Function-Works?,)\n",
    "* [**How Many Years Passed Since UNIX Time?**](#How-Many-Years-Passed-Since-UNIX-Time?)\n",
    "* [**How Many Seconds In One Day?**](#How-Many-Seconds-In-One-Day?)\n",
    "* [**The UNIX Time**](#The-UNIX-Time)\n",
    "* [**How List All Files Name Without Extension?**](#How-List-All-Files-Name-Without-Extension?)\n",
    "* [**How To Capture Logs On Hourly Basis?**](#How-To-Capture-Logs-On-Hourly-Basis?)\n",
    "* [**Print Even Number**](#Print-Even-Number)\n",
    "* [**Convert String To List**](#Convert-String-To-List)\n",
    "* [**How To Convert UNIX Seconds Of Specific Date?**](#How-To-Convert-UNIX-Seconds-Of-Specific-Date?)\n",
    "* [**Lambda**,](#Lambda,)\n",
    "* [**AND**,](#AND,)\n",
    "* [**Converting UNIX Time To Human Readable Time**](#Converting-UNIX-Time-To-Human-Readable-Time)\n",
    "* [**How Many Days Passed In This Year?**](#How-Many-Days-Passed-In-This-Year?)\n",
    "* [**How To Get Last Modification Time of File?**](#How-To-Get-Last-Modification-Time-of-File?)\n",
    "* [**Get Last File Modification Seconds Since Epoch**](#Get-Last-File-Modification-Seconds-Since-Epoch)\n",
    "* [**Add Every Two Numbers**](#Add-Every-Two-Numbers)\n",
    "* [**How To Join The Second Line To End Of First Line?**](#How-To-Join-The-Second-Line-To-End-Of-First-Line?)\n",
    "* [**When Was UNIX Time Started At India?**](#When-Was-UNIX-Time-Started-At-India?)\n",
    "* [**List All Built-In Modules**](#List-All-Built-In-Modules)\n",
    "* [**Time Now**](#Time-Now)\n",
    "* [**Hi, What is the Date Today?**](#Hi,-What-is-the-Date-Today?)"
   ]
  },
  {
   "cell_type": "markdown",
   "metadata": {},
   "source": [
    "***"
   ]
  },
  {
   "cell_type": "markdown",
   "metadata": {},
   "source": [
    "#### **How To Draw This Pattern?**"
   ]
  },
  {
   "cell_type": "code",
   "execution_count": 38,
   "metadata": {},
   "outputs": [
    {
     "name": "stdout",
     "output_type": "stream",
     "text": [
      " ***\n",
      "  ***\n",
      "   ***\n",
      "    ***\n",
      "     ***\n"
     ]
    }
   ],
   "source": [
    "for i in range(1, 6):\n",
    "    print(' '*i, end = '')\n",
    "    print('*'*3)"
   ]
  },
  {
   "cell_type": "code",
   "execution_count": 40,
   "metadata": {},
   "outputs": [
    {
     "name": "stdout",
     "output_type": "stream",
     "text": [
      " ***\n",
      "  ***\n",
      "   ***\n",
      "    ***\n",
      "     ***\n"
     ]
    }
   ],
   "source": [
    "import sys\n",
    "\n",
    "for i in range(1, 6):\n",
    "    sys.stdout.write(' '*i)\n",
    "    print('*'*3)"
   ]
  },
  {
   "cell_type": "markdown",
   "metadata": {},
   "source": [
    "#### **Make NoteBook Link Contents**"
   ]
  },
  {
   "cell_type": "code",
   "execution_count": null,
   "metadata": {},
   "outputs": [],
   "source": [
    "from pathlib import Path\n",
    "import re\n",
    "\n",
    "file = Path('May-al.ipynb').read_text()\n",
    "match = [re.sub(r'^\\s{4}|#|\\\\n|\"','',i) for i in file.splitlines() \n",
    "         if re.search(r'#{4}',i)]\n",
    "\n",
    "for i in match:\n",
    "    print('*', '[' + i.replace(' ','',1) + ']', end = '')\n",
    "    i = i.replace('*', '')\n",
    "    i = re.sub(r'^.','(#',i)\n",
    "    i = re.sub(r'$',')',i)\n",
    "    print(i.replace(' ', '-'))"
   ]
  },
  {
   "cell_type": "markdown",
   "metadata": {},
   "source": [
    "####  **Remove Element From List**"
   ]
  },
  {
   "cell_type": "markdown",
   "metadata": {},
   "source": [
    "##### **Using Slice**"
   ]
  },
  {
   "cell_type": "code",
   "execution_count": 63,
   "metadata": {},
   "outputs": [
    {
     "data": {
      "text/plain": [
       "['a', 'b', 'd']"
      ]
     },
     "execution_count": 63,
     "metadata": {},
     "output_type": "execute_result"
    }
   ],
   "source": [
    "L = ['a', 'b', 'c', 'd']\n",
    "L[2:3] = []\n",
    "L"
   ]
  },
  {
   "cell_type": "markdown",
   "metadata": {},
   "source": [
    "#### **Using Remove**\n",
    "**It remove first occurance of element**"
   ]
  },
  {
   "cell_type": "code",
   "execution_count": 68,
   "metadata": {},
   "outputs": [
    {
     "data": {
      "text/plain": [
       "['a', 'b', 'd']"
      ]
     },
     "execution_count": 68,
     "metadata": {},
     "output_type": "execute_result"
    }
   ],
   "source": [
    "L = ['a', 'b', 'c', 'd']\n",
    "L.remove('c')\n",
    "L"
   ]
  },
  {
   "cell_type": "markdown",
   "metadata": {},
   "source": [
    "#### **Using del keyword**"
   ]
  },
  {
   "cell_type": "code",
   "execution_count": 65,
   "metadata": {},
   "outputs": [
    {
     "data": {
      "text/plain": [
       "['a', 'b', 'd']"
      ]
     },
     "execution_count": 65,
     "metadata": {},
     "output_type": "execute_result"
    }
   ],
   "source": [
    "L = ['a', 'b', 'c', 'd']\n",
    "del L[2]\n",
    "L"
   ]
  },
  {
   "cell_type": "markdown",
   "metadata": {},
   "source": [
    "#### **Using pop method**"
   ]
  },
  {
   "cell_type": "code",
   "execution_count": 66,
   "metadata": {},
   "outputs": [
    {
     "data": {
      "text/plain": [
       "['a', 'b', 'd']"
      ]
     },
     "execution_count": 66,
     "metadata": {},
     "output_type": "execute_result"
    }
   ],
   "source": [
    "L = ['a', 'b', 'c', 'd']\n",
    "L.pop(2)\n",
    "L"
   ]
  },
  {
   "cell_type": "markdown",
   "metadata": {},
   "source": [
    "##### **Remove Entire List**"
   ]
  },
  {
   "cell_type": "code",
   "execution_count": 70,
   "metadata": {},
   "outputs": [
    {
     "data": {
      "text/plain": [
       "[]"
      ]
     },
     "execution_count": 70,
     "metadata": {},
     "output_type": "execute_result"
    }
   ],
   "source": [
    "L = ['a', 'b', 'c', 'd']\n",
    "L.clear()\n",
    "L"
   ]
  },
  {
   "cell_type": "code",
   "execution_count": 71,
   "metadata": {},
   "outputs": [],
   "source": [
    "L = ['a', 'b', 'c', 'd']\n",
    "L = []"
   ]
  },
  {
   "cell_type": "markdown",
   "metadata": {},
   "source": [
    "#### **List Admin Created Users**"
   ]
  },
  {
   "cell_type": "code",
   "execution_count": 9,
   "metadata": {},
   "outputs": [
    {
     "name": "stdout",
     "output_type": "stream",
     "text": [
      "mana 1000 /bin/bash\n"
     ]
    }
   ],
   "source": [
    "%%bash\n",
    "\n",
    "getent passwd | grep -Po \"^.*\\d{4,}.*(bash|ksh|zsh)$\" | \\\n",
    "awk -F \":\" '{print $1, $3, $NF}'"
   ]
  },
  {
   "cell_type": "code",
   "execution_count": 91,
   "metadata": {},
   "outputs": [
    {
     "name": "stdout",
     "output_type": "stream",
     "text": [
      "mana 1000 /bin/bash\n"
     ]
    }
   ],
   "source": [
    "%%bash\n",
    "\n",
    "getent passwd | awk -F \":\" '$3 >= 1000 && \\\n",
    "$NF == \"/bin/bash\" {print $1, $3, $NF}'"
   ]
  },
  {
   "cell_type": "code",
   "execution_count": 94,
   "metadata": {},
   "outputs": [
    {
     "name": "stdout",
     "output_type": "stream",
     "text": [
      "mana 1000 /bin/bash\n"
     ]
    }
   ],
   "source": [
    "%%python3\n",
    "\n",
    "import pwd\n",
    "\n",
    "shell = ['/bin/bash', '/bin/ksh']\n",
    "for usr in pwd.getpwall():\n",
    "    if usr.pw_uid >= 1000 and usr.pw_shell in shell:\n",
    "        print(usr.pw_name, usr.pw_uid, usr.pw_shell)"
   ]
  },
  {
   "cell_type": "markdown",
   "metadata": {},
   "source": [
    "#### **List Methods In Row And Column Format**"
   ]
  },
  {
   "cell_type": "code",
   "execution_count": 101,
   "metadata": {},
   "outputs": [
    {
     "name": "stdout",
     "output_type": "stream",
     "text": [
      "append   clear    copy     \n",
      "count    extend   index    \n",
      "insert   pop      remove   \n",
      "reverse  sort              \n"
     ]
    }
   ],
   "source": [
    "methods = [i for i  in dir([]) if i[0].islower()]\n",
    "w = str(len(max(methods, key=len))+2)\n",
    "fmt = ('{:'+w+'s}')*3\n",
    "\n",
    "for fn in zip(*[iter(methods + [' '])] *3):\n",
    "    print(fmt.format(*fn))"
   ]
  },
  {
   "cell_type": "markdown",
   "metadata": {},
   "source": [
    "#### **How To Find 32bit Or 64bit System?**"
   ]
  },
  {
   "cell_type": "code",
   "execution_count": 7,
   "metadata": {},
   "outputs": [
    {
     "name": "stdout",
     "output_type": "stream",
     "text": [
      "64bit\n"
     ]
    }
   ],
   "source": [
    "from platform import architecture\n",
    "\n",
    "print(architecture()[0])"
   ]
  },
  {
   "cell_type": "markdown",
   "metadata": {},
   "source": [
    "#### **How To use Linux Command In Python?**"
   ]
  },
  {
   "cell_type": "code",
   "execution_count": 3,
   "metadata": {},
   "outputs": [
    {
     "name": "stdout",
     "output_type": "stream",
     "text": [
      "total 1.1M\n",
      "164K Jun-2020.ipynb\n",
      "152K Apr.ipynb\n",
      "144K May.ipynb\n",
      "132K suuid.png\n",
      "120K Object.png\n",
      " 96K Jan.ipynb\n",
      " 76K Mar.ipynb\n",
      " 56K Feb.ipynb\n",
      " 52K unicode.png\n",
      "8.0K stick.gif\n",
      "4.0K AWK.ipynb\n",
      "4.0K Bash.ipynb\n",
      "4.0K sed.ipynb\n",
      "4.0K alphanum.txt\n",
      "4.0K fstab.csv\n",
      "4.0K notes.txt\n",
      "4.0K fruit.txt\n",
      "4.0K pipefile\n",
      "   0 awk\n",
      "\n"
     ]
    }
   ],
   "source": [
    "from subprocess import check_output\n",
    "\n",
    "command = 'ls -sSh'\n",
    "output = check_output(command.split()).decode()\n",
    "print(output)"
   ]
  },
  {
   "cell_type": "markdown",
   "metadata": {},
   "source": [
    "#### **How To Calculate Your Age?**"
   ]
  },
  {
   "cell_type": "code",
   "execution_count": 25,
   "metadata": {},
   "outputs": [
    {
     "name": "stdout",
     "output_type": "stream",
     "text": [
      "35\n"
     ]
    }
   ],
   "source": [
    "%%bash\n",
    "\n",
    "read -p \"Enter Your Birth Year: \" yr\n",
    "printf \"%2d\\n\" $(date -d \"-$(date +$yr) year\" +%Y)"
   ]
  },
  {
   "cell_type": "code",
   "execution_count": null,
   "metadata": {},
   "outputs": [],
   "source": [
    "%%bash\n",
    "\n",
    "read -ep \"Year of birth? \" byear\n",
    "printf -v year '%(%Y)T'\n",
    "echo \"$((year - byear))\""
   ]
  },
  {
   "cell_type": "code",
   "execution_count": 31,
   "metadata": {},
   "outputs": [
    {
     "name": "stdout",
     "output_type": "stream",
     "text": [
      "Enter Your Birth Year: 1985\n",
      "35\n"
     ]
    }
   ],
   "source": [
    "%%python3\n",
    "\n",
    "from datetime import date\n",
    "birth_yr = int(input('Enter Your Birth Year: '))\n",
    "print(date.today().year - birth_yr)"
   ]
  },
  {
   "cell_type": "markdown",
   "metadata": {},
   "source": [
    "#### **How To Find Last File Properties Changed Time?**"
   ]
  },
  {
   "cell_type": "code",
   "execution_count": 85,
   "metadata": {},
   "outputs": [
    {
     "name": "stdout",
     "output_type": "stream",
     "text": [
      "Thu May  7 22:11:08 2020\n"
     ]
    }
   ],
   "source": [
    "%%bash\n",
    "\n",
    "epoc=$(stat -c \"%Z\" /home/mana/Work/example.py)\n",
    "date -d @$epoc +\"%a %b %_d %T %Y\""
   ]
  },
  {
   "cell_type": "code",
   "execution_count": 88,
   "metadata": {},
   "outputs": [
    {
     "name": "stdout",
     "output_type": "stream",
     "text": [
      "Thu May  7 22:11:08 2020\n"
     ]
    }
   ],
   "source": [
    "%%python3\n",
    "\n",
    "import os\n",
    "import time\n",
    "\n",
    "file = '/home/mana/Work/example.py'\n",
    "create = os.stat(file).st_ctime\n",
    "print(time.ctime(create))"
   ]
  },
  {
   "cell_type": "markdown",
   "metadata": {},
   "source": [
    "#### **How To Obtain UNIX Epoch Time?**"
   ]
  },
  {
   "cell_type": "code",
   "execution_count": 95,
   "metadata": {},
   "outputs": [
    {
     "name": "stdout",
     "output_type": "stream",
     "text": [
      "1591324276\n"
     ]
    }
   ],
   "source": [
    "%%bash\n",
    "\n",
    "date \"+%s\" "
   ]
  },
  {
   "cell_type": "code",
   "execution_count": 96,
   "metadata": {},
   "outputs": [
    {
     "name": "stdout",
     "output_type": "stream",
     "text": [
      "1591324277.377527\n"
     ]
    }
   ],
   "source": [
    "%%python3\n",
    "\n",
    "import time\n",
    "print(time.time())"
   ]
  },
  {
   "cell_type": "markdown",
   "metadata": {},
   "source": [
    "#### **How To Find Path Of Module?**"
   ]
  },
  {
   "cell_type": "code",
   "execution_count": 12,
   "metadata": {},
   "outputs": [
    {
     "name": "stdout",
     "output_type": "stream",
     "text": [
      "<module 'random' from '/usr/lib/python3.6/random.py'>\n"
     ]
    }
   ],
   "source": [
    "import random\n",
    "print(random)"
   ]
  },
  {
   "cell_type": "markdown",
   "metadata": {},
   "source": [
    "#### **How To Find MAC Address Of Network Device?**"
   ]
  },
  {
   "cell_type": "code",
   "execution_count": 30,
   "metadata": {},
   "outputs": [
    {
     "name": "stdout",
     "output_type": "stream",
     "text": [
      "    link/ether 00:e0:8c:68:0b:ac brd ff:ff:ff:ff:ff:ff\n",
      "    link/ether fc:de:56:ff:01:06 brd ff:ff:ff:ff:ff:ff\n",
      "    link/ether 02:42:ff:35:bb:c5 brd ff:ff:ff:ff:ff:ff\n"
     ]
    }
   ],
   "source": [
    "%%bash\n",
    "\n",
    "ip a | grep \"link/ether\" "
   ]
  },
  {
   "cell_type": "code",
   "execution_count": 21,
   "metadata": {},
   "outputs": [
    {
     "name": "stdout",
     "output_type": "stream",
     "text": [
      "Device-Name               MAC-Address\n",
      "=========================================\n",
      "enxfcde56ff0106         fc:de:56:ff:01:06\n",
      "ens33                   00:e0:8c:68:0b:ac\n",
      "docker0                 02:42:07:f8:57:61\n"
     ]
    }
   ],
   "source": [
    "%%python3\n",
    "\n",
    "from pathlib import Path\n",
    "d = Path('/sys/class/net')\n",
    "addr = [i for i in d.rglob('*/*') if str(i).endswith('address')]\n",
    "lst = [(j.parent.stem,j.read_text().strip()) for j in addr]\n",
    "print('{} {:>25}'.format('Device-Name', 'MAC-Address'))\n",
    "print('='*41)\n",
    "\n",
    "for x,y in lst:\n",
    "    if not x == 'lo':\n",
    "        print('{:15} {:>25}'.format(x,y))"
   ]
  },
  {
   "cell_type": "markdown",
   "metadata": {},
   "source": [
    "#### **How To Find MAC Address Of Current Using Network Device?**"
   ]
  },
  {
   "cell_type": "code",
   "execution_count": 16,
   "metadata": {},
   "outputs": [
    {
     "name": "stdout",
     "output_type": "stream",
     "text": [
      "fc:de:56:ff:01:06\n"
     ]
    }
   ],
   "source": [
    "%%python3\n",
    "\n",
    "from re import findall\n",
    "import uuid\n",
    "\n",
    "haddr = f'{uuid.getnode():x}'\n",
    "print(':'.join(findall('..',haddr)))"
   ]
  },
  {
   "cell_type": "markdown",
   "metadata": {},
   "source": [
    "#### **What Is Difference Between Function And Method?**\n",
    ">**If define function outside of class, It is called Function.**   \n",
    ">**If define function inside of class, It is called Method.**"
   ]
  },
  {
   "cell_type": "code",
   "execution_count": 3,
   "metadata": {},
   "outputs": [
    {
     "name": "stdout",
     "output_type": "stream",
     "text": [
      "9\n",
      "7\n"
     ]
    }
   ],
   "source": [
    "def function(x, y):\n",
    "    return x + y\n",
    "\n",
    "print(function(5, 4))\n",
    "\n",
    "class A:\n",
    "    def method(self, x, y):\n",
    "        print(x + y)\n",
    "        \n",
    "obj = A()\n",
    "obj.method(3, 4)"
   ]
  },
  {
   "cell_type": "markdown",
   "metadata": {},
   "source": [
    "#### **How To Find Maximum Values Of Column?**"
   ]
  },
  {
   "cell_type": "code",
   "execution_count": 8,
   "metadata": {},
   "outputs": [
    {
     "name": "stdout",
     "output_type": "stream",
     "text": [
      "veera\t76\r\n",
      "kali\t15\r\n",
      "muthu\t87\r\n",
      "kris\t33\r\n",
      "mari\t12\r\n"
     ]
    }
   ],
   "source": [
    "cat /home/mana/Work/data.txt"
   ]
  },
  {
   "cell_type": "code",
   "execution_count": 16,
   "metadata": {},
   "outputs": [
    {
     "name": "stdout",
     "output_type": "stream",
     "text": [
      "87\n"
     ]
    }
   ],
   "source": [
    "%%bash\n",
    "\n",
    "file='/home/mana/Work/data.txt'\n",
    "awk -v max=0 'max < $NF{max = $NF}END{print max}' $file"
   ]
  },
  {
   "cell_type": "code",
   "execution_count": 24,
   "metadata": {},
   "outputs": [
    {
     "name": "stdout",
     "output_type": "stream",
     "text": [
      "87\n"
     ]
    }
   ],
   "source": [
    "%%python3\n",
    "\n",
    "from pathlib import Path\n",
    "file = '/home/mana/Work/data.txt'\n",
    "data = [int(i.split()[1]) \n",
    "        for i in Path(file).read_text().splitlines()]\n",
    "print(max(data))"
   ]
  },
  {
   "cell_type": "markdown",
   "metadata": {},
   "source": [
    "#### **How To Find Minimum Values Of Column?**"
   ]
  },
  {
   "cell_type": "code",
   "execution_count": 25,
   "metadata": {},
   "outputs": [
    {
     "name": "stdout",
     "output_type": "stream",
     "text": [
      "veera\t76\r\n",
      "kali\t15\r\n",
      "muthu\t87\r\n",
      "kris\t33\r\n",
      "mari\t12\r\n"
     ]
    }
   ],
   "source": [
    "cat /home/mana/Work/data.txt"
   ]
  },
  {
   "cell_type": "code",
   "execution_count": 29,
   "metadata": {},
   "outputs": [
    {
     "name": "stdout",
     "output_type": "stream",
     "text": [
      "12\n"
     ]
    }
   ],
   "source": [
    "%%bash\n",
    "\n",
    "file='/home/mana/Work/data.txt'\n",
    "awk 'min==\"\" || $NF < min {min=$NF}END{print min}' $file"
   ]
  },
  {
   "cell_type": "code",
   "execution_count": 27,
   "metadata": {},
   "outputs": [
    {
     "name": "stdout",
     "output_type": "stream",
     "text": [
      "12\n"
     ]
    }
   ],
   "source": [
    "%%python3\n",
    "\n",
    "from pathlib import Path\n",
    "file = '/home/mana/Work/data.txt'\n",
    "data = [int(i.split()[1]) \n",
    "        for i in Path(file).read_text().splitlines()]\n",
    "print(min(data))"
   ]
  },
  {
   "cell_type": "markdown",
   "metadata": {},
   "source": [
    "#### **How To Sum Values Of Column?**"
   ]
  },
  {
   "cell_type": "code",
   "execution_count": 10,
   "metadata": {},
   "outputs": [
    {
     "name": "stdout",
     "output_type": "stream",
     "text": [
      "veera\t76\r\n",
      "kali\t15\r\n",
      "muthu\t87\r\n",
      "kris\t33\r\n",
      "mari\t12\r\n"
     ]
    }
   ],
   "source": [
    "cat /home/mana/Work/data.txt"
   ]
  },
  {
   "cell_type": "code",
   "execution_count": 11,
   "metadata": {},
   "outputs": [
    {
     "name": "stdout",
     "output_type": "stream",
     "text": [
      "223\n"
     ]
    }
   ],
   "source": [
    "%%bash\n",
    "\n",
    "file='/home/mana/Work/data.txt'\n",
    "awk '{sum += $2} END {print sum}' $file"
   ]
  },
  {
   "cell_type": "code",
   "execution_count": 19,
   "metadata": {},
   "outputs": [
    {
     "name": "stdout",
     "output_type": "stream",
     "text": [
      "223\n"
     ]
    }
   ],
   "source": [
    "with open('/home/mana/Work/data.txt') as file:\n",
    "    num = [int(i.split()[1]) for i in file.readlines()]\n",
    "    print(sum(num))"
   ]
  },
  {
   "cell_type": "markdown",
   "metadata": {},
   "source": [
    "#### **How To Find Average Values Of Column?**"
   ]
  },
  {
   "cell_type": "code",
   "execution_count": 10,
   "metadata": {},
   "outputs": [
    {
     "name": "stdout",
     "output_type": "stream",
     "text": [
      "veera\t76\r\n",
      "kali\t15\r\n",
      "muthu\t87\r\n",
      "kris\t33\r\n",
      "mari\t12\r\n"
     ]
    }
   ],
   "source": [
    "cat /home/mana/Work/data.txt"
   ]
  },
  {
   "cell_type": "code",
   "execution_count": 12,
   "metadata": {},
   "outputs": [
    {
     "name": "stdout",
     "output_type": "stream",
     "text": [
      "44.6\n"
     ]
    }
   ],
   "source": [
    "%%bash\n",
    "\n",
    "file='/home/mana/Work/data.txt'\n",
    "awk '{sum += $NF} END {print sum/NR}' $file"
   ]
  },
  {
   "cell_type": "code",
   "execution_count": 28,
   "metadata": {},
   "outputs": [
    {
     "name": "stdout",
     "output_type": "stream",
     "text": [
      "44.6\n"
     ]
    }
   ],
   "source": [
    "%%python3\n",
    "\n",
    "from pathlib import Path\n",
    "file = '/home/mana/Work/data.txt'\n",
    "data = [int(i.split()[1]) \n",
    "        for i in Path(file).read_text().splitlines()]\n",
    "print(sum(data)/len(data))"
   ]
  },
  {
   "cell_type": "markdown",
   "metadata": {},
   "source": [
    "#### **How To Find Average Values Of Column?**"
   ]
  },
  {
   "cell_type": "code",
   "execution_count": 38,
   "metadata": {},
   "outputs": [
    {
     "name": "stdout",
     "output_type": "stream",
     "text": [
      "veera\t76\r\n",
      "kali\t15\r\n",
      "muthu\t87\r\n",
      "kris\t33\r\n",
      "mari\t12\r\n"
     ]
    }
   ],
   "source": [
    "cat /home/mana/Work/data.txt "
   ]
  },
  {
   "cell_type": "code",
   "execution_count": 12,
   "metadata": {},
   "outputs": [
    {
     "name": "stdout",
     "output_type": "stream",
     "text": [
      "44.6\n"
     ]
    }
   ],
   "source": [
    "%%bash\n",
    "\n",
    "file='/home/mana/Work/data.txt'\n",
    "awk '{sum += $NF} END {print sum/NR}' $file"
   ]
  },
  {
   "cell_type": "code",
   "execution_count": 28,
   "metadata": {},
   "outputs": [
    {
     "name": "stdout",
     "output_type": "stream",
     "text": [
      "44.6\n"
     ]
    }
   ],
   "source": [
    "%%python3\n",
    "\n",
    "from pathlib import Path\n",
    "file = '/home/mana/Work/data.txt'\n",
    "data = [int(i.split()[1]) \n",
    "        for i in Path(file).read_text().splitlines()]\n",
    "print(sum(data)/len(data))"
   ]
  },
  {
   "cell_type": "markdown",
   "metadata": {},
   "source": [
    "#### **How To Write ABCD...?**"
   ]
  },
  {
   "cell_type": "code",
   "execution_count": 30,
   "metadata": {},
   "outputs": [
    {
     "name": "stdout",
     "output_type": "stream",
     "text": [
      "          A B C D \n",
      "          E F G H \n",
      "          I J K L \n",
      "          M N O P \n",
      "          Q R S T \n",
      "          U V W X \n",
      "          Y Z     \n"
     ]
    }
   ],
   "source": [
    "import sys\n",
    "\n",
    "letters = [chr(i) for i  in range(65, 91)]\n",
    "fmt = ('{:2s}')*4\n",
    "\n",
    "for fn in zip(*[iter(letters + [' ']*5)] *4):\n",
    "    sys.stdout.write(' '*10)\n",
    "    print(fmt.format(*fn))"
   ]
  },
  {
   "cell_type": "markdown",
   "metadata": {},
   "source": [
    "#### **Comprehension**"
   ]
  },
  {
   "cell_type": "markdown",
   "metadata": {},
   "source": [
    "**List Comprehension**"
   ]
  },
  {
   "cell_type": "code",
   "execution_count": 5,
   "metadata": {},
   "outputs": [
    {
     "data": {
      "text/plain": [
       "['R', 'o', 'o', 'o', 's', 'e']"
      ]
     },
     "execution_count": 5,
     "metadata": {},
     "output_type": "execute_result"
    }
   ],
   "source": [
    "S = \"Rooose\"\n",
    "[i for i in S]"
   ]
  },
  {
   "cell_type": "markdown",
   "metadata": {},
   "source": [
    "**Set Comprehension**"
   ]
  },
  {
   "cell_type": "code",
   "execution_count": 7,
   "metadata": {},
   "outputs": [
    {
     "data": {
      "text/plain": [
       "{'R', 'e', 'o', 's'}"
      ]
     },
     "execution_count": 7,
     "metadata": {},
     "output_type": "execute_result"
    }
   ],
   "source": [
    "S = \"Rooose\"\n",
    "{i for i in S}"
   ]
  },
  {
   "cell_type": "markdown",
   "metadata": {},
   "source": [
    "**Dictionary Comprehension**"
   ]
  },
  {
   "cell_type": "code",
   "execution_count": 6,
   "metadata": {},
   "outputs": [
    {
     "data": {
      "text/plain": [
       "{'R': 82, 'o': 111, 's': 115, 'e': 101}"
      ]
     },
     "execution_count": 6,
     "metadata": {},
     "output_type": "execute_result"
    }
   ],
   "source": [
    "S = \"Rooose\"\n",
    "{i: ord(i) for i in S}"
   ]
  },
  {
   "cell_type": "markdown",
   "metadata": {},
   "source": [
    "#### **How Object Call Works?**\n",
    "**object.method(self) =  class.method(object)   \n",
    "When object call method(object.method(self)), Python Interpreter    \n",
    "converts internally to class.method(object).**"
   ]
  },
  {
   "cell_type": "code",
   "execution_count": 10,
   "metadata": {},
   "outputs": [
    {
     "name": "stdout",
     "output_type": "stream",
     "text": [
      "Hi I am Python.\n"
     ]
    }
   ],
   "source": [
    "class A:\n",
    "    def show(self):\n",
    "        print('Hi I am Python.')\n",
    "        \n",
    "obj = A()\n",
    "obj.show()"
   ]
  },
  {
   "cell_type": "code",
   "execution_count": 8,
   "metadata": {},
   "outputs": [
    {
     "name": "stdout",
     "output_type": "stream",
     "text": [
      "Hi I am Python.\n"
     ]
    }
   ],
   "source": [
    "class A:\n",
    "    def show(object):\n",
    "        print('Hi I am Python.')\n",
    "        \n",
    "obj = A()\n",
    "obj.show()"
   ]
  },
  {
   "cell_type": "code",
   "execution_count": 9,
   "metadata": {},
   "outputs": [
    {
     "name": "stdout",
     "output_type": "stream",
     "text": [
      "Hi I am Python.\n"
     ]
    }
   ],
   "source": [
    "class A:\n",
    "    def show(object):\n",
    "        print('Hi I am Python.')\n",
    "        \n",
    "obj = A()\n",
    "A.show(obj)"
   ]
  },
  {
   "cell_type": "markdown",
   "metadata": {},
   "source": [
    "#### **List Out All Python Build-In Classes And Subclasses**"
   ]
  },
  {
   "cell_type": "code",
   "execution_count": 1,
   "metadata": {},
   "outputs": [
    {
     "name": "stdout",
     "output_type": "stream",
     "text": [
      "<class 'type'>\n",
      "<class 'weakref'>\n",
      "<class 'weakcallableproxy'>\n",
      "<class 'weakproxy'>\n",
      "<class 'int'>\n",
      "<class 'bytearray'>\n",
      "<class 'bytes'>\n",
      "<class 'list'>\n",
      "<class 'NoneType'>\n",
      "<class 'NotImplementedType'>\n",
      "<class 'traceback'>\n",
      "<class 'super'>\n",
      "<class 'range'>\n",
      "<class 'dict'>\n",
      "<class 'dict_keys'>\n",
      "<class 'dict_values'>\n",
      "<class 'dict_items'>\n",
      "<class 'dict_reversekeyiterator'>\n",
      "<class 'dict_reversevalueiterator'>\n",
      "<class 'dict_reverseitemiterator'>\n",
      "<class 'odict_iterator'>\n",
      "<class 'set'>\n",
      "<class 'str'>\n",
      "<class 'slice'>\n",
      "<class 'staticmethod'>\n",
      "<class 'complex'>\n",
      "<class 'float'>\n",
      "<class 'frozenset'>\n",
      "<class 'property'>\n",
      "<class 'managedbuffer'>\n",
      "<class 'memoryview'>\n",
      "<class 'tuple'>\n",
      "<class 'enumerate'>\n",
      "<class 'reversed'>\n",
      "<class 'stderrprinter'>\n",
      "<class 'code'>\n",
      "<class 'frame'>\n",
      "<class 'builtin_function_or_method'>\n",
      "<class 'method'>\n",
      "<class 'function'>\n",
      "<class 'mappingproxy'>\n",
      "<class 'generator'>\n",
      "<class 'getset_descriptor'>\n",
      "<class 'wrapper_descriptor'>\n",
      "<class 'method-wrapper'>\n",
      "<class 'ellipsis'>\n",
      "<class 'member_descriptor'>\n",
      "<class 'types.SimpleNamespace'>\n",
      "<class 'PyCapsule'>\n",
      "<class 'longrange_iterator'>\n",
      "<class 'cell'>\n",
      "<class 'instancemethod'>\n",
      "<class 'classmethod_descriptor'>\n",
      "<class 'method_descriptor'>\n",
      "<class 'callable_iterator'>\n",
      "<class 'iterator'>\n",
      "<class 'pickle.PickleBuffer'>\n",
      "<class 'coroutine'>\n",
      "<class 'coroutine_wrapper'>\n",
      "<class 'InterpreterID'>\n",
      "<class 'EncodingMap'>\n",
      "<class 'fieldnameiterator'>\n",
      "<class 'formatteriterator'>\n",
      "<class 'BaseException'>\n",
      "<class 'hamt'>\n",
      "<class 'hamt_array_node'>\n",
      "<class 'hamt_bitmap_node'>\n",
      "<class 'hamt_collision_node'>\n",
      "<class 'keys'>\n",
      "<class 'values'>\n",
      "<class 'items'>\n",
      "<class 'Context'>\n",
      "<class 'ContextVar'>\n",
      "<class 'Token'>\n",
      "<class 'Token.MISSING'>\n",
      "<class 'moduledef'>\n",
      "<class 'module'>\n",
      "<class 'filter'>\n",
      "<class 'map'>\n",
      "<class 'zip'>\n",
      "<class '_frozen_importlib._ModuleLock'>\n",
      "<class '_frozen_importlib._DummyModuleLock'>\n",
      "<class '_frozen_importlib._ModuleLockManager'>\n",
      "<class '_frozen_importlib.ModuleSpec'>\n",
      "<class '_frozen_importlib.BuiltinImporter'>\n",
      "<class 'classmethod'>\n",
      "<class '_frozen_importlib.FrozenImporter'>\n",
      "<class '_frozen_importlib._ImportLockContext'>\n",
      "<class '_thread._localdummy'>\n",
      "<class '_thread._local'>\n",
      "<class '_thread.lock'>\n",
      "<class '_thread.RLock'>\n",
      "<class '_frozen_importlib_external.WindowsRegistryFinder'>\n",
      "<class '_frozen_importlib_external._LoaderBasics'>\n",
      "<class '_frozen_importlib_external.FileLoader'>\n",
      "<class '_frozen_importlib_external._NamespacePath'>\n",
      "<class '_frozen_importlib_external._NamespaceLoader'>\n",
      "<class '_frozen_importlib_external.PathFinder'>\n",
      "<class '_frozen_importlib_external.FileFinder'>\n",
      "<class '_io._IOBase'>\n",
      "<class '_io._BytesIOBuffer'>\n",
      "<class '_io.IncrementalNewlineDecoder'>\n",
      "<class 'posix.ScandirIterator'>\n",
      "<class 'posix.DirEntry'>\n",
      "<class 'zipimport.zipimporter'>\n",
      "<class 'zipimport._ZipImportResourceReader'>\n",
      "<class 'codecs.Codec'>\n",
      "<class 'codecs.IncrementalEncoder'>\n",
      "<class 'codecs.IncrementalDecoder'>\n",
      "<class 'codecs.StreamReaderWriter'>\n",
      "<class 'codecs.StreamRecoder'>\n",
      "<class '_abc_data'>\n",
      "<class 'abc.ABC'>\n",
      "<class 'dict_itemiterator'>\n",
      "<class 'collections.abc.Hashable'>\n",
      "<class 'collections.abc.Awaitable'>\n",
      "<class 'collections.abc.AsyncIterable'>\n",
      "<class 'async_generator'>\n",
      "<class 'collections.abc.Iterable'>\n",
      "<class 'bytes_iterator'>\n",
      "<class 'bytearray_iterator'>\n",
      "<class 'dict_keyiterator'>\n",
      "<class 'dict_valueiterator'>\n",
      "<class 'list_iterator'>\n",
      "<class 'list_reverseiterator'>\n",
      "<class 'range_iterator'>\n",
      "<class 'set_iterator'>\n",
      "<class 'str_iterator'>\n",
      "<class 'tuple_iterator'>\n",
      "<class 'collections.abc.Sized'>\n",
      "<class 'collections.abc.Container'>\n",
      "<class 'collections.abc.Callable'>\n",
      "<class 'os._wrap_close'>\n",
      "<class '_sitebuiltins.Quitter'>\n",
      "<class '_sitebuiltins._Printer'>\n",
      "<class '_sitebuiltins._Helper'>\n",
      "<class 'types.DynamicClassAttribute'>\n",
      "<class 'types._GeneratorWrapper'>\n",
      "<class 'warnings.WarningMessage'>\n",
      "<class 'warnings.catch_warnings'>\n",
      "<class 'importlib.abc.Finder'>\n",
      "<class 'importlib.abc.Loader'>\n",
      "<class 'importlib.abc.ResourceReader'>\n",
      "<class 'operator.itemgetter'>\n",
      "<class 'operator.attrgetter'>\n",
      "<class 'operator.methodcaller'>\n",
      "<class 'itertools.accumulate'>\n",
      "<class 'itertools.combinations'>\n",
      "<class 'itertools.combinations_with_replacement'>\n",
      "<class 'itertools.cycle'>\n",
      "<class 'itertools.dropwhile'>\n",
      "<class 'itertools.takewhile'>\n",
      "<class 'itertools.islice'>\n",
      "<class 'itertools.starmap'>\n",
      "<class 'itertools.chain'>\n",
      "<class 'itertools.compress'>\n",
      "<class 'itertools.filterfalse'>\n",
      "<class 'itertools.count'>\n",
      "<class 'itertools.zip_longest'>\n",
      "<class 'itertools.permutations'>\n",
      "<class 'itertools.product'>\n",
      "<class 'itertools.repeat'>\n",
      "<class 'itertools.groupby'>\n",
      "<class 'itertools._grouper'>\n",
      "<class 'itertools._tee'>\n",
      "<class 'itertools._tee_dataobject'>\n",
      "<class 'reprlib.Repr'>\n",
      "<class 'collections.deque'>\n",
      "<class '_collections._deque_iterator'>\n",
      "<class '_collections._deque_reverse_iterator'>\n",
      "<class '_collections._tuplegetter'>\n",
      "<class 'collections._Link'>\n",
      "<class 'functools.partial'>\n",
      "<class 'functools._lru_cache_wrapper'>\n",
      "<class 'functools.partialmethod'>\n",
      "<class 'functools.singledispatchmethod'>\n",
      "<class 'functools.cached_property'>\n",
      "<class 'contextlib.ContextDecorator'>\n",
      "<class 'contextlib._GeneratorContextManagerBase'>\n",
      "<class 'contextlib._BaseExitStack'>\n",
      "<class '_weakrefset._IterationGuard'>\n",
      "<class '_weakrefset.WeakSet'>\n",
      "<class 'weakref.finalize._Info'>\n",
      "<class 'weakref.finalize'>\n",
      "<class 'pkgutil.ImpImporter'>\n",
      "<class 'pkgutil.ImpLoader'>\n",
      "<class 'runpy._TempModule'>\n",
      "<class 'runpy._ModifiedArgv0'>\n",
      "<class '__future__._Feature'>\n",
      "<class 'enum.auto'>\n",
      "<enum 'Enum'>\n",
      "<class 're.Pattern'>\n",
      "<class 're.Match'>\n",
      "<class '_sre.SRE_Scanner'>\n",
      "<class 'sre_parse.State'>\n",
      "<class 'sre_parse.SubPattern'>\n",
      "<class 'sre_parse.Tokenizer'>\n",
      "<class 're.Scanner'>\n",
      "<class '_json.Scanner'>\n",
      "<class '_json.Encoder'>\n",
      "<class 'json.decoder.JSONDecoder'>\n",
      "<class 'json.encoder.JSONEncoder'>\n",
      "<class 'threading._RLock'>\n",
      "<class 'threading.Condition'>\n",
      "<class 'threading.Semaphore'>\n",
      "<class 'threading.Event'>\n",
      "<class 'threading.Barrier'>\n",
      "<class 'threading.Thread'>\n",
      "<class 'select.poll'>\n",
      "<class 'select.epoll'>\n",
      "<class 'selectors.BaseSelector'>\n",
      "<class 'subprocess.CompletedProcess'>\n",
      "<class 'subprocess.Popen'>\n",
      "<class 'tokenize.Untokenizer'>\n",
      "<class 'traceback.FrameSummary'>\n",
      "<class 'traceback.TracebackException'>\n",
      "<class 'string.Template'>\n",
      "<class 'string.Formatter'>\n",
      "<class 'logging.LogRecord'>\n",
      "<class 'logging.PercentStyle'>\n",
      "<class 'logging.Formatter'>\n",
      "<class 'logging.BufferingFormatter'>\n",
      "<class 'logging.Filter'>\n",
      "<class 'logging.Filterer'>\n",
      "<class 'logging.PlaceHolder'>\n",
      "<class 'logging.Manager'>\n",
      "<class 'logging.LoggerAdapter'>\n",
      "<class 'zlib.Compress'>\n",
      "<class 'zlib.Decompress'>\n",
      "<class '_bz2.BZ2Compressor'>\n",
      "<class '_bz2.BZ2Decompressor'>\n",
      "<class '_lzma.LZMACompressor'>\n",
      "<class '_lzma.LZMADecompressor'>\n",
      "<class 'dis.Bytecode'>\n",
      "<class 'inspect.BlockFinder'>\n",
      "<class 'inspect._void'>\n",
      "<class 'inspect._empty'>\n",
      "<class 'inspect.Parameter'>\n",
      "<class 'inspect.BoundArguments'>\n",
      "<class 'inspect.Signature'>\n",
      "<class 'six._LazyDescr'>\n",
      "<class 'six._SixMetaPathImporter'>\n",
      "<class 'Struct'>\n",
      "<class 'unpack_iterator'>\n",
      "<class 'traitlets.utils.sentinel.Sentinel'>\n",
      "<class 'traitlets.traitlets._SimpleTest'>\n",
      "<class 'traitlets.traitlets.link'>\n",
      "<class 'traitlets.traitlets.directional_link'>\n",
      "<class 'traitlets.traitlets.BaseDescriptor'>\n",
      "<class 'traitlets.traitlets._CallbackWrapper'>\n",
      "<class 'traitlets.traitlets.HasDescriptors'>\n",
      "<class 'traitlets.traitlets.ForwardDeclaredMixin'>\n",
      "<class 'decorator.FunctionMaker'>\n",
      "<class '_ast.AST'>\n",
      "<class 'gettext.NullTranslations'>\n",
      "<class 'argparse._AttributeHolder'>\n",
      "<class 'argparse.HelpFormatter._Section'>\n",
      "<class 'argparse.HelpFormatter'>\n",
      "<class 'argparse.FileType'>\n",
      "<class 'argparse._ActionsContainer'>\n",
      "<class 'ast.NodeVisitor'>\n",
      "<class '_sha512.sha384'>\n",
      "<class '_sha512.sha512'>\n",
      "<class '_random.Random'>\n",
      "<class 'traitlets.config.loader.ConfigLoader'>\n",
      "<class 'textwrap.TextWrapper'>\n",
      "<class 'pprint._safe_key'>\n",
      "<class 'pprint.PrettyPrinter'>\n",
      "<class 'urllib.parse._ResultMixinStr'>\n",
      "<class 'urllib.parse._ResultMixinBytes'>\n",
      "<class 'urllib.parse._NetlocResultMixinBase'>\n",
      "<class 'pydoc.Doc'>\n",
      "<class 'pydoc.Helper'>\n",
      "<class 'pydoc.ModuleScanner'>\n",
      "<class 'bdb.Bdb'>\n",
      "<class 'bdb.Breakpoint'>\n",
      "<class 'IPython.utils.coloransi.TermColors'>\n",
      "<class 'IPython.utils.coloransi.InputTermColors'>\n",
      "<class 'IPython.utils.coloransi.NoColors'>\n",
      "<class 'IPython.utils.coloransi.ColorScheme'>\n",
      "<class 'pygments.util.Future'>\n",
      "<class 'IPython.core.excolors.Deprec'>\n",
      "<class 'cmd.Cmd'>\n",
      "<class 'codeop.Compile'>\n",
      "<class 'codeop.CommandCompiler'>\n",
      "<class 'code.InteractiveInterpreter'>\n",
      "<class 'IPython.core.debugger.Tracer'>\n",
      "<class 'pexpect.expect.Expecter'>\n",
      "<class 'pexpect.expect.searcher_string'>\n",
      "<class 'pexpect.expect.searcher_re'>\n",
      "<class 'ptyprocess.ptyprocess.PtyProcess'>\n",
      "<class 'pexpect.spawnbase._NullCoder'>\n",
      "<class 'pexpect.spawnbase.SpawnBase'>\n",
      "<class 'shlex.shlex'>\n",
      "<class 'IPython.utils._process_posix.ProcessHandler'>\n",
      "<class 'IPython.core.crashhandler.CrashHandler'>\n",
      "<class 'tempfile._RandomNameSequence'>\n",
      "<class 'tempfile._TemporaryFileCloser'>\n",
      "<class 'tempfile._TemporaryFileWrapper'>\n",
      "<class 'tempfile.SpooledTemporaryFile'>\n",
      "<class 'tempfile.TemporaryDirectory'>\n",
      "<class '_hashlib.HASH'>\n",
      "<class '_blake2.blake2b'>\n",
      "<class '_blake2.blake2s'>\n",
      "<class '_sha3.sha3_224'>\n",
      "<class '_sha3.sha3_256'>\n",
      "<class '_sha3.sha3_384'>\n",
      "<class '_sha3.sha3_512'>\n",
      "<class '_sha3.shake_128'>\n",
      "<class '_sha3.shake_256'>\n",
      "<class 'pathlib._Flavour'>\n",
      "<class 'pathlib._Accessor'>\n",
      "<class 'pathlib._Selector'>\n",
      "<class 'pathlib._TerminatingSelector'>\n",
      "<class 'pathlib.PurePath'>\n",
      "<class 'IPython.core.magic_arguments.ArgDecorator'>\n",
      "<class 'typing._Final'>\n",
      "<class 'typing._Immutable'>\n",
      "<class 'typing.Generic'>\n",
      "<class 'typing._TypingEmpty'>\n",
      "<class 'typing._TypingEllipsis'>\n",
      "<class 'typing.NamedTuple'>\n",
      "<class 'typing.io'>\n",
      "<class 'typing.re'>\n",
      "<class 'mimetypes.MimeTypes'>\n",
      "<class 'IPython.core.display.DisplayHandle'>\n",
      "<class 'IPython.core.display.DisplayObject'>\n",
      "<class 'datetime.date'>\n",
      "<class 'datetime.timedelta'>\n",
      "<class 'datetime.time'>\n",
      "<class 'datetime.tzinfo'>\n",
      "<class 'IPython.lib.pretty._PrettyPrinterBase'>\n",
      "<class 'IPython.lib.pretty.Printable'>\n",
      "<class 'IPython.lib.pretty.GroupQueue'>\n",
      "<class 'pygments.filter.Filter'>\n",
      "<class 'pygments.lexer.Lexer'>\n",
      "<class 'pygments.lexer._inherit'>\n",
      "<class 'pygments.lexer._PseudoMatch'>\n",
      "<class 'pygments.lexer._This'>\n",
      "<class 'pygments.lexer.default'>\n",
      "<class 'pygments.lexer.LexerContext'>\n",
      "<class 'pygments.formatter.Formatter'>\n",
      "<class 'IPython.core.inputtransformer2.PromptStripper'>\n",
      "<class 'IPython.core.inputtransformer2.TokenTransformBase'>\n",
      "<class 'IPython.core.inputtransformer2.TransformerManager'>\n",
      "<class 'IPython.core.magic.Bunch'>\n",
      "<class 'IPython.core.magic.MagicAlias'>\n",
      "<class '_pickle.Unpickler'>\n",
      "<class '_pickle.Pickler'>\n",
      "<class '_pickle.Pdata'>\n",
      "<class '_pickle.PicklerMemoProxy'>\n",
      "<class '_pickle.UnpicklerMemoProxy'>\n",
      "<class 'pickle._Framer'>\n",
      "<class 'pickle._Unframer'>\n",
      "<class 'pickle._Pickler'>\n",
      "<class 'pickle._Unpickler'>\n",
      "<class 'pickleshare.PickleShareLink'>\n",
      "<class 'IPython.core.autocall.IPyAutocall'>\n",
      "<class 'IPython.core.macro.Macro'>\n",
      "<class 'IPython.core.splitinput.LineInfo'>\n",
      "<class 'IPython.core.alias.Alias'>\n",
      "<class 'IPython.core.builtin_trap.__BuiltinUndefined'>\n",
      "<class 'IPython.core.builtin_trap.__HideBuiltin'>\n",
      "<class 'IPython.core.events.EventManager'>\n",
      "<class 'IPython.core.displayhook.CapturingDisplayHook'>\n",
      "<class 'IPython.utils.sentinel.Sentinel'>\n",
      "<class 'IPython.core.formatters.FormatterABC'>\n",
      "<class 'sqlite3.Row'>\n",
      "<class 'sqlite3.Cursor'>\n",
      "<class 'sqlite3.Connection'>\n",
      "<class 'sqlite3Node'>\n",
      "<class 'sqlite3.Cache'>\n",
      "<class 'sqlite3.Statement'>\n",
      "<class 'sqlite3.PrepareProtocol'>\n",
      "<class 'IPython.core.history.DummyDB'>\n",
      "<class 'IPython.core.logger.Logger'>\n",
      "<class 'IPython.lib.display.IFrame'>\n",
      "<class 'IPython.lib.display.FileLink'>\n",
      "<class 'IPython.utils.capture.RichOutput'>\n",
      "<class 'IPython.utils.capture.CapturedIO'>\n",
      "<class 'IPython.utils.capture.capture_output'>\n",
      "<class 'IPython.utils.io.IOStream'>\n",
      "<class 'IPython.utils.io.Tee'>\n",
      "<class 'IPython.core.hooks.CommandChainDispatcher'>\n",
      "<class 'IPython.utils.strdispatch.StrDispatch'>\n",
      "<class 'IPython.utils.syspathcontext.appended_to_syspath'>\n",
      "<class 'IPython.utils.syspathcontext.prepended_to_syspath'>\n",
      "<class 'IPython.utils.tempdir.NamedFileInTemporaryDirectory'>\n",
      "<class 'IPython.utils.contexts.preserve_keys'>\n",
      "<class 'IPython.utils.contexts.NoOpContext'>\n",
      "<class 'IPython.core.async_helpers._AsyncIORunner'>\n",
      "<class 'IPython.core.interactiveshell.DummyMod'>\n",
      "<class 'IPython.core.interactiveshell.ExecutionInfo'>\n",
      "<class 'IPython.core.interactiveshell.ExecutionResult'>\n",
      "<class 'IPython.core.interactiveshell.InteractiveShellABC'>\n",
      "<class 'concurrent.futures._base._Waiter'>\n",
      "<class 'concurrent.futures._base._AcquireFutures'>\n",
      "<class 'concurrent.futures._base.Future'>\n",
      "<class 'concurrent.futures._base.Executor'>\n",
      "<class '_socket.socket'>\n",
      "<class '_ssl._SSLContext'>\n",
      "<class '_ssl._SSLSocket'>\n",
      "<class '_ssl.MemoryBIO'>\n",
      "<class '_ssl.Session'>\n",
      "<class 'ssl.SSLObject'>\n",
      "<class 'asyncio.coroutines.CoroWrapper'>\n",
      "<class 'asyncio.events.Handle'>\n",
      "<class 'asyncio.events.AbstractServer'>\n",
      "<class 'asyncio.events.AbstractEventLoop'>\n",
      "<class 'asyncio.events.AbstractEventLoopPolicy'>\n",
      "<class '_asyncio.Future'>\n",
      "<class '_asyncio.FutureIter'>\n",
      "<class 'TaskStepMethWrapper'>\n",
      "<class 'TaskWakeupMethWrapper'>\n",
      "<class '_RunningLoopHolder'>\n",
      "<class 'asyncio.futures.Future'>\n",
      "<class 'asyncio.protocols.BaseProtocol'>\n",
      "<class 'asyncio.transports.BaseTransport'>\n",
      "<class 'asyncio.sslproto._SSLPipe'>\n",
      "<class 'asyncio.locks._ContextManager'>\n",
      "<class 'asyncio.locks._ContextManagerMixin'>\n",
      "<class 'asyncio.locks.Event'>\n",
      "<class 'asyncio.trsock.TransportSocket'>\n",
      "<class 'asyncio.queues.Queue'>\n",
      "<class 'asyncio.streams.StreamWriter'>\n",
      "<class 'asyncio.streams.StreamReader'>\n",
      "<class 'asyncio.subprocess.Process'>\n",
      "<class 'asyncio.unix_events.AbstractChildWatcher'>\n",
      "<class '_queue.SimpleQueue'>\n",
      "<class 'queue.Queue'>\n",
      "<class 'queue._PySimpleQueue'>\n",
      "<class 'prompt_toolkit.cache.SimpleCache'>\n",
      "<class 'prompt_toolkit.utils.Event'>\n",
      "<class 'prompt_toolkit.utils.DummyContext'>\n",
      "<class 'prompt_toolkit.eventloop.base.EventLoop'>\n",
      "<class 'prompt_toolkit.eventloop.context.context'>\n",
      "<class 'prompt_toolkit.eventloop.context.TaskLocal'>\n",
      "<class 'prompt_toolkit.eventloop.future.Future'>\n",
      "<class 'prompt_toolkit.eventloop.coroutine._FutureRef'>\n",
      "<class 'prompt_toolkit.eventloop.async_generator.AsyncGeneratorItem'>\n",
      "<class 'prompt_toolkit.eventloop.event.Event'>\n",
      "<class 'prompt_toolkit.enums.EditingMode'>\n",
      "<class 'prompt_toolkit.filters.base.Filter'>\n",
      "<class 'prompt_toolkit.auto_suggest.Suggestion'>\n",
      "<class 'prompt_toolkit.auto_suggest.AutoSuggest'>\n",
      "<class 'prompt_toolkit.selection.SelectionType'>\n",
      "<class 'prompt_toolkit.selection.PasteMode'>\n",
      "<class 'prompt_toolkit.selection.SelectionState'>\n",
      "<class 'prompt_toolkit.clipboard.base.ClipboardData'>\n",
      "<class 'prompt_toolkit.clipboard.base.Clipboard'>\n",
      "<class 'prompt_toolkit.completion.base.Completion'>\n",
      "<class 'prompt_toolkit.completion.base.CompleteEvent'>\n",
      "<class 'prompt_toolkit.completion.base.Completer'>\n",
      "<class 'prompt_toolkit.document._DocumentCache'>\n",
      "<class 'prompt_toolkit.document.Document'>\n",
      "<class 'prompt_toolkit.history.History'>\n",
      "<class 'prompt_toolkit.keys.Keys'>\n",
      "<class 'prompt_toolkit.key_binding.key_bindings._Binding'>\n",
      "<class 'prompt_toolkit.key_binding.key_bindings.KeyBindingsBase'>\n",
      "<class 'prompt_toolkit.key_binding.vi_state.InputMode'>\n",
      "<class 'prompt_toolkit.key_binding.vi_state.CharacterFind'>\n",
      "<class 'prompt_toolkit.key_binding.vi_state.ViState'>\n",
      "<class 'prompt_toolkit.search.SearchDirection'>\n",
      "<class 'prompt_toolkit.search.SearchState'>\n",
      "<class 'prompt_toolkit.validation.Validator'>\n",
      "<class 'prompt_toolkit.buffer.ValidationState'>\n",
      "<class 'prompt_toolkit.buffer.CompletionState'>\n",
      "<class 'prompt_toolkit.buffer.YankNthArgState'>\n",
      "<class 'prompt_toolkit.buffer.Buffer'>\n",
      "<class 'prompt_toolkit.input.base.Input'>\n",
      "<class 'prompt_toolkit.key_binding.key_processor.KeyPress'>\n",
      "<class 'prompt_toolkit.key_binding.key_processor.KeyProcessor'>\n",
      "<class 'prompt_toolkit.key_binding.key_processor.KeyPressEvent'>\n",
      "<class 'prompt_toolkit.layout.screen.Char'>\n",
      "<class 'prompt_toolkit.layout.screen.Screen'>\n",
      "<class 'prompt_toolkit.layout.screen.WritePosition'>\n",
      "<class 'prompt_toolkit.output.base.Output'>\n",
      "<class 'prompt_toolkit.output.color_depth.ColorDepth'>\n",
      "<class 'array.array'>\n",
      "<class 'prompt_toolkit.styles.base.BaseStyle'>\n",
      "<class 'prompt_toolkit.styles.style.Priority'>\n",
      "<class 'prompt_toolkit.styles.style_transformation.StyleTransformation'>\n",
      "<class 'prompt_toolkit.formatted_text.base.Template'>\n",
      "<class 'prompt_toolkit.formatted_text.ansi.ANSI'>\n",
      "<class 'xml.dom.Node'>\n",
      "<class 'xml.dom.UserDataHandler'>\n",
      "<class 'xml.dom.NodeFilter.NodeFilter'>\n",
      "<class 'xml.dom.xmlbuilder.Options'>\n",
      "<class 'xml.dom.xmlbuilder.DOMBuilder'>\n",
      "<class 'xml.dom.xmlbuilder.DOMEntityResolver'>\n",
      "<class 'xml.dom.xmlbuilder.DOMInputSource'>\n",
      "<class 'xml.dom.xmlbuilder.DOMBuilderFilter'>\n",
      "<class 'xml.dom.xmlbuilder.DocumentLS'>\n",
      "<class 'xml.dom.xmlbuilder.DOMImplementationLS'>\n",
      "<class 'xml.dom.minidom.NamedNodeMap'>\n",
      "<class 'xml.dom.minidom.TypeInfo'>\n",
      "<class 'xml.dom.minidom.Childless'>\n",
      "<class 'xml.dom.minidom.ReadOnlySequentialNamedNodeMap'>\n",
      "<class 'xml.dom.minidom.Identified'>\n",
      "<class 'xml.dom.minidom.ElementInfo'>\n",
      "<class 'prompt_toolkit.formatted_text.html.HTML'>\n",
      "<class 'prompt_toolkit.formatted_text.pygments.PygmentsTokens'>\n",
      "<class 'prompt_toolkit.mouse_events.MouseEventType'>\n",
      "<class 'prompt_toolkit.mouse_events.MouseEvent'>\n",
      "<class 'prompt_toolkit.lexers.base.Lexer'>\n",
      "<class 'prompt_toolkit.lexers.pygments.SyntaxSync'>\n",
      "<class 'prompt_toolkit.layout.processors.Processor'>\n",
      "<class 'prompt_toolkit.layout.processors.TransformationInput'>\n",
      "<class 'prompt_toolkit.layout.processors.Transformation'>\n",
      "<class 'prompt_toolkit.layout.controls.UIControl'>\n",
      "<class 'prompt_toolkit.layout.controls.UIContent'>\n",
      "<class 'prompt_toolkit.layout.dimension.Dimension'>\n",
      "<class 'prompt_toolkit.layout.margins.Margin'>\n",
      "<class 'prompt_toolkit.layout.containers.Container'>\n",
      "<class 'prompt_toolkit.layout.containers.VerticalAlign'>\n",
      "<class 'prompt_toolkit.layout.containers.HorizontalAlign'>\n",
      "<class 'prompt_toolkit.layout.containers.Float'>\n",
      "<class 'prompt_toolkit.layout.containers.WindowRenderInfo'>\n",
      "<class 'prompt_toolkit.layout.containers.ScrollOffsets'>\n",
      "<class 'prompt_toolkit.layout.containers.ColorColumn'>\n",
      "<class 'prompt_toolkit.layout.containers.WindowAlign'>\n",
      "<class 'prompt_toolkit.layout.layout.Layout'>\n",
      "<class 'prompt_toolkit.layout.mouse_handlers.MouseHandlers'>\n",
      "<class 'prompt_toolkit.renderer.CPR_Support'>\n",
      "<class 'prompt_toolkit.renderer.Renderer'>\n",
      "<class 'prompt_toolkit.input.vt100_parser._Flush'>\n",
      "<class 'prompt_toolkit.input.vt100_parser.Vt100Parser'>\n",
      "<class 'prompt_toolkit.key_binding.bindings.vi.TextObjectType'>\n",
      "<class 'prompt_toolkit.key_binding.bindings.vi.TextObject'>\n",
      "<class 'prompt_toolkit.key_binding.emacs_state.EmacsState'>\n",
      "<class 'prompt_toolkit.application.application.Application'>\n",
      "<class 'prompt_toolkit.widgets.toolbars.SystemToolbar'>\n",
      "<class 'prompt_toolkit.widgets.toolbars.ArgToolbar'>\n",
      "<class 'prompt_toolkit.widgets.toolbars.SearchToolbar'>\n",
      "<class 'prompt_toolkit.widgets.toolbars.CompletionsToolbar'>\n",
      "<class 'prompt_toolkit.widgets.toolbars.ValidationToolbar'>\n",
      "<class 'prompt_toolkit.widgets.base.Border'>\n",
      "<class 'prompt_toolkit.widgets.base.TextArea'>\n",
      "<class 'prompt_toolkit.widgets.base.Label'>\n",
      "<class 'prompt_toolkit.widgets.base.Button'>\n",
      "<class 'prompt_toolkit.widgets.base.Frame'>\n",
      "<class 'prompt_toolkit.widgets.base.Shadow'>\n",
      "<class 'prompt_toolkit.widgets.base.Box'>\n",
      "<class 'prompt_toolkit.widgets.base.Checkbox'>\n",
      "<class 'prompt_toolkit.widgets.base.RadioList'>\n",
      "<class 'prompt_toolkit.widgets.base.VerticalLine'>\n",
      "<class 'prompt_toolkit.widgets.base.HorizontalLine'>\n",
      "<class 'prompt_toolkit.widgets.base.ProgressBar'>\n",
      "<class 'prompt_toolkit.widgets.dialogs.Dialog'>\n",
      "<class 'prompt_toolkit.widgets.menus.MenuContainer'>\n",
      "<class 'prompt_toolkit.widgets.menus.MenuItem'>\n",
      "<class 'prompt_toolkit.shortcuts.progress_bar.formatters.Formatter'>\n",
      "<class 'prompt_toolkit.shortcuts.progress_bar.base.ProgressBar'>\n",
      "<class 'prompt_toolkit.shortcuts.progress_bar.base.ProgressBarCounter'>\n",
      "<class 'prompt_toolkit.shortcuts.prompt.CompleteStyle'>\n",
      "<class 'prompt_toolkit.shortcuts.prompt.PromptSession'>\n",
      "<class 'prompt_toolkit.patch_stdout.StdoutProxy'>\n",
      "<class 'pygments.style.Style'>\n",
      "<class 'parso.tree.NodeOrLeaf'>\n",
      "<class 'parso.python.token.TokenType'>\n",
      "<class 'parso.python.token.TokenTypes'>\n",
      "<class 'parso.python.tokenize.FStringNode'>\n",
      "<class 'parso.pgen2.grammar_parser.GrammarParser'>\n",
      "<class 'parso.pgen2.grammar_parser.NFAArc'>\n",
      "<class 'parso.pgen2.grammar_parser.NFAState'>\n",
      "<class 'parso.pgen2.generator.Grammar'>\n",
      "<class 'parso.pgen2.generator.DFAPlan'>\n",
      "<class 'parso.pgen2.generator.DFAState'>\n",
      "<class 'parso.pgen2.generator.ReservedString'>\n",
      "<class 'parso.parser.StackNode'>\n",
      "<class 'parso.parser.BaseParser'>\n",
      "<class 'difflib.SequenceMatcher'>\n",
      "<class 'difflib.Differ'>\n",
      "<class 'difflib.HtmlDiff'>\n",
      "<class 'parso.python.prefix.PrefixPart'>\n",
      "<class 'parso.python.tree.DocstringMixin'>\n",
      "<class 'parso.python.tree.PythonMixin'>\n",
      "<class 'parso.python.tree._StringComparisonMixin'>\n",
      "<class 'parso.python.diff.DiffParser'>\n",
      "<class 'parso.python.diff._NodesTreeNode'>\n",
      "<class 'parso.python.diff._NodesTree'>\n",
      "<class 'parso.cache._NodeCacheItem'>\n",
      "<class 'parso.normalizer.HackClass'>\n",
      "<class 'parso.normalizer.NormalizerConfig'>\n",
      "<class 'parso.normalizer.Issue'>\n",
      "<class 'parso.normalizer.Rule'>\n",
      "<class 'parso.python.errors._Context'>\n",
      "<class 'parso.python.pep8.IndentationTypes'>\n",
      "<class 'parso.python.pep8.IndentationNode'>\n",
      "<class 'parso.file_io.FileIO'>\n",
      "<class 'parso.grammar.Grammar'>\n",
      "<class 'jedi.file_io.AbstractFolderIO'>\n",
      "<class 'jedi.file_io.FileIOFolderMixin'>\n",
      "<class 'jedi._compatibility.DummyFile'>\n",
      "<class 'jedi._compatibility.ImplicitNSInfo'>\n",
      "<class 'jedi.debug.Fore'>\n",
      "<class 'jedi.common.value.BaseValue'>\n",
      "<class 'jedi.common.value.BaseValueSet'>\n",
      "<class 'jedi.inference.utils.PushBackIterator'>\n",
      "<class 'jedi.inference.base_value.HelperValueMixin'>\n",
      "<class 'jedi.inference.base_value.ContextualizedNode'>\n",
      "<class 'jedi.inference.recursion.RecursionDetector'>\n",
      "<class 'jedi.inference.recursion.ExecutionRecursionDetector'>\n",
      "<class 'jedi.inference.flow_analysis.Status'>\n",
      "<class 'jedi.inference.lazy_value.AbstractLazyValue'>\n",
      "<class 'jedi.inference.names.AbstractNameDefinition'>\n",
      "<class 'jedi.inference.names.ValueNameMixin'>\n",
      "<class 'jedi.inference.names._ParamMixin'>\n",
      "<class 'jedi.inference.names.NameWrapper'>\n",
      "<class 'jedi.inference.filters.AbstractFilter'>\n",
      "<class 'jedi.inference.filters.FilterWrapper'>\n",
      "<class 'jedi.inference.filters.MergedFilter'>\n",
      "<class 'jedi.inference.filters._AttributeOverwriteMixin'>\n",
      "<class 'jedi.inference.compiled.access.AccessPath'>\n",
      "<class 'jedi.inference.compiled.access.DirectObjectAccess'>\n",
      "<class 'jedi.inference.signature._SignatureMixin'>\n",
      "<class 'jedi.inference.context.AbstractContext'>\n",
      "<class 'jedi.inference.context.TreeContextMixin'>\n",
      "<class 'jedi.inference.compiled.value.CheckAttribute'>\n",
      "<class 'jedi.inference.analysis.Error'>\n",
      "<class 'jedi.inference.value.module.SubModuleDictMixin'>\n",
      "<class 'jedi.inference.value.iterable.IterableMixin'>\n",
      "<class 'jedi.inference.value.iterable.ComprehensionMixin'>\n",
      "<class 'jedi.inference.value.iterable._DictMixin'>\n",
      "<class 'jedi.inference.arguments._AbstractArgumentsMixin'>\n",
      "<class 'jedi.inference.gradual.generics._AbstractGenericManager'>\n",
      "<class 'jedi.inference.value.function.FunctionMixin'>\n",
      "<class 'jedi.plugins._PluginManager'>\n",
      "<class 'jedi.inference.value.klass.ClassMixin'>\n",
      "<class 'jedi.inference.value.instance.LazyInstanceClassName'>\n",
      "<class 'jedi.inference.gradual.base._TypeVarFilter'>\n",
      "<class 'jedi.inference.gradual.base._LazyGenericBaseClass'>\n",
      "<class 'jedi.inference.imports.ModuleCache'>\n",
      "<class 'jedi.inference.imports.Importer'>\n",
      "<class 'jedi.inference.InferenceState'>\n",
      "<class 'jedi.api.keywords.Keyword'>\n",
      "<class 'jedi.api.classes.BaseDefinition'>\n",
      "<class 'jedi.api.classes._Help'>\n",
      "<class 'jedi.api.interpreter.NamespaceObject'>\n",
      "<class 'jedi.api.helpers.CallDetails'>\n",
      "<class 'jedi.api.completion.Completion'>\n",
      "<class 'filecmp.dircmp'>\n",
      "<class 'jedi.inference.compiled.subprocess._InferenceStateProcess'>\n",
      "<class 'jedi.inference.compiled.subprocess.CompiledSubprocess'>\n",
      "<class 'jedi.inference.compiled.subprocess.Listener'>\n",
      "<class 'jedi.inference.compiled.subprocess.AccessHandle'>\n",
      "<class 'jedi.api.environment._BaseEnvironment'>\n",
      "<class 'jedi.api.environment._SameEnvironmentMixin'>\n",
      "<class 'jedi.api.project.Project'>\n",
      "<class 'jedi.api.Script'>\n",
      "<class 'jedi.plugins.stdlib.PartialObject'>\n",
      "<class 'IPython.core.completer._FakeJediCompletion'>\n",
      "<class 'IPython.core.completer.Completion'>\n",
      "<class 'IPython.core.completer.CompletionSplitter'>\n",
      "<class 'IPython.terminal.prompts.Prompts'>\n",
      "<class 'IPython.core.magics.basic.MagicsDisplay'>\n",
      "<class 'email.charset.Charset'>\n",
      "<class 'email.header.Header'>\n",
      "<class 'email.header._ValueFormatter'>\n",
      "<class 'calendar._localized_month'>\n",
      "<class 'calendar._localized_day'>\n",
      "<class 'calendar.Calendar'>\n",
      "<class 'calendar.different_locale'>\n",
      "<class 'email._parseaddr.AddrlistClass'>\n",
      "<class 'email._policybase._PolicyBase'>\n",
      "<class 'email.feedparser.BufferedSubFile'>\n",
      "<class 'email.feedparser.FeedParser'>\n",
      "<class 'email.parser.Parser'>\n",
      "<class 'email.parser.BytesParser'>\n",
      "<class 'email.message.Message'>\n",
      "<class 'http.client.HTTPConnection'>\n",
      "<class 'urllib.request.Request'>\n",
      "<class 'urllib.request.OpenerDirector'>\n",
      "<class 'urllib.request.BaseHandler'>\n",
      "<class 'urllib.request.HTTPPasswordMgr'>\n",
      "<class 'urllib.request.AbstractBasicAuthHandler'>\n",
      "<class 'urllib.request.AbstractDigestAuthHandler'>\n",
      "<class 'urllib.request.URLopener'>\n",
      "<class 'urllib.request.ftpwrapper'>\n",
      "<class 'timeit.Timer'>\n",
      "<class '_lsprof.Profiler'>\n",
      "<class 'profile._Utils'>\n",
      "<class 'profile.Profile.fake_code'>\n",
      "<class 'profile.Profile.fake_frame'>\n",
      "<class 'profile.Profile'>\n",
      "<class 'pstats.Stats'>\n",
      "<class 'pstats.TupleComp'>\n",
      "<class 'IPython.core.magics.execution.TimeitResult'>\n",
      "<class 'IPython.lib.backgroundjobs.BackgroundJobManager'>\n",
      "<class 'CArgObject'>\n",
      "<class '_ctypes.CThunkObject'>\n",
      "<class '_ctypes._CData'>\n",
      "<class '_ctypes.CField'>\n",
      "<class '_ctypes.DictRemover'>\n",
      "<class '_ctypes.StructParam_Type'>\n",
      "<class 'ctypes.CDLL'>\n",
      "<class 'ctypes.LibraryLoader'>\n",
      "<class 'cython_function_or_method'>\n",
      "<class 'zmq.backend.cython.message.MessageTracker'>\n",
      "<class 'zmq.backend.cython.message.Frame'>\n",
      "<class 'zmq.backend.cython.context.Context'>\n",
      "<class 'zmq.backend.cython.socket.Socket'>\n",
      "<class 'zmq.sugar.attrsettr.AttributeSetter'>\n",
      "<class 'zmq.sugar.poll.Poller'>\n",
      "<class 'decimal.Decimal'>\n",
      "<class 'decimal.Context'>\n",
      "<class 'decimal.SignalDictMixin'>\n",
      "<class 'decimal.ContextManager'>\n",
      "<class 'numbers.Number'>\n",
      "<class 'simplejson.raw_json.RawJSON'>\n",
      "<class 'simplejson._speedups.Scanner'>\n",
      "<class 'simplejson._speedups.Encoder'>\n",
      "<class 'simplejson.decoder.JSONDecoder'>\n",
      "<class 'simplejson.encoder.JSONEncoder'>\n",
      "<class 'zmq.sugar.tracker.MessageTracker'>\n",
      "<class 'zmq.sugar.stopwatch.Stopwatch'>\n",
      "<class 'distutils.log.Log'>\n",
      "<class 'distutils.util.Mixin2to3'>\n",
      "<class 'abc._NewBase'>\n",
      "<class 'abc._NewBase'>\n",
      "<class 'abc._NewBase'>\n",
      "<class 'jupyter_client.blocking.channels.ZMQSocketChannel'>\n",
      "<class 'zmq.asyncio._AsyncIO'>\n",
      "<class 'jupyter_client.asynchronous.channels.ZMQSocketChannel'>\n",
      "<class 'uuid.UUID'>\n",
      "<class 'logging.handlers.QueueListener'>\n",
      "<class 'tornado.util.GzipDecompressor'>\n",
      "<class 'tornado.util.Configurable'>\n",
      "<class 'tornado.util.ArgReplacer'>\n",
      "<class '_curses.window'>\n",
      "<class 'tornado.stack_context.StackContext'>\n",
      "<class 'tornado.stack_context.ExceptionStackContext'>\n",
      "<class 'tornado.stack_context.NullContext'>\n",
      "<class 'tornado.concurrent._TracebackLogger'>\n",
      "<class 'tornado.concurrent.DummyExecutor'>\n",
      "<class 'tornado.platform.interface.Waker'>\n",
      "<class 'concurrent.futures.thread._WorkItem'>\n",
      "<class 'tornado.ioloop._Timeout'>\n",
      "<class 'tornado.ioloop.PeriodicCallback'>\n",
      "<class 'tornado.gen.WaitIterator'>\n",
      "<class 'tornado.gen.YieldPoint'>\n",
      "<class 'tornado.gen._NullFuture'>\n",
      "<class 'tornado.gen.Runner'>\n",
      "<class 'zmq.eventloop.zmqstream.ZMQStream'>\n",
      "<class 'imp.NullImporter'>\n",
      "<class 'imp._HackedGetData'>\n",
      "<class 'hmac.HMAC'>\n",
      "<class 'dateutil._common.weekday'>\n",
      "<class 'dateutil.relativedelta.relativedelta'>\n",
      "<class 'dateutil.tz.tz._ttinfo'>\n",
      "<class 'dateutil.tz.tz._tzfile'>\n",
      "<class 'dateutil.tz.tz._tzicalvtzcomp'>\n",
      "<class 'dateutil.tz.tz.tzical'>\n",
      "<class 'dateutil.tz.tz.__get_gettz.<locals>.GettzFunc'>\n",
      "<class 'dateutil.tz.tz._ContextWrapper'>\n",
      "<class 'dateutil.parser._parser._timelex'>\n",
      "<class 'dateutil.parser._parser._resultbase'>\n",
      "<class 'dateutil.parser._parser.parserinfo'>\n",
      "<class 'dateutil.parser._parser.parser'>\n",
      "<class 'dateutil.parser._parser._tzparser'>\n",
      "<class 'dateutil.parser.isoparser.isoparser'>\n",
      "<class '_strptime.LocaleTime'>\n",
      "<class 'jupyter_client.adapter.Adapter'>\n",
      "<class 'jupyter_client.session.Message'>\n",
      "<class 'ipykernel.iostream.IOPubThread'>\n",
      "<class 'ipykernel.iostream.BackgroundSocket'>\n",
      "<class 'tornado.locks._TimeoutGarbageCollector'>\n",
      "<class 'tornado.locks.Event'>\n",
      "<class 'tornado.locks._ReleasingContextManager'>\n",
      "<class 'tornado.locks.Lock'>\n",
      "<class 'tornado.queues._QueueIterator'>\n",
      "<class 'tornado.queues.Queue'>\n",
      "<class 'ipykernel.displayhook.ZMQDisplayHook'>\n",
      "<class 'distutils.version.Version'>\n",
      "<class 'ipykernel.pickleutil.CannedObject'>\n"
     ]
    }
   ],
   "source": [
    "for i in object.__subclasses__():\n",
    "    print(i)"
   ]
  },
  {
   "cell_type": "markdown",
   "metadata": {},
   "source": [
    "#### **How To List Modified Files Between Specific Range Of Days?**\n",
    "**Here, I list modified files Apr 08 to Apr 10.**"
   ]
  },
  {
   "cell_type": "code",
   "execution_count": 4,
   "metadata": {},
   "outputs": [
    {
     "name": "stdout",
     "output_type": "stream",
     "text": [
      "/home/mana/Work/map.txt\n",
      "/home/mana/Work/log_report.csv\n"
     ]
    }
   ],
   "source": [
    "%%bash\n",
    "\n",
    "find /home/mana/Work/ -type f -newermt 20200408 \\! \\\n",
    "-newermt 20200410"
   ]
  },
  {
   "cell_type": "code",
   "execution_count": 5,
   "metadata": {},
   "outputs": [
    {
     "name": "stdout",
     "output_type": "stream",
     "text": [
      "08-04-2020 => /home/mana/Work/map.txt\n",
      "08-04-2020 => /home/mana/Work/log_report.csv\n"
     ]
    }
   ],
   "source": [
    "%%python3\n",
    "\n",
    "from datetime import datetime\n",
    "from pathlib import Path\n",
    "\n",
    "start_day = datetime.strptime('08/4/2020 00',\"%d/%m/%Y %H\")\n",
    "end_day = datetime.strptime('10/4/2020 00',\"%d/%m/%Y %H\")\n",
    "files = Path('/home/mana/Work/')\n",
    "ftime = [(datetime.fromtimestamp(i.stat()[-2]),i) \n",
    "         for i in files.iterdir() if i.is_file()]\n",
    "\n",
    "for x,y in ftime:\n",
    "    if start_day < x < end_day:\n",
    "        print(f'{x:%d-%m-%Y} => {y}')"
   ]
  },
  {
   "cell_type": "code",
   "execution_count": 28,
   "metadata": {},
   "outputs": [
    {
     "name": "stdout",
     "output_type": "stream",
     "text": [
      "     1.Apple Apple Apple.\n",
      "     2.Watermelon.\n",
      "     3.Bannana.\n",
      "     4.Orange.\n",
      "     5.lemon.\n"
     ]
    }
   ],
   "source": [
    "%%bash\n",
    "\n",
    "nl -s \".\" ~/Work/fruit.txt"
   ]
  },
  {
   "cell_type": "markdown",
   "metadata": {},
   "source": [
    "#### **How To Add Line Number To File?**"
   ]
  },
  {
   "cell_type": "code",
   "execution_count": 31,
   "metadata": {},
   "outputs": [
    {
     "name": "stdout",
     "output_type": "stream",
     "text": [
      "1. Apple Apple Apple.\n",
      "2. Watermelon.\n",
      "3. Bannana.\n",
      "4. Orange.\n",
      "5. lemon.\n"
     ]
    }
   ],
   "source": [
    "from pathlib import Path\n",
    "\n",
    "file = Path('/home/mana/Work/fruit.txt').read_text()\n",
    "for i,j in enumerate(file.splitlines(), 1):\n",
    "    print(str(i) + '.', j)"
   ]
  },
  {
   "cell_type": "code",
   "execution_count": 33,
   "metadata": {},
   "outputs": [
    {
     "name": "stdout",
     "output_type": "stream",
     "text": [
      "1. Apple Apple Apple.\n",
      "2. Watermelon.\n",
      "3. Bannana.\n",
      "4. Orange.\n",
      "5. lemon.\n"
     ]
    }
   ],
   "source": [
    "from itertools import count\n",
    "from pathlib import Path\n",
    "\n",
    "file = Path('/home/mana/Work/fruit.txt').read_text()\n",
    "for i, j in zip(count(1), file.splitlines()):\n",
    "    print(str(i) + '.', j)\n",
    "    "
   ]
  },
  {
   "cell_type": "markdown",
   "metadata": {},
   "source": [
    "#### **Generator**\n",
    "\n",
    "**It generate one element at a time from sequence.**"
   ]
  },
  {
   "cell_type": "code",
   "execution_count": 6,
   "metadata": {},
   "outputs": [
    {
     "name": "stdout",
     "output_type": "stream",
     "text": [
      "P\n",
      "y\n",
      "t\n"
     ]
    }
   ],
   "source": [
    "lang = 'Python'\n",
    "gen = (i for i in lang)\n",
    "print(next(gen))\n",
    "print(next(gen))\n",
    "print(next(gen))"
   ]
  },
  {
   "cell_type": "markdown",
   "metadata": {},
   "source": [
    "#### **Print file permission in Numeric Mode**"
   ]
  },
  {
   "cell_type": "code",
   "execution_count": 24,
   "metadata": {},
   "outputs": [
    {
     "name": "stdout",
     "output_type": "stream",
     "text": [
      "664\r\n"
     ]
    }
   ],
   "source": [
    "!stat -c \"%a\" /home/mana/test"
   ]
  },
  {
   "cell_type": "code",
   "execution_count": 23,
   "metadata": {},
   "outputs": [
    {
     "name": "stdout",
     "output_type": "stream",
     "text": [
      "664\n"
     ]
    }
   ],
   "source": [
    "%%python3\n",
    "\n",
    "from pathlib import Path\n",
    "import stat\n",
    "file = Path('/home/mana/test').stat()\n",
    "print(f'{stat.S_IMODE(file.st_mode):o}')"
   ]
  },
  {
   "cell_type": "markdown",
   "metadata": {},
   "source": [
    "#### **MRO in Inheritance**\n",
    "\n",
    "**If multiple class use same function, It will be resloved       \n",
    "when child class inherit argument position order.**"
   ]
  },
  {
   "cell_type": "markdown",
   "metadata": {},
   "source": [
    "#### **Method Resloution Order(MRO)**"
   ]
  },
  {
   "cell_type": "code",
   "execution_count": 2,
   "metadata": {},
   "outputs": [
    {
     "name": "stdout",
     "output_type": "stream",
     "text": [
      "class B speaking.\n"
     ]
    }
   ],
   "source": [
    "class A:\n",
    "    def speak(self):\n",
    "        print(\"class A speaking.\")\n",
    "\n",
    "class B:\n",
    "    def speak(self):\n",
    "        print(\"class B speaking.\")\n",
    "\n",
    "class C(B, A):\n",
    "    pass\n",
    "\n",
    "c = C()\n",
    "c.speak()"
   ]
  },
  {
   "cell_type": "markdown",
   "metadata": {},
   "source": [
    "#### **How To Replace Multiple String?**"
   ]
  },
  {
   "cell_type": "code",
   "execution_count": 2,
   "metadata": {},
   "outputs": [
    {
     "name": "stdout",
     "output_type": "stream",
     "text": [
      "Linux and Linux is Good Operating System.\n"
     ]
    }
   ],
   "source": [
    "%%bash\n",
    "\n",
    "echo \"Unix and Windows is Good Operating System.\" | \\\n",
    "sed -r \"s/(Unix|Windows)/Linux/g\""
   ]
  },
  {
   "cell_type": "markdown",
   "metadata": {},
   "source": [
    "#### **How To Filter Which String Have Second Charcter \"a\"?**"
   ]
  },
  {
   "cell_type": "code",
   "execution_count": 9,
   "metadata": {},
   "outputs": [],
   "source": [
    "name = ['Ram', 'Vadivelu', 'Vishnu', 'Murugan', \n",
    "        'Senthil', 'Kantha']"
   ]
  },
  {
   "cell_type": "markdown",
   "metadata": {},
   "source": [
    "<p style=\"padding-left:50px;color:#33FFF9;font-size:14px;font-weight:bolder\">Logic: 1\n"
   ]
  },
  {
   "cell_type": "code",
   "execution_count": 11,
   "metadata": {},
   "outputs": [
    {
     "data": {
      "text/plain": [
       "['Ram', 'Vadivelu', 'Kantha']"
      ]
     },
     "execution_count": 11,
     "metadata": {},
     "output_type": "execute_result"
    }
   ],
   "source": [
    "[ i for i in name if i[1] == 'a']"
   ]
  },
  {
   "cell_type": "markdown",
   "metadata": {},
   "source": [
    "<p style=\"padding-left:50px;color:#33FFF9;font-size:14px;font-weight:bolder\">Logic: 2"
   ]
  },
  {
   "cell_type": "code",
   "execution_count": 10,
   "metadata": {},
   "outputs": [
    {
     "data": {
      "text/plain": [
       "['Ram', 'Vadivelu', 'Kantha']"
      ]
     },
     "execution_count": 10,
     "metadata": {},
     "output_type": "execute_result"
    }
   ],
   "source": [
    "[ i for i in name if 'a' in i[1]]"
   ]
  },
  {
   "cell_type": "markdown",
   "metadata": {},
   "source": [
    "#### **How To List Specific Extension Files Only?**"
   ]
  },
  {
   "cell_type": "code",
   "execution_count": null,
   "metadata": {},
   "outputs": [],
   "source": [
    "%%bash\n",
    "\n",
    "ls -1 /home/mana/Work/*.txt"
   ]
  },
  {
   "cell_type": "code",
   "execution_count": 30,
   "metadata": {},
   "outputs": [
    {
     "name": "stdout",
     "output_type": "stream",
     "text": [
      "/home/mana/Work/storage.txt\n",
      "/home/mana/Work/uday1.txt\n",
      "/home/mana/Work/data.txt\n",
      "/home/mana/Work/test.txt\n",
      "/home/mana/Work/fruit2.txt\n",
      "/home/mana/Work/samplelog.txt\n",
      "/home/mana/Work/rama.txt\n",
      "/home/mana/Work/map.txt\n",
      "/home/mana/Work/Banglore.txt\n",
      "/home/mana/Work/fruit1.txt\n",
      "/home/mana/Work/values.txt\n",
      "/home/mana/Work/out.txt\n",
      "/home/mana/Work/english.txt\n",
      "/home/mana/Work/e.txt\n",
      "/home/mana/Work/user.txt\n",
      "/home/mana/Work/name.txt\n",
      "/home/mana/Work/notes.txt\n",
      "/home/mana/Work/fruit.txt\n",
      "/home/mana/Work/morning.txt\n",
      "/home/mana/Work/collapse.txt\n",
      "/home/mana/Work/cesar.txt\n",
      "/home/mana/Work/test/data.txt\n"
     ]
    }
   ],
   "source": [
    "%%python3\n",
    "\n",
    "from pathlib import Path\n",
    "files = Path('/home/mana/Work/').rglob('*.txt')\n",
    "print(*files, sep = '\\n')"
   ]
  },
  {
   "cell_type": "markdown",
   "metadata": {},
   "source": [
    "#### **How To Get Help In Python?**"
   ]
  },
  {
   "cell_type": "code",
   "execution_count": 20,
   "metadata": {},
   "outputs": [
    {
     "name": "stdout",
     "output_type": "stream",
     "text": [
      "Help on method_descriptor:\n",
      "\n",
      "count(...)\n",
      "    S.count(sub[, start[, end]]) -> int\n",
      "    \n",
      "    Return the number of non-overlapping occurrences of substring sub in\n",
      "    string S[start:end].  Optional arguments start and end are\n",
      "    interpreted as in slice notation.\n",
      "\n"
     ]
    }
   ],
   "source": [
    "help(str.count)"
   ]
  },
  {
   "cell_type": "code",
   "execution_count": 22,
   "metadata": {},
   "outputs": [
    {
     "name": "stdout",
     "output_type": "stream",
     "text": [
      "S.count(sub[, start[, end]]) -> int\n",
      "\n",
      "Return the number of non-overlapping occurrences of substring sub in\n",
      "string S[start:end].  Optional arguments start and end are\n",
      "interpreted as in slice notation.\n"
     ]
    }
   ],
   "source": [
    "print(str.count.__doc__)"
   ]
  },
  {
   "cell_type": "markdown",
   "metadata": {},
   "source": [
    "#### **How Print Function Works?**\n",
    "**Print function internally calls write system call &#8658; sys.stdout.write('string')**\n"
   ]
  },
  {
   "cell_type": "code",
   "execution_count": 41,
   "metadata": {},
   "outputs": [
    {
     "name": "stdout",
     "output_type": "stream",
     "text": [
      "Hello World"
     ]
    }
   ],
   "source": [
    "import sys\n",
    "\n",
    "sys.stdout.write('Hello World')"
   ]
  },
  {
   "cell_type": "code",
   "execution_count": 42,
   "metadata": {},
   "outputs": [
    {
     "name": "stdout",
     "output_type": "stream",
     "text": [
      "Hello World\n"
     ]
    }
   ],
   "source": [
    "print('Hello World')"
   ]
  },
  {
   "cell_type": "markdown",
   "metadata": {},
   "source": [
    "#### **How Many Years Passed Since UNIX Time?**"
   ]
  },
  {
   "cell_type": "code",
   "execution_count": 84,
   "metadata": {},
   "outputs": [
    {
     "name": "stdout",
     "output_type": "stream",
     "text": [
      "50\n"
     ]
    }
   ],
   "source": [
    "%%bash\n",
    "\n",
    "seconds=$(date +%s)\n",
    "echo $(($seconds/(365*86400)))"
   ]
  },
  {
   "cell_type": "code",
   "execution_count": 86,
   "metadata": {},
   "outputs": [
    {
     "name": "stdout",
     "output_type": "stream",
     "text": [
      "50.46931263986543\n"
     ]
    }
   ],
   "source": [
    "%%python3\n",
    "\n",
    "from datetime import timedelta\n",
    "import time\n",
    "seconds = time.time()\n",
    "year_seconds = timedelta(days = 365.24)\n",
    "print(seconds/year_seconds.total_seconds())"
   ]
  },
  {
   "cell_type": "markdown",
   "metadata": {},
   "source": [
    "#### **How Many Seconds In One Day?**"
   ]
  },
  {
   "cell_type": "code",
   "execution_count": 74,
   "metadata": {},
   "outputs": [
    {
     "data": {
      "text/plain": [
       "86400.0"
      ]
     },
     "execution_count": 74,
     "metadata": {},
     "output_type": "execute_result"
    }
   ],
   "source": [
    "from datetime import timedelta\n",
    "timedelta(days = 1).total_seconds()"
   ]
  },
  {
   "cell_type": "markdown",
   "metadata": {},
   "source": [
    "#### **The UNIX Time**"
   ]
  },
  {
   "cell_type": "code",
   "execution_count": 1,
   "metadata": {},
   "outputs": [
    {
     "name": "stdout",
     "output_type": "stream",
     "text": [
      "1592784879\n"
     ]
    }
   ],
   "source": [
    "%%bash\n",
    "\n",
    "date +%s"
   ]
  },
  {
   "cell_type": "code",
   "execution_count": 2,
   "metadata": {},
   "outputs": [
    {
     "data": {
      "text/plain": [
       "1592784879.8478882"
      ]
     },
     "execution_count": 2,
     "metadata": {},
     "output_type": "execute_result"
    }
   ],
   "source": [
    "import time\n",
    "\n",
    "time.time()"
   ]
  },
  {
   "cell_type": "markdown",
   "metadata": {},
   "source": [
    "#### **How List All Files Name Without Extension?**"
   ]
  },
  {
   "cell_type": "code",
   "execution_count": null,
   "metadata": {},
   "outputs": [],
   "source": [
    "%%bash\n",
    "\n",
    "ls -1 ~/Work | awk -F \".\" '{print $1}'"
   ]
  },
  {
   "cell_type": "code",
   "execution_count": null,
   "metadata": {},
   "outputs": [],
   "source": [
    "%%python3\n",
    "\n",
    "from pathlib import Path\n",
    "dpath = Path('/home/mana/Work')\n",
    "files = [i.stem for i in dpath.iterdir()]\n",
    "print(*files, sep = '\\n')"
   ]
  },
  {
   "cell_type": "markdown",
   "metadata": {},
   "source": [
    "#### **How To Capture Logs On Hourly Basis?**"
   ]
  },
  {
   "cell_type": "code",
   "execution_count": null,
   "metadata": {},
   "outputs": [],
   "source": [
    "%%bash\n",
    "\n",
    "grep \"Jun 23 04\" /var/log/syslog"
   ]
  },
  {
   "cell_type": "code",
   "execution_count": null,
   "metadata": {},
   "outputs": [],
   "source": [
    "%%python3\n",
    "\n",
    "date_hour = input('Enter Mon dd HH: ')\n",
    "print()\n",
    "with open('/var/log/syslog', errors='ignore') as f:\n",
    "    for i in f:\n",
    "        if i.startswith(date_hour):\n",
    "            print(i)"
   ]
  },
  {
   "cell_type": "markdown",
   "metadata": {},
   "source": [
    "#### **Print Even Number**"
   ]
  },
  {
   "cell_type": "markdown",
   "metadata": {},
   "source": [
    "<p style=\"padding-left:50px;color:#33FFF9;font-size:14px;font-weight:bolder\">Logic: 1"
   ]
  },
  {
   "cell_type": "code",
   "execution_count": 46,
   "metadata": {},
   "outputs": [
    {
     "name": "stdout",
     "output_type": "stream",
     "text": [
      "0 2 4 6 8\n"
     ]
    }
   ],
   "source": [
    "print(*range(0, 10, 2))"
   ]
  },
  {
   "cell_type": "markdown",
   "metadata": {},
   "source": [
    "<p style=\"padding-left:50px;color:#33FFF9;font-size:14px;font-weight:bolder\">Logic: 2"
   ]
  },
  {
   "cell_type": "code",
   "execution_count": 47,
   "metadata": {},
   "outputs": [
    {
     "name": "stdout",
     "output_type": "stream",
     "text": [
      "0 2 4 6 8\n"
     ]
    }
   ],
   "source": [
    "even = [i for i in range(0, 10, 2)]\n",
    "print(*even)"
   ]
  },
  {
   "cell_type": "markdown",
   "metadata": {},
   "source": [
    "<p style=\"padding-left:50px;color:#33FFF9;font-size:14px;font-weight:bolder\">Logic: 3"
   ]
  },
  {
   "cell_type": "code",
   "execution_count": 50,
   "metadata": {},
   "outputs": [
    {
     "name": "stdout",
     "output_type": "stream",
     "text": [
      "0 2 4 6 8\n"
     ]
    }
   ],
   "source": [
    "even = [i for i in range(0, 10) if i%2 == 0]\n",
    "print(*even)"
   ]
  },
  {
   "cell_type": "markdown",
   "metadata": {},
   "source": [
    "#### **Convert String To List**"
   ]
  },
  {
   "cell_type": "markdown",
   "metadata": {},
   "source": [
    "<p style=\"padding-left:40px;color:#33FFF9;font-size:13px;font-weight:bolder\">Logic: 1"
   ]
  },
  {
   "cell_type": "code",
   "execution_count": 22,
   "metadata": {},
   "outputs": [
    {
     "data": {
      "text/plain": [
       "['P', 'y', 't', 'h', 'o', 'n']"
      ]
     },
     "execution_count": 22,
     "metadata": {},
     "output_type": "execute_result"
    }
   ],
   "source": [
    "lang = 'Python'\n",
    "list(lang)"
   ]
  },
  {
   "cell_type": "markdown",
   "metadata": {},
   "source": [
    "<p style=\"padding-left:40px;color:#33FFF9;font-size:13px;font-weight:bolder\">Logic: 2"
   ]
  },
  {
   "cell_type": "code",
   "execution_count": 23,
   "metadata": {},
   "outputs": [
    {
     "data": {
      "text/plain": [
       "['P', 'y', 't', 'h', 'o', 'n']"
      ]
     },
     "execution_count": 23,
     "metadata": {},
     "output_type": "execute_result"
    }
   ],
   "source": [
    "lang = 'Python'\n",
    "[i for i in lang]"
   ]
  },
  {
   "cell_type": "markdown",
   "metadata": {},
   "source": [
    "<p style=\"padding-left:40px;color:#33FFF9;font-size:13px;font-weight:bolder\">Logic: 3"
   ]
  },
  {
   "cell_type": "code",
   "execution_count": 24,
   "metadata": {},
   "outputs": [
    {
     "data": {
      "text/plain": [
       "['P', 'y', 't', 'h', 'o', 'n']"
      ]
     },
     "execution_count": 24,
     "metadata": {},
     "output_type": "execute_result"
    }
   ],
   "source": [
    "lang = 'Python'\n",
    "tmp = []\n",
    "for i in lang:\n",
    "    tmp += i\n",
    "tmp"
   ]
  },
  {
   "cell_type": "markdown",
   "metadata": {},
   "source": [
    "#### **How To Convert UNIX Seconds Of Specific Date?**"
   ]
  },
  {
   "cell_type": "code",
   "execution_count": 13,
   "metadata": {},
   "outputs": [
    {
     "name": "stdout",
     "output_type": "stream",
     "text": [
      "1425925800\n"
     ]
    }
   ],
   "source": [
    "%%bash\n",
    "\n",
    "date -d \"Mar 10 2015\" +%s"
   ]
  },
  {
   "cell_type": "code",
   "execution_count": 15,
   "metadata": {},
   "outputs": [
    {
     "name": "stdout",
     "output_type": "stream",
     "text": [
      "1428619265\n"
     ]
    }
   ],
   "source": [
    "%%bash\n",
    "\n",
    "date -d \"04/10/2015 04:11:05\" \"+%s\""
   ]
  },
  {
   "cell_type": "code",
   "execution_count": 14,
   "metadata": {},
   "outputs": [
    {
     "name": "stdout",
     "output_type": "stream",
     "text": [
      "1425925800.0\n"
     ]
    }
   ],
   "source": [
    "%%python3\n",
    "\n",
    "import time\n",
    "time_string = \"Mar 10 2015\"\n",
    "result = time.strptime(time_string, \"%b %d %Y\")\n",
    "print(time.mktime(result))"
   ]
  },
  {
   "cell_type": "markdown",
   "metadata": {},
   "source": [
    "#### **Lambda**\n",
    "\n",
    "**Lambda is nameless function means we can create function without name.**"
   ]
  },
  {
   "cell_type": "code",
   "execution_count": 2,
   "metadata": {},
   "outputs": [
    {
     "data": {
      "text/plain": [
       "10"
      ]
     },
     "execution_count": 2,
     "metadata": {},
     "output_type": "execute_result"
    }
   ],
   "source": [
    "(lambda x : x * 2)(5)"
   ]
  },
  {
   "cell_type": "code",
   "execution_count": 3,
   "metadata": {},
   "outputs": [
    {
     "data": {
      "text/plain": [
       "10"
      ]
     },
     "execution_count": 3,
     "metadata": {},
     "output_type": "execute_result"
    }
   ],
   "source": [
    "lamb = (lambda x : x * 2)\n",
    "lamb(5)"
   ]
  },
  {
   "cell_type": "code",
   "execution_count": 4,
   "metadata": {},
   "outputs": [
    {
     "data": {
      "text/plain": [
       "8"
      ]
     },
     "execution_count": 4,
     "metadata": {},
     "output_type": "execute_result"
    }
   ],
   "source": [
    "(lambda x, y : x + y)(5, 3)"
   ]
  },
  {
   "cell_type": "code",
   "execution_count": 5,
   "metadata": {},
   "outputs": [
    {
     "data": {
      "text/plain": [
       "8"
      ]
     },
     "execution_count": 5,
     "metadata": {},
     "output_type": "execute_result"
    }
   ],
   "source": [
    "lamb = (lambda x, y : x + y)\n",
    "lamb(5, 3)"
   ]
  },
  {
   "cell_type": "code",
   "execution_count": 6,
   "metadata": {},
   "outputs": [
    {
     "data": {
      "text/plain": [
       "5"
      ]
     },
     "execution_count": 6,
     "metadata": {},
     "output_type": "execute_result"
    }
   ],
   "source": [
    "(lambda x, y : x if x > y else y)(5, 3)"
   ]
  },
  {
   "cell_type": "markdown",
   "metadata": {},
   "source": [
    "#### **AND**\n",
    "\n",
    "&ensp; **If anyone condition False(fail). Its False(fail)**"
   ]
  },
  {
   "cell_type": "code",
   "execution_count": 8,
   "metadata": {},
   "outputs": [
    {
     "data": {
      "text/plain": [
       "True"
      ]
     },
     "execution_count": 8,
     "metadata": {},
     "output_type": "execute_result"
    }
   ],
   "source": [
    "    True and True"
   ]
  },
  {
   "cell_type": "code",
   "execution_count": 9,
   "metadata": {},
   "outputs": [
    {
     "data": {
      "text/plain": [
       "False"
      ]
     },
     "execution_count": 9,
     "metadata": {},
     "output_type": "execute_result"
    }
   ],
   "source": [
    "    True and False"
   ]
  },
  {
   "cell_type": "code",
   "execution_count": 10,
   "metadata": {},
   "outputs": [
    {
     "data": {
      "text/plain": [
       "False"
      ]
     },
     "execution_count": 10,
     "metadata": {},
     "output_type": "execute_result"
    }
   ],
   "source": [
    "    False and True"
   ]
  },
  {
   "cell_type": "code",
   "execution_count": 11,
   "metadata": {},
   "outputs": [
    {
     "data": {
      "text/plain": [
       "False"
      ]
     },
     "execution_count": 11,
     "metadata": {},
     "output_type": "execute_result"
    }
   ],
   "source": [
    "    False and False"
   ]
  },
  {
   "cell_type": "markdown",
   "metadata": {},
   "source": [
    "#### **Converting UNIX Time To Human Readable Time**"
   ]
  },
  {
   "cell_type": "code",
   "execution_count": 71,
   "metadata": {},
   "outputs": [
    {
     "name": "stdout",
     "output_type": "stream",
     "text": [
      "Sat Feb 14 05:01:30 IST 2009\n"
     ]
    }
   ],
   "source": [
    "%%bash\n",
    "\n",
    "date -d @1234567890"
   ]
  },
  {
   "cell_type": "code",
   "execution_count": 10,
   "metadata": {},
   "outputs": [
    {
     "name": "stdout",
     "output_type": "stream",
     "text": [
      "Sat Feb 14 05:01:30 2009\n"
     ]
    }
   ],
   "source": [
    "%%python3\n",
    "\n",
    "import time\n",
    "print(time.ctime(1234567890))"
   ]
  },
  {
   "cell_type": "markdown",
   "metadata": {},
   "source": [
    "#### **How Many Days Passed In This Year?**"
   ]
  },
  {
   "cell_type": "code",
   "execution_count": 4,
   "metadata": {},
   "outputs": [
    {
     "name": "stdout",
     "output_type": "stream",
     "text": [
      "This Year passed 179 days.\n"
     ]
    }
   ],
   "source": [
    "import time\n",
    "\n",
    "days = time.localtime().tm_yday\n",
    "print(f'This Year passed {days} days.')"
   ]
  },
  {
   "cell_type": "markdown",
   "metadata": {},
   "source": [
    "#### **How To Get Last Modification Time of File?**"
   ]
  },
  {
   "cell_type": "code",
   "execution_count": 5,
   "metadata": {},
   "outputs": [
    {
     "name": "stdout",
     "output_type": "stream",
     "text": [
      "2020-06-23 18:53:54.886467282 +0530\n"
     ]
    }
   ],
   "source": [
    "%%bash\n",
    "\n",
    "stat -c \"%y\" /home/mana/Work/fruit.txt"
   ]
  },
  {
   "cell_type": "code",
   "execution_count": 8,
   "metadata": {},
   "outputs": [
    {
     "name": "stdout",
     "output_type": "stream",
     "text": [
      "Tue Jun 23 18:53:54 2020\n"
     ]
    }
   ],
   "source": [
    "%%python3\n",
    "\n",
    "from time import ctime\n",
    "import os.path\n",
    "\n",
    "file = '/home/mana/Work/fruit.txt'\n",
    "mseconds = os.path.getmtime(file)\n",
    "print(ctime(mseconds))"
   ]
  },
  {
   "cell_type": "markdown",
   "metadata": {},
   "source": [
    "#### **Get Last File Modification Seconds Since Epoch**"
   ]
  },
  {
   "cell_type": "code",
   "execution_count": 6,
   "metadata": {},
   "outputs": [
    {
     "name": "stdout",
     "output_type": "stream",
     "text": [
      "1592918634\n"
     ]
    }
   ],
   "source": [
    "%%bash\n",
    "\n",
    "stat -c \"%Y\" /home/mana/Work/fruit.txt"
   ]
  },
  {
   "cell_type": "code",
   "execution_count": 50,
   "metadata": {},
   "outputs": [
    {
     "name": "stdout",
     "output_type": "stream",
     "text": [
      "1592918634.8864672\n"
     ]
    }
   ],
   "source": [
    "%%python3\n",
    "\n",
    "from time import ctime\n",
    "import os.path\n",
    "\n",
    "file = '/home/mana/Work/fruit.txt'\n",
    "print(os.path.getmtime(file))"
   ]
  },
  {
   "cell_type": "markdown",
   "metadata": {},
   "source": [
    "#### **Add Every Two Numbers**"
   ]
  },
  {
   "cell_type": "code",
   "execution_count": 72,
   "metadata": {},
   "outputs": [
    {
     "name": "stdout",
     "output_type": "stream",
     "text": [
      "76\r\n",
      "15\r\n",
      "87\r\n",
      "33\r\n"
     ]
    }
   ],
   "source": [
    "cat /home/mana/Work/num.txt"
   ]
  },
  {
   "cell_type": "code",
   "execution_count": 73,
   "metadata": {},
   "outputs": [
    {
     "name": "stdout",
     "output_type": "stream",
     "text": [
      "91\n",
      "120\n"
     ]
    }
   ],
   "source": [
    "%%bash\n",
    "\n",
    "file=/home/mana/Work/num.txt\n",
    "awk 'NR%2{printf \"%s \",$0;next;}1'  $file | \\\n",
    "awk '{print $1 + $2}'"
   ]
  },
  {
   "cell_type": "code",
   "execution_count": 71,
   "metadata": {},
   "outputs": [
    {
     "name": "stdout",
     "output_type": "stream",
     "text": [
      "91\n",
      "120\n"
     ]
    }
   ],
   "source": [
    "%%python3\n",
    "\n",
    "from pathlib import Path\n",
    "file = '/home/mana/Work/num.txt'\n",
    "text = Path(file).read_text().splitlines()\n",
    "for i in zip(text[::2],text[1::2]):\n",
    "    print(sum(map(int, i)))"
   ]
  },
  {
   "cell_type": "markdown",
   "metadata": {},
   "source": [
    "#### **How To Join The Second Line To End Of First Line?**"
   ]
  },
  {
   "cell_type": "code",
   "execution_count": 63,
   "metadata": {},
   "outputs": [
    {
     "name": "stdout",
     "output_type": "stream",
     "text": [
      "Apple Apple.\r\n",
      "Watermelon.\r\n",
      "Bannana.\r\n",
      "Orange.\r\n"
     ]
    }
   ],
   "source": [
    "cat ~/Work/fruit.txt"
   ]
  },
  {
   "cell_type": "code",
   "execution_count": 64,
   "metadata": {},
   "outputs": [
    {
     "name": "stdout",
     "output_type": "stream",
     "text": [
      "Apple Apple. Watermelon.\n",
      "Bannana. Orange.\n"
     ]
    }
   ],
   "source": [
    "%%bash\n",
    "\n",
    "sed 'N;s/\\n/ /' ~/Work/fruit.txt"
   ]
  },
  {
   "cell_type": "code",
   "execution_count": 65,
   "metadata": {},
   "outputs": [
    {
     "name": "stdout",
     "output_type": "stream",
     "text": [
      "Apple Apple. Watermelon.\n",
      "Bannana. Orange.\n"
     ]
    }
   ],
   "source": [
    "%%python3\n",
    "\n",
    "from pathlib import Path\n",
    "file = '/home/mana/Work/fruit.txt'\n",
    "text = Path(file).read_text().splitlines()\n",
    "for i in zip(text[::2],text[1::2]):\n",
    "    print(*i)"
   ]
  },
  {
   "cell_type": "markdown",
   "metadata": {},
   "source": [
    "#### **When Was UNIX Time Started At India?**"
   ]
  },
  {
   "cell_type": "code",
   "execution_count": 89,
   "metadata": {},
   "outputs": [
    {
     "name": "stdout",
     "output_type": "stream",
     "text": [
      "Thursday 01 January 1970 05:30:00 AM IST\n"
     ]
    }
   ],
   "source": [
    "%%bash\n",
    "date -d @0"
   ]
  },
  {
   "cell_type": "code",
   "execution_count": 91,
   "metadata": {},
   "outputs": [
    {
     "data": {
      "text/plain": [
       "'Thu Jan  1 05:30:00 1970'"
      ]
     },
     "execution_count": 91,
     "metadata": {},
     "output_type": "execute_result"
    }
   ],
   "source": [
    "import time\n",
    "\n",
    "time.ctime(0)"
   ]
  },
  {
   "cell_type": "markdown",
   "metadata": {},
   "source": [
    "#### **List All Built-In Modules**"
   ]
  },
  {
   "cell_type": "code",
   "execution_count": 4,
   "metadata": {},
   "outputs": [
    {
     "data": {
      "text/plain": [
       "['LICENSE',\n",
       " 'abc',\n",
       " 'aifc',\n",
       " 'antigravity',\n",
       " 'argparse',\n",
       " 'ast',\n",
       " 'asynchat',\n",
       " 'asyncio',\n",
       " 'asyncore',\n",
       " 'base64',\n",
       " 'bdb',\n",
       " 'binhex',\n",
       " 'bisect',\n",
       " 'bz2',\n",
       " 'cProfile',\n",
       " 'calendar',\n",
       " 'cgi',\n",
       " 'cgitb',\n",
       " 'chunk',\n",
       " 'cmd',\n",
       " 'code',\n",
       " 'codecs',\n",
       " 'codeop',\n",
       " 'collections',\n",
       " 'colorsys',\n",
       " 'compileall',\n",
       " 'concurrent',\n",
       " 'configparser',\n",
       " 'contextlib',\n",
       " 'contextvars',\n",
       " 'copy',\n",
       " 'copyreg',\n",
       " 'crypt',\n",
       " 'csv',\n",
       " 'ctypes',\n",
       " 'curses',\n",
       " 'dataclasses',\n",
       " 'datetime',\n",
       " 'dbm',\n",
       " 'decimal',\n",
       " 'difflib',\n",
       " 'dis',\n",
       " 'distutils',\n",
       " 'doctest',\n",
       " 'email',\n",
       " 'encodings',\n",
       " 'enum',\n",
       " 'filecmp',\n",
       " 'fileinput',\n",
       " 'fnmatch',\n",
       " 'formatter',\n",
       " 'fractions',\n",
       " 'ftplib',\n",
       " 'functools',\n",
       " 'genericpath',\n",
       " 'getopt',\n",
       " 'getpass',\n",
       " 'gettext',\n",
       " 'glob',\n",
       " 'gzip',\n",
       " 'hashlib',\n",
       " 'heapq',\n",
       " 'hmac',\n",
       " 'html',\n",
       " 'http',\n",
       " 'imaplib',\n",
       " 'imghdr',\n",
       " 'imp',\n",
       " 'importlib',\n",
       " 'inspect',\n",
       " 'io',\n",
       " 'ipaddress',\n",
       " 'json',\n",
       " 'keyword',\n",
       " 'lib-dynload',\n",
       " 'lib2to3',\n",
       " 'linecache',\n",
       " 'locale',\n",
       " 'logging',\n",
       " 'lzma',\n",
       " 'mailbox',\n",
       " 'mailcap',\n",
       " 'mimetypes',\n",
       " 'modulefinder',\n",
       " 'multiprocessing',\n",
       " 'netrc',\n",
       " 'nntplib',\n",
       " 'ntpath',\n",
       " 'nturl2path',\n",
       " 'numbers',\n",
       " 'opcode',\n",
       " 'operator',\n",
       " 'optparse',\n",
       " 'os',\n",
       " 'pathlib',\n",
       " 'pdb',\n",
       " 'pickle',\n",
       " 'pickletools',\n",
       " 'pipes',\n",
       " 'pkgutil',\n",
       " 'platform',\n",
       " 'plistlib',\n",
       " 'poplib',\n",
       " 'posixpath',\n",
       " 'pprint',\n",
       " 'profile',\n",
       " 'pstats',\n",
       " 'pty',\n",
       " 'pyclbr',\n",
       " 'pydoc',\n",
       " 'queue',\n",
       " 'quopri',\n",
       " 'random',\n",
       " 're',\n",
       " 'reprlib',\n",
       " 'rlcompleter',\n",
       " 'runpy',\n",
       " 'sched',\n",
       " 'secrets',\n",
       " 'selectors',\n",
       " 'shelve',\n",
       " 'shlex',\n",
       " 'shutil',\n",
       " 'signal',\n",
       " 'site',\n",
       " 'sitecustomize',\n",
       " 'smtpd',\n",
       " 'smtplib',\n",
       " 'sndhdr',\n",
       " 'socket',\n",
       " 'socketserver',\n",
       " 'sqlite3',\n",
       " 'ssl',\n",
       " 'stat',\n",
       " 'statistics',\n",
       " 'string',\n",
       " 'stringprep',\n",
       " 'struct',\n",
       " 'subprocess',\n",
       " 'sunau',\n",
       " 'symbol',\n",
       " 'symtable',\n",
       " 'sysconfig',\n",
       " 'tabnanny',\n",
       " 'tarfile',\n",
       " 'telnetlib',\n",
       " 'tempfile',\n",
       " 'test',\n",
       " 'textwrap',\n",
       " 'this',\n",
       " 'threading',\n",
       " 'timeit',\n",
       " 'token',\n",
       " 'tokenize',\n",
       " 'trace',\n",
       " 'traceback',\n",
       " 'tracemalloc',\n",
       " 'tty',\n",
       " 'turtle',\n",
       " 'types',\n",
       " 'typing',\n",
       " 'unittest',\n",
       " 'urllib',\n",
       " 'uu',\n",
       " 'uuid',\n",
       " 'venv',\n",
       " 'warnings',\n",
       " 'wave',\n",
       " 'weakref',\n",
       " 'webbrowser',\n",
       " 'wsgiref',\n",
       " 'xdrlib',\n",
       " 'xml',\n",
       " 'xmlrpc',\n",
       " 'zipapp',\n",
       " 'zipfile',\n",
       " 'zipimport']"
      ]
     },
     "execution_count": 4,
     "metadata": {},
     "output_type": "execute_result"
    }
   ],
   "source": [
    "from pathlib import Path\n",
    "\n",
    "dpath = Path('/usr/lib/python3.8')\n",
    "modules = [i.stem for i in dpath.iterdir() \n",
    "          if '_' not in i.name]\n",
    "sorted(modules)"
   ]
  },
  {
   "cell_type": "markdown",
   "metadata": {},
   "source": [
    "#### **Time Now**"
   ]
  },
  {
   "cell_type": "code",
   "execution_count": 8,
   "metadata": {},
   "outputs": [
    {
     "name": "stdout",
     "output_type": "stream",
     "text": [
      "08:05:11\n"
     ]
    }
   ],
   "source": [
    "%%bash\n",
    "\n",
    "printf \"%(%T)T\\n\""
   ]
  },
  {
   "cell_type": "code",
   "execution_count": 9,
   "metadata": {},
   "outputs": [
    {
     "name": "stdout",
     "output_type": "stream",
     "text": [
      "08:05:18\n"
     ]
    }
   ],
   "source": [
    "%%bash\n",
    "\n",
    "date +\"%T\""
   ]
  },
  {
   "cell_type": "code",
   "execution_count": 10,
   "metadata": {},
   "outputs": [
    {
     "name": "stdout",
     "output_type": "stream",
     "text": [
      "08:05:25\n"
     ]
    }
   ],
   "source": [
    "%%python3\n",
    "\n",
    "from datetime import datetime\n",
    "print(datetime.now().strftime(\"%T\"))"
   ]
  },
  {
   "cell_type": "code",
   "execution_count": 13,
   "metadata": {},
   "outputs": [
    {
     "name": "stdout",
     "output_type": "stream",
     "text": [
      "08:06:35\n"
     ]
    }
   ],
   "source": [
    "%%python3\n",
    "\n",
    "import time\n",
    "print(time.strftime(\"%T\", time.localtime()))"
   ]
  },
  {
   "cell_type": "markdown",
   "metadata": {},
   "source": [
    "#### **Hi, What is the Date Today?**"
   ]
  },
  {
   "cell_type": "code",
   "execution_count": 4,
   "metadata": {},
   "outputs": [
    {
     "name": "stdout",
     "output_type": "stream",
     "text": [
      "30 June 2020\n"
     ]
    }
   ],
   "source": [
    "%%bash\n",
    "\n",
    "printf \"%(%d %B %Y)T\\n\""
   ]
  },
  {
   "cell_type": "code",
   "execution_count": 5,
   "metadata": {},
   "outputs": [
    {
     "name": "stdout",
     "output_type": "stream",
     "text": [
      "30 June 2020\n"
     ]
    }
   ],
   "source": [
    "%%bash\n",
    "\n",
    "date +\"%d %B %Y\""
   ]
  },
  {
   "cell_type": "code",
   "execution_count": 6,
   "metadata": {},
   "outputs": [
    {
     "name": "stdout",
     "output_type": "stream",
     "text": [
      "30 June 2020\n"
     ]
    }
   ],
   "source": [
    "%%python3\n",
    "\n",
    "from datetime import datetime\n",
    "print(datetime.now().strftime(\"%d %B %Y\"))"
   ]
  },
  {
   "cell_type": "code",
   "execution_count": 7,
   "metadata": {},
   "outputs": [
    {
     "name": "stdout",
     "output_type": "stream",
     "text": [
      "30 June 2020\n"
     ]
    }
   ],
   "source": [
    "%%python3\n",
    "\n",
    "import time\n",
    "print(time.strftime(\"%d %B %Y\", time.localtime()))"
   ]
  }
 ],
 "metadata": {
  "kernelspec": {
   "display_name": "Python 3",
   "language": "python",
   "name": "python3"
  },
  "language_info": {
   "codemirror_mode": {
    "name": "ipython",
    "version": 3
   },
   "file_extension": ".py",
   "mimetype": "text/x-python",
   "name": "python",
   "nbconvert_exporter": "python",
   "pygments_lexer": "ipython3",
   "version": "3.8.10"
  },
  "widgets": {
   "application/vnd.jupyter.widget-state+json": {
    "state": {},
    "version_major": 2,
    "version_minor": 0
   }
  }
 },
 "nbformat": 4,
 "nbformat_minor": 2
}

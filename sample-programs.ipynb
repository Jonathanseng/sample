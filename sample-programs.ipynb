{
 "cells": [
  {
   "cell_type": "markdown",
   "metadata": {},
   "source": [
    "<h2 align=\"center\"><b>Jun</h2>"
   ]
  },
  {
   "cell_type": "markdown",
   "metadata": {},
   "source": [
    "* [**How To Draw This Pattern?**](#How-To-Draw-This-Pattern?)\n",
    "* [**Make NoteBook Link Contents**](#Make-NoteBook-Link-Contents)\n",
    "* [ **Remove Element From List**](#-Remove-Element-From-List)\n",
    "* [**List Admin Created Users**](#List-Admin-Created-Users)\n",
    "* [**List Methods In Row And Column Format**](#List-Methods-In-Row-And-Column-Format)\n",
    "* [**How To Find 32bit Or 64bit System?**](#How-To-Find-32bit-Or-64bit-System?)\n",
    "* [**How To use Linux Command In Python?**](#How-To-use-Linux-Command-In-Python?)\n",
    "* [**How To Calculate Your Age?**](#How-To-Calculate-Your-Age?)\n",
    "* [**How To Find Last File Properties Changed Time?**](#How-To-Find-Last-File-Properties-Changed-Time?)\n",
    "* [**How To Obtain UNIX Epoch Time?**](#How-To-Obtain-UNIX-Epoch-Time?)\n",
    "* [**How To Find Path Of Module?**](#How-To-Find-Path-Of-Module?)\n",
    "* [**How To Find MAC Address Of Network Device?**](#How-To-Find-MAC-Address-Of-Network-Device?)\n",
    "* [**How To Find MAC Address Of Current Using Network Device?**](#How-To-Find-MAC-Address-Of-Current-Using-Network-Device?)\n",
    "* [**What Is Difference Between Function And Method?**,](#What-Is-Difference-Between-Function-And-Method?,)\n",
    "* [**How To Find Maximum Values Of Column?**](#How-To-Find-Maximum-Values-Of-Column?)\n",
    "* [**How To Find Minimum Values Of Column?**](#How-To-Find-Minimum-Values-Of-Column?)\n",
    "* [**How To Sum Values Of Column?**](#How-To-Sum-Values-Of-Column?)\n",
    "* [**How To Find Average Values Of Column?**](#How-To-Find-Average-Values-Of-Column?)\n",
    "* [**How To Find Average Values Of Column?**](#How-To-Find-Average-Values-Of-Column?)\n",
    "* [**How To Write ABCD...?**](#How-To-Write-ABCD...?)\n",
    "* [**Comprehension**](#Comprehension)\n",
    "* [**How Object Call Works?**,](#How-Object-Call-Works?,)\n",
    "* [**List Out All Python Build-In Classes And Subclasses**](#List-Out-All-Python-Build-In-Classes-And-Subclasses)\n",
    "* [**How To List Modified Files Between Specific Range Of Days?**,](#How-To-List-Modified-Files-Between-Specific-Range-Of-Days?,)\n",
    "* [**How To Add Line Number To File?**](#How-To-Add-Line-Number-To-File?)\n",
    "* [**Generator**,](#Generator,)\n",
    "* [**Print file permission in Numeric Mode**](#Print-file-permission-in-Numeric-Mode)\n",
    "* [**MRO in Inheritance**,](#MRO-in-Inheritance,)\n",
    "* [**Method Resloution Order(MRO)**](#Method-Resloution-Order(MRO))\n",
    "* [**How To Replace Multiple String?**](#How-To-Replace-Multiple-String?)\n",
    "* [**How To Filter Which String Have Second Charcter \\a\\?**](#How-To-Filter-Which-String-Have-Second-Charcter-\\a\\?)\n",
    "* [**How To List Specific Extension Files Only?**](#How-To-List-Specific-Extension-Files-Only?)\n",
    "* [**How To Get Help In Python?**](#How-To-Get-Help-In-Python?)\n",
    "* [**How Print Function Works?**,](#How-Print-Function-Works?,)\n",
    "* [**How Many Years Passed Since UNIX Time?**](#How-Many-Years-Passed-Since-UNIX-Time?)\n",
    "* [**How Many Seconds In One Day?**](#How-Many-Seconds-In-One-Day?)\n",
    "* [**The UNIX Time**](#The-UNIX-Time)\n",
    "* [**How List All Files Name Without Extension?**](#How-List-All-Files-Name-Without-Extension?)\n",
    "* [**How To Capture Logs On Hourly Basis?**](#How-To-Capture-Logs-On-Hourly-Basis?)\n",
    "* [**Print Even Number**](#Print-Even-Number)\n",
    "* [**Convert String To List**](#Convert-String-To-List)\n",
    "* [**How To Convert UNIX Seconds Of Specific Date?**](#How-To-Convert-UNIX-Seconds-Of-Specific-Date?)\n",
    "* [**Lambda**,](#Lambda,)\n",
    "* [**AND**,](#AND,)\n",
    "* [**Converting UNIX Time To Human Readable Time**](#Converting-UNIX-Time-To-Human-Readable-Time)\n",
    "* [**How Many Days Passed In This Year?**](#How-Many-Days-Passed-In-This-Year?)\n",
    "* [**How To Get Last Modification Time of File?**](#How-To-Get-Last-Modification-Time-of-File?)\n",
    "* [**Get Last File Modification Seconds Since Epoch**](#Get-Last-File-Modification-Seconds-Since-Epoch)\n",
    "* [**Add Every Two Numbers**](#Add-Every-Two-Numbers)\n",
    "* [**How To Join The Second Line To End Of First Line?**](#How-To-Join-The-Second-Line-To-End-Of-First-Line?)\n",
    "* [**When Was UNIX Time Started At India?**](#When-Was-UNIX-Time-Started-At-India?)\n",
    "* [**List All Built-In Modules**](#List-All-Built-In-Modules)\n",
    "* [**Time Now**](#Time-Now)\n",
    "* [**Hi, What is the Date Today?**](#Hi,-What-is-the-Date-Today?)"
   ]
  },
  {
   "cell_type": "markdown",
   "metadata": {},
   "source": [
    "***"
   ]
  },
  {
   "cell_type": "markdown",
   "metadata": {},
   "source": [
    "#### **How To Draw This Pattern?**"
   ]
  },
  {
   "cell_type": "code",
   "execution_count": 38,
   "metadata": {},
   "outputs": [
    {
     "name": "stdout",
     "output_type": "stream",
     "text": [
      " ***\n",
      "  ***\n",
      "   ***\n",
      "    ***\n",
      "     ***\n"
     ]
    }
   ],
   "source": [
    "for i in range(1, 6):\n",
    "    print(' '*i, end = '')\n",
    "    print('*'*3)"
   ]
  },
  {
   "cell_type": "code",
   "execution_count": 40,
   "metadata": {},
   "outputs": [
    {
     "name": "stdout",
     "output_type": "stream",
     "text": [
      " ***\n",
      "  ***\n",
      "   ***\n",
      "    ***\n",
      "     ***\n"
     ]
    }
   ],
   "source": [
    "import sys\n",
    "\n",
    "for i in range(1, 6):\n",
    "    sys.stdout.write(' '*i)\n",
    "    print('*'*3)"
   ]
  },
  {
   "cell_type": "markdown",
   "metadata": {},
   "source": [
    "#### **Make NoteBook Link Contents**"
   ]
  },
  {
   "cell_type": "code",
   "execution_count": null,
   "metadata": {},
   "outputs": [],
   "source": [
    "from pathlib import Path\n",
    "import re\n",
    "\n",
    "file = Path('May-al.ipynb').read_text()\n",
    "match = [re.sub(r'^\\s{4}|#|\\\\n|\"','',i) for i in file.splitlines() \n",
    "         if re.search(r'#{4}',i)]\n",
    "\n",
    "for i in match:\n",
    "    print('*', '[' + i.replace(' ','',1) + ']', end = '')\n",
    "    i = i.replace('*', '')\n",
    "    i = re.sub(r'^.','(#',i)\n",
    "    i = re.sub(r'$',')',i)\n",
    "    print(i.replace(' ', '-'))"
   ]
  },
  {
   "cell_type": "markdown",
   "metadata": {},
   "source": [
    "####  **Remove Element From List**"
   ]
  },
  {
   "cell_type": "markdown",
   "metadata": {},
   "source": [
    "##### **Using Slice**"
   ]
  },
  {
   "cell_type": "code",
   "execution_count": 63,
   "metadata": {},
   "outputs": [
    {
     "data": {
      "text/plain": [
       "['a', 'b', 'd']"
      ]
     },
     "execution_count": 63,
     "metadata": {},
     "output_type": "execute_result"
    }
   ],
   "source": [
    "L = ['a', 'b', 'c', 'd']\n",
    "L[2:3] = []\n",
    "L"
   ]
  },
  {
   "cell_type": "markdown",
   "metadata": {},
   "source": [
    "#### **Using Remove**\n",
    "**It remove first occurance of element**"
   ]
  },
  {
   "cell_type": "code",
   "execution_count": 68,
   "metadata": {},
   "outputs": [
    {
     "data": {
      "text/plain": [
       "['a', 'b', 'd']"
      ]
     },
     "execution_count": 68,
     "metadata": {},
     "output_type": "execute_result"
    }
   ],
   "source": [
    "L = ['a', 'b', 'c', 'd']\n",
    "L.remove('c')\n",
    "L"
   ]
  },
  {
   "cell_type": "markdown",
   "metadata": {},
   "source": [
    "#### **Using del keyword**"
   ]
  },
  {
   "cell_type": "code",
   "execution_count": 65,
   "metadata": {},
   "outputs": [
    {
     "data": {
      "text/plain": [
       "['a', 'b', 'd']"
      ]
     },
     "execution_count": 65,
     "metadata": {},
     "output_type": "execute_result"
    }
   ],
   "source": [
    "L = ['a', 'b', 'c', 'd']\n",
    "del L[2]\n",
    "L"
   ]
  },
  {
   "cell_type": "markdown",
   "metadata": {},
   "source": [
    "#### **Using pop method**"
   ]
  },
  {
   "cell_type": "code",
   "execution_count": 66,
   "metadata": {},
   "outputs": [
    {
     "data": {
      "text/plain": [
       "['a', 'b', 'd']"
      ]
     },
     "execution_count": 66,
     "metadata": {},
     "output_type": "execute_result"
    }
   ],
   "source": [
    "L = ['a', 'b', 'c', 'd']\n",
    "L.pop(2)\n",
    "L"
   ]
  },
  {
   "cell_type": "markdown",
   "metadata": {},
   "source": [
    "##### **Remove Entire List**"
   ]
  },
  {
   "cell_type": "code",
   "execution_count": 70,
   "metadata": {},
   "outputs": [
    {
     "data": {
      "text/plain": [
       "[]"
      ]
     },
     "execution_count": 70,
     "metadata": {},
     "output_type": "execute_result"
    }
   ],
   "source": [
    "L = ['a', 'b', 'c', 'd']\n",
    "L.clear()\n",
    "L"
   ]
  },
  {
   "cell_type": "code",
   "execution_count": 71,
   "metadata": {},
   "outputs": [],
   "source": [
    "L = ['a', 'b', 'c', 'd']\n",
    "L = []"
   ]
  },
  {
   "cell_type": "markdown",
   "metadata": {},
   "source": [
    "#### **List Admin Created Users**"
   ]
  },
  {
   "cell_type": "code",
   "execution_count": 9,
   "metadata": {},
   "outputs": [
    {
     "name": "stdout",
     "output_type": "stream",
     "text": [
      "mana 1000 /bin/bash\n"
     ]
    }
   ],
   "source": [
    "%%bash\n",
    "\n",
    "getent passwd | grep -Po \"^.*\\d{4,}.*(bash|ksh|zsh)$\" | \\\n",
    "awk -F \":\" '{print $1, $3, $NF}'"
   ]
  },
  {
   "cell_type": "code",
   "execution_count": 91,
   "metadata": {},
   "outputs": [
    {
     "name": "stdout",
     "output_type": "stream",
     "text": [
      "mana 1000 /bin/bash\n"
     ]
    }
   ],
   "source": [
    "%%bash\n",
    "\n",
    "getent passwd | awk -F \":\" '$3 >= 1000 && \\\n",
    "$NF == \"/bin/bash\" {print $1, $3, $NF}'"
   ]
  },
  {
   "cell_type": "code",
   "execution_count": 94,
   "metadata": {},
   "outputs": [
    {
     "name": "stdout",
     "output_type": "stream",
     "text": [
      "mana 1000 /bin/bash\n"
     ]
    }
   ],
   "source": [
    "%%python3\n",
    "\n",
    "import pwd\n",
    "\n",
    "shell = ['/bin/bash', '/bin/ksh']\n",
    "for usr in pwd.getpwall():\n",
    "    if usr.pw_uid >= 1000 and usr.pw_shell in shell:\n",
    "        print(usr.pw_name, usr.pw_uid, usr.pw_shell)"
   ]
  },
  {
   "cell_type": "markdown",
   "metadata": {},
   "source": [
    "#### **List Methods In Row And Column Format**"
   ]
  },
  {
   "cell_type": "code",
   "execution_count": 101,
   "metadata": {},
   "outputs": [
    {
     "name": "stdout",
     "output_type": "stream",
     "text": [
      "append   clear    copy     \n",
      "count    extend   index    \n",
      "insert   pop      remove   \n",
      "reverse  sort              \n"
     ]
    }
   ],
   "source": [
    "methods = [i for i  in dir([]) if i[0].islower()]\n",
    "w = str(len(max(methods, key=len))+2)\n",
    "fmt = ('{:'+w+'s}')*3\n",
    "\n",
    "for fn in zip(*[iter(methods + [' '])] *3):\n",
    "    print(fmt.format(*fn))"
   ]
  },
  {
   "cell_type": "markdown",
   "metadata": {},
   "source": [
    "#### **How To Find 32bit Or 64bit System?**"
   ]
  },
  {
   "cell_type": "code",
   "execution_count": 7,
   "metadata": {},
   "outputs": [
    {
     "name": "stdout",
     "output_type": "stream",
     "text": [
      "64bit\n"
     ]
    }
   ],
   "source": [
    "from platform import architecture\n",
    "\n",
    "print(architecture()[0])"
   ]
  },
  {
   "cell_type": "markdown",
   "metadata": {},
   "source": [
    "#### **How To use Linux Command In Python?**"
   ]
  },
  {
   "cell_type": "code",
   "execution_count": 3,
   "metadata": {},
   "outputs": [
    {
     "name": "stdout",
     "output_type": "stream",
     "text": [
      "total 1.1M\n",
      "164K Jun-2020.ipynb\n",
      "152K Apr.ipynb\n",
      "144K May.ipynb\n",
      "132K suuid.png\n",
      "120K Object.png\n",
      " 96K Jan.ipynb\n",
      " 76K Mar.ipynb\n",
      " 56K Feb.ipynb\n",
      " 52K unicode.png\n",
      "8.0K stick.gif\n",
      "4.0K AWK.ipynb\n",
      "4.0K Bash.ipynb\n",
      "4.0K sed.ipynb\n",
      "4.0K alphanum.txt\n",
      "4.0K fstab.csv\n",
      "4.0K notes.txt\n",
      "4.0K fruit.txt\n",
      "4.0K pipefile\n",
      "   0 awk\n",
      "\n"
     ]
    }
   ],
   "source": [
    "from subprocess import check_output\n",
    "\n",
    "command = 'ls -sSh'\n",
    "output = check_output(command.split()).decode()\n",
    "print(output)"
   ]
  },
  {
   "cell_type": "markdown",
   "metadata": {},
   "source": [
    "#### **How To Calculate Your Age?**"
   ]
  },
  {
   "cell_type": "code",
   "execution_count": 25,
   "metadata": {},
   "outputs": [
    {
     "name": "stdout",
     "output_type": "stream",
     "text": [
      "35\n"
     ]
    }
   ],
   "source": [
    "%%bash\n",
    "\n",
    "read -p \"Enter Your Birth Year: \" yr\n",
    "printf \"%2d\\n\" $(date -d \"-$(date +$yr) year\" +%Y)"
   ]
  },
  {
   "cell_type": "code",
   "execution_count": null,
   "metadata": {},
   "outputs": [],
   "source": [
    "%%bash\n",
    "\n",
    "read -ep \"Year of birth? \" byear\n",
    "printf -v year '%(%Y)T'\n",
    "echo \"$((year - byear))\""
   ]
  },
  {
   "cell_type": "code",
   "execution_count": 31,
   "metadata": {},
   "outputs": [
    {
     "name": "stdout",
     "output_type": "stream",
     "text": [
      "Enter Your Birth Year: 1985\n",
      "35\n"
     ]
    }
   ],
   "source": [
    "%%python3\n",
    "\n",
    "from datetime import date\n",
    "birth_yr = int(input('Enter Your Birth Year: '))\n",
    "print(date.today().year - birth_yr)"
   ]
  },
  {
   "cell_type": "markdown",
   "metadata": {},
   "source": [
    "#### **How To Find Last File Properties Changed Time?**"
   ]
  },
  {
   "cell_type": "code",
   "execution_count": 85,
   "metadata": {},
   "outputs": [
    {
     "name": "stdout",
     "output_type": "stream",
     "text": [
      "Thu May  7 22:11:08 2020\n"
     ]
    }
   ],
   "source": [
    "%%bash\n",
    "\n",
    "epoc=$(stat -c \"%Z\" /home/mana/Work/example.py)\n",
    "date -d @$epoc +\"%a %b %_d %T %Y\""
   ]
  },
  {
   "cell_type": "code",
   "execution_count": 88,
   "metadata": {},
   "outputs": [
    {
     "name": "stdout",
     "output_type": "stream",
     "text": [
      "Thu May  7 22:11:08 2020\n"
     ]
    }
   ],
   "source": [
    "%%python3\n",
    "\n",
    "import os\n",
    "import time\n",
    "\n",
    "file = '/home/mana/Work/example.py'\n",
    "create = os.stat(file).st_ctime\n",
    "print(time.ctime(create))"
   ]
  },
  {
   "cell_type": "markdown",
   "metadata": {},
   "source": [
    "#### **How To Obtain UNIX Epoch Time?**"
   ]
  },
  {
   "cell_type": "code",
   "execution_count": 95,
   "metadata": {},
   "outputs": [
    {
     "name": "stdout",
     "output_type": "stream",
     "text": [
      "1591324276\n"
     ]
    }
   ],
   "source": [
    "%%bash\n",
    "\n",
    "date \"+%s\" "
   ]
  },
  {
   "cell_type": "code",
   "execution_count": 96,
   "metadata": {},
   "outputs": [
    {
     "name": "stdout",
     "output_type": "stream",
     "text": [
      "1591324277.377527\n"
     ]
    }
   ],
   "source": [
    "%%python3\n",
    "\n",
    "import time\n",
    "print(time.time())"
   ]
  },
  {
   "cell_type": "markdown",
   "metadata": {},
   "source": [
    "#### **How To Find Path Of Module?**"
   ]
  },
  {
   "cell_type": "code",
   "execution_count": 12,
   "metadata": {},
   "outputs": [
    {
     "name": "stdout",
     "output_type": "stream",
     "text": [
      "<module 'random' from '/usr/lib/python3.6/random.py'>\n"
     ]
    }
   ],
   "source": [
    "import random\n",
    "print(random)"
   ]
  },
  {
   "cell_type": "markdown",
   "metadata": {},
   "source": [
    "#### **How To Find MAC Address Of Network Device?**"
   ]
  },
  {
   "cell_type": "code",
   "execution_count": 30,
   "metadata": {},
   "outputs": [
    {
     "name": "stdout",
     "output_type": "stream",
     "text": [
      "    link/ether 00:e0:8c:68:0b:ac brd ff:ff:ff:ff:ff:ff\n",
      "    link/ether fc:de:56:ff:01:06 brd ff:ff:ff:ff:ff:ff\n",
      "    link/ether 02:42:ff:35:bb:c5 brd ff:ff:ff:ff:ff:ff\n"
     ]
    }
   ],
   "source": [
    "%%bash\n",
    "\n",
    "ip a | grep \"link/ether\" "
   ]
  },
  {
   "cell_type": "code",
   "execution_count": 21,
   "metadata": {},
   "outputs": [
    {
     "name": "stdout",
     "output_type": "stream",
     "text": [
      "Device-Name               MAC-Address\n",
      "=========================================\n",
      "enxfcde56ff0106         fc:de:56:ff:01:06\n",
      "ens33                   00:e0:8c:68:0b:ac\n",
      "docker0                 02:42:07:f8:57:61\n"
     ]
    }
   ],
   "source": [
    "%%python3\n",
    "\n",
    "from pathlib import Path\n",
    "d = Path('/sys/class/net')\n",
    "addr = [i for i in d.rglob('*/*') if str(i).endswith('address')]\n",
    "lst = [(j.parent.stem,j.read_text().strip()) for j in addr]\n",
    "print('{} {:>25}'.format('Device-Name', 'MAC-Address'))\n",
    "print('='*41)\n",
    "\n",
    "for x,y in lst:\n",
    "    if not x == 'lo':\n",
    "        print('{:15} {:>25}'.format(x,y))"
   ]
  },
  {
   "cell_type": "markdown",
   "metadata": {},
   "source": [
    "#### **How To Find MAC Address Of Current Using Network Device?**"
   ]
  },
  {
   "cell_type": "code",
   "execution_count": 16,
   "metadata": {},
   "outputs": [
    {
     "name": "stdout",
     "output_type": "stream",
     "text": [
      "fc:de:56:ff:01:06\n"
     ]
    }
   ],
   "source": [
    "%%python3\n",
    "\n",
    "from re import findall\n",
    "import uuid\n",
    "\n",
    "haddr = f'{uuid.getnode():x}'\n",
    "print(':'.join(findall('..',haddr)))"
   ]
  },
  {
   "cell_type": "markdown",
   "metadata": {},
   "source": [
    "#### **What Is Difference Between Function And Method?**\n",
    ">**If define function outside of class, It is called Function.**   \n",
    ">**If define function inside of class, It is called Method.**"
   ]
  },
  {
   "cell_type": "code",
   "execution_count": 3,
   "metadata": {},
   "outputs": [
    {
     "name": "stdout",
     "output_type": "stream",
     "text": [
      "9\n",
      "7\n"
     ]
    }
   ],
   "source": [
    "def function(x, y):\n",
    "    return x + y\n",
    "\n",
    "print(function(5, 4))\n",
    "\n",
    "class A:\n",
    "    def method(self, x, y):\n",
    "        print(x + y)\n",
    "        \n",
    "obj = A()\n",
    "obj.method(3, 4)"
   ]
  },
  {
   "cell_type": "markdown",
   "metadata": {},
   "source": [
    "#### **How To Find Maximum Values Of Column?**"
   ]
  },
  {
   "cell_type": "code",
   "execution_count": 8,
   "metadata": {},
   "outputs": [
    {
     "name": "stdout",
     "output_type": "stream",
     "text": [
      "veera\t76\r\n",
      "kali\t15\r\n",
      "muthu\t87\r\n",
      "kris\t33\r\n",
      "mari\t12\r\n"
     ]
    }
   ],
   "source": [
    "cat /home/mana/Work/data.txt"
   ]
  },
  {
   "cell_type": "code",
   "execution_count": 16,
   "metadata": {},
   "outputs": [
    {
     "name": "stdout",
     "output_type": "stream",
     "text": [
      "87\n"
     ]
    }
   ],
   "source": [
    "%%bash\n",
    "\n",
    "file='/home/mana/Work/data.txt'\n",
    "awk -v max=0 'max < $NF{max = $NF}END{print max}' $file"
   ]
  },
  {
   "cell_type": "code",
   "execution_count": 24,
   "metadata": {},
   "outputs": [
    {
     "name": "stdout",
     "output_type": "stream",
     "text": [
      "87\n"
     ]
    }
   ],
   "source": [
    "%%python3\n",
    "\n",
    "from pathlib import Path\n",
    "file = '/home/mana/Work/data.txt'\n",
    "data = [int(i.split()[1]) \n",
    "        for i in Path(file).read_text().splitlines()]\n",
    "print(max(data))"
   ]
  },
  {
   "cell_type": "markdown",
   "metadata": {},
   "source": [
    "#### **How To Find Minimum Values Of Column?**"
   ]
  },
  {
   "cell_type": "code",
   "execution_count": 25,
   "metadata": {},
   "outputs": [
    {
     "name": "stdout",
     "output_type": "stream",
     "text": [
      "veera\t76\r\n",
      "kali\t15\r\n",
      "muthu\t87\r\n",
      "kris\t33\r\n",
      "mari\t12\r\n"
     ]
    }
   ],
   "source": [
    "cat /home/mana/Work/data.txt"
   ]
  },
  {
   "cell_type": "code",
   "execution_count": 29,
   "metadata": {},
   "outputs": [
    {
     "name": "stdout",
     "output_type": "stream",
     "text": [
      "12\n"
     ]
    }
   ],
   "source": [
    "%%bash\n",
    "\n",
    "file='/home/mana/Work/data.txt'\n",
    "awk 'min==\"\" || $NF < min {min=$NF}END{print min}' $file"
   ]
  },
  {
   "cell_type": "code",
   "execution_count": 27,
   "metadata": {},
   "outputs": [
    {
     "name": "stdout",
     "output_type": "stream",
     "text": [
      "12\n"
     ]
    }
   ],
   "source": [
    "%%python3\n",
    "\n",
    "from pathlib import Path\n",
    "file = '/home/mana/Work/data.txt'\n",
    "data = [int(i.split()[1]) \n",
    "        for i in Path(file).read_text().splitlines()]\n",
    "print(min(data))"
   ]
  },
  {
   "cell_type": "markdown",
   "metadata": {},
   "source": [
    "#### **How To Sum Values Of Column?**"
   ]
  },
  {
   "cell_type": "code",
   "execution_count": 10,
   "metadata": {},
   "outputs": [
    {
     "name": "stdout",
     "output_type": "stream",
     "text": [
      "veera\t76\r\n",
      "kali\t15\r\n",
      "muthu\t87\r\n",
      "kris\t33\r\n",
      "mari\t12\r\n"
     ]
    }
   ],
   "source": [
    "cat /home/mana/Work/data.txt"
   ]
  },
  {
   "cell_type": "code",
   "execution_count": 11,
   "metadata": {},
   "outputs": [
    {
     "name": "stdout",
     "output_type": "stream",
     "text": [
      "223\n"
     ]
    }
   ],
   "source": [
    "%%bash\n",
    "\n",
    "file='/home/mana/Work/data.txt'\n",
    "awk '{sum += $2} END {print sum}' $file"
   ]
  },
  {
   "cell_type": "code",
   "execution_count": 19,
   "metadata": {},
   "outputs": [
    {
     "name": "stdout",
     "output_type": "stream",
     "text": [
      "223\n"
     ]
    }
   ],
   "source": [
    "with open('/home/mana/Work/data.txt') as file:\n",
    "    num = [int(i.split()[1]) for i in file.readlines()]\n",
    "    print(sum(num))"
   ]
  },
  {
   "cell_type": "markdown",
   "metadata": {},
   "source": [
    "#### **How To Find Average Values Of Column?**"
   ]
  },
  {
   "cell_type": "code",
   "execution_count": 10,
   "metadata": {},
   "outputs": [
    {
     "name": "stdout",
     "output_type": "stream",
     "text": [
      "veera\t76\r\n",
      "kali\t15\r\n",
      "muthu\t87\r\n",
      "kris\t33\r\n",
      "mari\t12\r\n"
     ]
    }
   ],
   "source": [
    "cat /home/mana/Work/data.txt"
   ]
  },
  {
   "cell_type": "code",
   "execution_count": 12,
   "metadata": {},
   "outputs": [
    {
     "name": "stdout",
     "output_type": "stream",
     "text": [
      "44.6\n"
     ]
    }
   ],
   "source": [
    "%%bash\n",
    "\n",
    "file='/home/mana/Work/data.txt'\n",
    "awk '{sum += $NF} END {print sum/NR}' $file"
   ]
  },
  {
   "cell_type": "code",
   "execution_count": 28,
   "metadata": {},
   "outputs": [
    {
     "name": "stdout",
     "output_type": "stream",
     "text": [
      "44.6\n"
     ]
    }
   ],
   "source": [
    "%%python3\n",
    "\n",
    "from pathlib import Path\n",
    "file = '/home/mana/Work/data.txt'\n",
    "data = [int(i.split()[1]) \n",
    "        for i in Path(file).read_text().splitlines()]\n",
    "print(sum(data)/len(data))"
   ]
  },
  {
   "cell_type": "markdown",
   "metadata": {},
   "source": [
    "#### **How To Find Average Values Of Column?**"
   ]
  },
  {
   "cell_type": "code",
   "execution_count": 38,
   "metadata": {},
   "outputs": [
    {
     "name": "stdout",
     "output_type": "stream",
     "text": [
      "veera\t76\r\n",
      "kali\t15\r\n",
      "muthu\t87\r\n",
      "kris\t33\r\n",
      "mari\t12\r\n"
     ]
    }
   ],
   "source": [
    "cat /home/mana/Work/data.txt "
   ]
  },
  {
   "cell_type": "code",
   "execution_count": 12,
   "metadata": {},
   "outputs": [
    {
     "name": "stdout",
     "output_type": "stream",
     "text": [
      "44.6\n"
     ]
    }
   ],
   "source": [
    "%%bash\n",
    "\n",
    "file='/home/mana/Work/data.txt'\n",
    "awk '{sum += $NF} END {print sum/NR}' $file"
   ]
  },
  {
   "cell_type": "code",
   "execution_count": 28,
   "metadata": {},
   "outputs": [
    {
     "name": "stdout",
     "output_type": "stream",
     "text": [
      "44.6\n"
     ]
    }
   ],
   "source": [
    "%%python3\n",
    "\n",
    "from pathlib import Path\n",
    "file = '/home/mana/Work/data.txt'\n",
    "data = [int(i.split()[1]) \n",
    "        for i in Path(file).read_text().splitlines()]\n",
    "print(sum(data)/len(data))"
   ]
  },
  {
   "cell_type": "markdown",
   "metadata": {},
   "source": [
    "#### **How To Write ABCD...?**"
   ]
  },
  {
   "cell_type": "code",
   "execution_count": 30,
   "metadata": {},
   "outputs": [
    {
     "name": "stdout",
     "output_type": "stream",
     "text": [
      "          A B C D \n",
      "          E F G H \n",
      "          I J K L \n",
      "          M N O P \n",
      "          Q R S T \n",
      "          U V W X \n",
      "          Y Z     \n"
     ]
    }
   ],
   "source": [
    "import sys\n",
    "\n",
    "letters = [chr(i) for i  in range(65, 91)]\n",
    "fmt = ('{:2s}')*4\n",
    "\n",
    "for fn in zip(*[iter(letters + [' ']*5)] *4):\n",
    "    sys.stdout.write(' '*10)\n",
    "    print(fmt.format(*fn))"
   ]
  },
  {
   "cell_type": "markdown",
   "metadata": {},
   "source": [
    "#### **Comprehension**"
   ]
  },
  {
   "cell_type": "markdown",
   "metadata": {},
   "source": [
    "**List Comprehension**"
   ]
  },
  {
   "cell_type": "code",
   "execution_count": 5,
   "metadata": {},
   "outputs": [
    {
     "data": {
      "text/plain": [
       "['R', 'o', 'o', 'o', 's', 'e']"
      ]
     },
     "execution_count": 5,
     "metadata": {},
     "output_type": "execute_result"
    }
   ],
   "source": [
    "S = \"Rooose\"\n",
    "[i for i in S]"
   ]
  },
  {
   "cell_type": "markdown",
   "metadata": {},
   "source": [
    "**Set Comprehension**"
   ]
  },
  {
   "cell_type": "code",
   "execution_count": 7,
   "metadata": {},
   "outputs": [
    {
     "data": {
      "text/plain": [
       "{'R', 'e', 'o', 's'}"
      ]
     },
     "execution_count": 7,
     "metadata": {},
     "output_type": "execute_result"
    }
   ],
   "source": [
    "S = \"Rooose\"\n",
    "{i for i in S}"
   ]
  },
  {
   "cell_type": "markdown",
   "metadata": {},
   "source": [
    "**Dictionary Comprehension**"
   ]
  },
  {
   "cell_type": "code",
   "execution_count": 6,
   "metadata": {},
   "outputs": [
    {
     "data": {
      "text/plain": [
       "{'R': 82, 'o': 111, 's': 115, 'e': 101}"
      ]
     },
     "execution_count": 6,
     "metadata": {},
     "output_type": "execute_result"
    }
   ],
   "source": [
    "S = \"Rooose\"\n",
    "{i: ord(i) for i in S}"
   ]
  },
  {
   "cell_type": "markdown",
   "metadata": {},
   "source": [
    "#### **How Object Call Works?**\n",
    "**object.method(self) =  class.method(object)   \n",
    "When object call method(object.method(self)), Python Interpreter    \n",
    "converts internally to class.method(object).**"
   ]
  },
  {
   "cell_type": "code",
   "execution_count": 10,
   "metadata": {},
   "outputs": [
    {
     "name": "stdout",
     "output_type": "stream",
     "text": [
      "Hi I am Python.\n"
     ]
    }
   ],
   "source": [
    "class A:\n",
    "    def show(self):\n",
    "        print('Hi I am Python.')\n",
    "        \n",
    "obj = A()\n",
    "obj.show()"
   ]
  },
  {
   "cell_type": "code",
   "execution_count": 8,
   "metadata": {},
   "outputs": [
    {
     "name": "stdout",
     "output_type": "stream",
     "text": [
      "Hi I am Python.\n"
     ]
    }
   ],
   "source": [
    "class A:\n",
    "    def show(object):\n",
    "        print('Hi I am Python.')\n",
    "        \n",
    "obj = A()\n",
    "obj.show()"
   ]
  },
  {
   "cell_type": "code",
   "execution_count": 9,
   "metadata": {},
   "outputs": [
    {
     "name": "stdout",
     "output_type": "stream",
     "text": [
      "Hi I am Python.\n"
     ]
    }
   ],
   "source": [
    "class A:\n",
    "    def show(object):\n",
    "        print('Hi I am Python.')\n",
    "        \n",
    "obj = A()\n",
    "A.show(obj)"
   ]
  },
  {
   "cell_type": "markdown",
   "metadata": {},
   "source": [
    "#### **How To List Modified Files Between Specific Range Of Days?**\n",
    "**Here, I list modified files Apr 08 to Apr 10.**"
   ]
  },
  {
   "cell_type": "code",
   "execution_count": 4,
   "metadata": {},
   "outputs": [
    {
     "name": "stdout",
     "output_type": "stream",
     "text": [
      "/home/mana/Work/map.txt\n",
      "/home/mana/Work/log_report.csv\n"
     ]
    }
   ],
   "source": [
    "%%bash\n",
    "\n",
    "find /home/mana/Work/ -type f -newermt 20200408 \\! \\\n",
    "-newermt 20200410"
   ]
  },
  {
   "cell_type": "code",
   "execution_count": 5,
   "metadata": {},
   "outputs": [
    {
     "name": "stdout",
     "output_type": "stream",
     "text": [
      "08-04-2020 => /home/mana/Work/map.txt\n",
      "08-04-2020 => /home/mana/Work/log_report.csv\n"
     ]
    }
   ],
   "source": [
    "%%python3\n",
    "\n",
    "from datetime import datetime\n",
    "from pathlib import Path\n",
    "\n",
    "start_day = datetime.strptime('08/4/2020 00',\"%d/%m/%Y %H\")\n",
    "end_day = datetime.strptime('10/4/2020 00',\"%d/%m/%Y %H\")\n",
    "files = Path('/home/mana/Work/')\n",
    "ftime = [(datetime.fromtimestamp(i.stat()[-2]),i) \n",
    "         for i in files.iterdir() if i.is_file()]\n",
    "\n",
    "for x,y in ftime:\n",
    "    if start_day < x < end_day:\n",
    "        print(f'{x:%d-%m-%Y} => {y}')"
   ]
  },
  {
   "cell_type": "code",
   "execution_count": 28,
   "metadata": {},
   "outputs": [
    {
     "name": "stdout",
     "output_type": "stream",
     "text": [
      "     1.Apple Apple Apple.\n",
      "     2.Watermelon.\n",
      "     3.Bannana.\n",
      "     4.Orange.\n",
      "     5.lemon.\n"
     ]
    }
   ],
   "source": [
    "%%bash\n",
    "\n",
    "nl -s \".\" ~/Work/fruit.txt"
   ]
  },
  {
   "cell_type": "markdown",
   "metadata": {},
   "source": [
    "#### **How To Add Line Number To File?**"
   ]
  },
  {
   "cell_type": "code",
   "execution_count": 31,
   "metadata": {},
   "outputs": [
    {
     "name": "stdout",
     "output_type": "stream",
     "text": [
      "1. Apple Apple Apple.\n",
      "2. Watermelon.\n",
      "3. Bannana.\n",
      "4. Orange.\n",
      "5. lemon.\n"
     ]
    }
   ],
   "source": [
    "from pathlib import Path\n",
    "\n",
    "file = Path('/home/mana/Work/fruit.txt').read_text()\n",
    "for i,j in enumerate(file.splitlines(), 1):\n",
    "    print(str(i) + '.', j)"
   ]
  },
  {
   "cell_type": "code",
   "execution_count": 33,
   "metadata": {},
   "outputs": [
    {
     "name": "stdout",
     "output_type": "stream",
     "text": [
      "1. Apple Apple Apple.\n",
      "2. Watermelon.\n",
      "3. Bannana.\n",
      "4. Orange.\n",
      "5. lemon.\n"
     ]
    }
   ],
   "source": [
    "from itertools import count\n",
    "from pathlib import Path\n",
    "\n",
    "file = Path('/home/mana/Work/fruit.txt').read_text()\n",
    "for i, j in zip(count(1), file.splitlines()):\n",
    "    print(str(i) + '.', j)\n",
    "    "
   ]
  },
  {
   "cell_type": "markdown",
   "metadata": {},
   "source": [
    "#### **Generator**\n",
    "\n",
    "**It generate one element at a time from sequence.**"
   ]
  },
  {
   "cell_type": "code",
   "execution_count": 6,
   "metadata": {},
   "outputs": [
    {
     "name": "stdout",
     "output_type": "stream",
     "text": [
      "P\n",
      "y\n",
      "t\n"
     ]
    }
   ],
   "source": [
    "lang = 'Python'\n",
    "gen = (i for i in lang)\n",
    "print(next(gen))\n",
    "print(next(gen))\n",
    "print(next(gen))"
   ]
  },
  {
   "cell_type": "markdown",
   "metadata": {},
   "source": [
    "#### **Print file permission in Numeric Mode**"
   ]
  },
  {
   "cell_type": "code",
   "execution_count": 24,
   "metadata": {},
   "outputs": [
    {
     "name": "stdout",
     "output_type": "stream",
     "text": [
      "664\r\n"
     ]
    }
   ],
   "source": [
    "!stat -c \"%a\" /home/mana/test"
   ]
  },
  {
   "cell_type": "code",
   "execution_count": 23,
   "metadata": {},
   "outputs": [
    {
     "name": "stdout",
     "output_type": "stream",
     "text": [
      "664\n"
     ]
    }
   ],
   "source": [
    "%%python3\n",
    "\n",
    "from pathlib import Path\n",
    "import stat\n",
    "file = Path('/home/mana/test').stat()\n",
    "print(f'{stat.S_IMODE(file.st_mode):o}')"
   ]
  },
  {
   "cell_type": "markdown",
   "metadata": {},
   "source": [
    "#### **MRO in Inheritance**\n",
    "\n",
    "**If multiple class use same function, It will be resloved       \n",
    "when child class inherit argument position order.**"
   ]
  },
  {
   "cell_type": "markdown",
   "metadata": {},
   "source": [
    "#### **Method Resloution Order(MRO)**"
   ]
  },
  {
   "cell_type": "code",
   "execution_count": 2,
   "metadata": {},
   "outputs": [
    {
     "name": "stdout",
     "output_type": "stream",
     "text": [
      "class B speaking.\n"
     ]
    }
   ],
   "source": [
    "class A:\n",
    "    def speak(self):\n",
    "        print(\"class A speaking.\")\n",
    "\n",
    "class B:\n",
    "    def speak(self):\n",
    "        print(\"class B speaking.\")\n",
    "\n",
    "class C(B, A):\n",
    "    pass\n",
    "\n",
    "c = C()\n",
    "c.speak()"
   ]
  },
  {
   "cell_type": "markdown",
   "metadata": {},
   "source": [
    "#### **How To Replace Multiple String?**"
   ]
  },
  {
   "cell_type": "code",
   "execution_count": 2,
   "metadata": {},
   "outputs": [
    {
     "name": "stdout",
     "output_type": "stream",
     "text": [
      "Linux and Linux is Good Operating System.\n"
     ]
    }
   ],
   "source": [
    "%%bash\n",
    "\n",
    "echo \"Unix and Windows is Good Operating System.\" | \\\n",
    "sed -r \"s/(Unix|Windows)/Linux/g\""
   ]
  },
  {
   "cell_type": "markdown",
   "metadata": {},
   "source": [
    "#### **How To Filter Which String Have Second Charcter \"a\"?**"
   ]
  },
  {
   "cell_type": "code",
   "execution_count": 9,
   "metadata": {},
   "outputs": [],
   "source": [
    "name = ['Ram', 'Vadivelu', 'Vishnu', 'Murugan', \n",
    "        'Senthil', 'Kantha']"
   ]
  },
  {
   "cell_type": "markdown",
   "metadata": {},
   "source": [
    "<p style=\"padding-left:50px;color:#33FFF9;font-size:14px;font-weight:bolder\">Logic: 1\n"
   ]
  },
  {
   "cell_type": "code",
   "execution_count": 11,
   "metadata": {},
   "outputs": [
    {
     "data": {
      "text/plain": [
       "['Ram', 'Vadivelu', 'Kantha']"
      ]
     },
     "execution_count": 11,
     "metadata": {},
     "output_type": "execute_result"
    }
   ],
   "source": [
    "[ i for i in name if i[1] == 'a']"
   ]
  },
  {
   "cell_type": "markdown",
   "metadata": {},
   "source": [
    "<p style=\"padding-left:50px;color:#33FFF9;font-size:14px;font-weight:bolder\">Logic: 2"
   ]
  },
  {
   "cell_type": "code",
   "execution_count": 10,
   "metadata": {},
   "outputs": [
    {
     "data": {
      "text/plain": [
       "['Ram', 'Vadivelu', 'Kantha']"
      ]
     },
     "execution_count": 10,
     "metadata": {},
     "output_type": "execute_result"
    }
   ],
   "source": [
    "[ i for i in name if 'a' in i[1]]"
   ]
  },
  {
   "cell_type": "markdown",
   "metadata": {},
   "source": [
    "#### **How To List Specific Extension Files Only?**"
   ]
  },
  {
   "cell_type": "code",
   "execution_count": null,
   "metadata": {},
   "outputs": [],
   "source": [
    "%%bash\n",
    "\n",
    "ls -1 /home/mana/Work/*.txt"
   ]
  },
  {
   "cell_type": "code",
   "execution_count": 30,
   "metadata": {},
   "outputs": [
    {
     "name": "stdout",
     "output_type": "stream",
     "text": [
      "/home/mana/Work/storage.txt\n",
      "/home/mana/Work/uday1.txt\n",
      "/home/mana/Work/data.txt\n",
      "/home/mana/Work/test.txt\n",
      "/home/mana/Work/fruit2.txt\n",
      "/home/mana/Work/samplelog.txt\n",
      "/home/mana/Work/rama.txt\n",
      "/home/mana/Work/map.txt\n",
      "/home/mana/Work/Banglore.txt\n",
      "/home/mana/Work/fruit1.txt\n",
      "/home/mana/Work/values.txt\n",
      "/home/mana/Work/out.txt\n",
      "/home/mana/Work/english.txt\n",
      "/home/mana/Work/e.txt\n",
      "/home/mana/Work/user.txt\n",
      "/home/mana/Work/name.txt\n",
      "/home/mana/Work/notes.txt\n",
      "/home/mana/Work/fruit.txt\n",
      "/home/mana/Work/morning.txt\n",
      "/home/mana/Work/collapse.txt\n",
      "/home/mana/Work/cesar.txt\n",
      "/home/mana/Work/test/data.txt\n"
     ]
    }
   ],
   "source": [
    "%%python3\n",
    "\n",
    "from pathlib import Path\n",
    "files = Path('/home/mana/Work/').rglob('*.txt')\n",
    "print(*files, sep = '\\n')"
   ]
  },
  {
   "cell_type": "markdown",
   "metadata": {},
   "source": [
    "#### **How To Get Help In Python?**"
   ]
  },
  {
   "cell_type": "code",
   "execution_count": 20,
   "metadata": {},
   "outputs": [
    {
     "name": "stdout",
     "output_type": "stream",
     "text": [
      "Help on method_descriptor:\n",
      "\n",
      "count(...)\n",
      "    S.count(sub[, start[, end]]) -> int\n",
      "    \n",
      "    Return the number of non-overlapping occurrences of substring sub in\n",
      "    string S[start:end].  Optional arguments start and end are\n",
      "    interpreted as in slice notation.\n",
      "\n"
     ]
    }
   ],
   "source": [
    "help(str.count)"
   ]
  },
  {
   "cell_type": "code",
   "execution_count": 22,
   "metadata": {},
   "outputs": [
    {
     "name": "stdout",
     "output_type": "stream",
     "text": [
      "S.count(sub[, start[, end]]) -> int\n",
      "\n",
      "Return the number of non-overlapping occurrences of substring sub in\n",
      "string S[start:end].  Optional arguments start and end are\n",
      "interpreted as in slice notation.\n"
     ]
    }
   ],
   "source": [
    "print(str.count.__doc__)"
   ]
  },
  {
   "cell_type": "markdown",
   "metadata": {},
   "source": [
    "#### **How Print Function Works?**\n",
    "**Print function internally calls write system call &#8658; sys.stdout.write('string')**\n"
   ]
  },
  {
   "cell_type": "code",
   "execution_count": 41,
   "metadata": {},
   "outputs": [
    {
     "name": "stdout",
     "output_type": "stream",
     "text": [
      "Hello World"
     ]
    }
   ],
   "source": [
    "import sys\n",
    "\n",
    "sys.stdout.write('Hello World')"
   ]
  },
  {
   "cell_type": "code",
   "execution_count": 42,
   "metadata": {},
   "outputs": [
    {
     "name": "stdout",
     "output_type": "stream",
     "text": [
      "Hello World\n"
     ]
    }
   ],
   "source": [
    "print('Hello World')"
   ]
  },
  {
   "cell_type": "markdown",
   "metadata": {},
   "source": [
    "#### **How Many Years Passed Since UNIX Time?**"
   ]
  },
  {
   "cell_type": "code",
   "execution_count": 84,
   "metadata": {},
   "outputs": [
    {
     "name": "stdout",
     "output_type": "stream",
     "text": [
      "50\n"
     ]
    }
   ],
   "source": [
    "%%bash\n",
    "\n",
    "seconds=$(date +%s)\n",
    "echo $(($seconds/(365*86400)))"
   ]
  },
  {
   "cell_type": "code",
   "execution_count": 86,
   "metadata": {},
   "outputs": [
    {
     "name": "stdout",
     "output_type": "stream",
     "text": [
      "50.46931263986543\n"
     ]
    }
   ],
   "source": [
    "%%python3\n",
    "\n",
    "from datetime import timedelta\n",
    "import time\n",
    "seconds = time.time()\n",
    "year_seconds = timedelta(days = 365.24)\n",
    "print(seconds/year_seconds.total_seconds())"
   ]
  },
  {
   "cell_type": "markdown",
   "metadata": {},
   "source": [
    "#### **How Many Seconds In One Day?**"
   ]
  },
  {
   "cell_type": "code",
   "execution_count": 74,
   "metadata": {},
   "outputs": [
    {
     "data": {
      "text/plain": [
       "86400.0"
      ]
     },
     "execution_count": 74,
     "metadata": {},
     "output_type": "execute_result"
    }
   ],
   "source": [
    "from datetime import timedelta\n",
    "timedelta(days = 1).total_seconds()"
   ]
  },
  {
   "cell_type": "markdown",
   "metadata": {},
   "source": [
    "#### **The UNIX Time**"
   ]
  },
  {
   "cell_type": "code",
   "execution_count": 1,
   "metadata": {},
   "outputs": [
    {
     "name": "stdout",
     "output_type": "stream",
     "text": [
      "1592784879\n"
     ]
    }
   ],
   "source": [
    "%%bash\n",
    "\n",
    "date +%s"
   ]
  },
  {
   "cell_type": "code",
   "execution_count": 2,
   "metadata": {},
   "outputs": [
    {
     "data": {
      "text/plain": [
       "1592784879.8478882"
      ]
     },
     "execution_count": 2,
     "metadata": {},
     "output_type": "execute_result"
    }
   ],
   "source": [
    "import time\n",
    "\n",
    "time.time()"
   ]
  },
  {
   "cell_type": "markdown",
   "metadata": {},
   "source": [
    "#### **How List All Files Name Without Extension?**"
   ]
  },
  {
   "cell_type": "code",
   "execution_count": null,
   "metadata": {},
   "outputs": [],
   "source": [
    "%%bash\n",
    "\n",
    "ls -1 ~/Work | awk -F \".\" '{print $1}'"
   ]
  },
  {
   "cell_type": "code",
   "execution_count": null,
   "metadata": {},
   "outputs": [],
   "source": [
    "%%python3\n",
    "\n",
    "from pathlib import Path\n",
    "dpath = Path('/home/mana/Work')\n",
    "files = [i.stem for i in dpath.iterdir()]\n",
    "print(*files, sep = '\\n')"
   ]
  },
  {
   "cell_type": "markdown",
   "metadata": {},
   "source": [
    "#### **How To Capture Logs On Hourly Basis?**"
   ]
  },
  {
   "cell_type": "code",
   "execution_count": null,
   "metadata": {},
   "outputs": [],
   "source": [
    "%%bash\n",
    "\n",
    "grep \"Jun 23 04\" /var/log/syslog"
   ]
  },
  {
   "cell_type": "code",
   "execution_count": null,
   "metadata": {},
   "outputs": [],
   "source": [
    "%%python3\n",
    "\n",
    "date_hour = input('Enter Mon dd HH: ')\n",
    "print()\n",
    "with open('/var/log/syslog', errors='ignore') as f:\n",
    "    for i in f:\n",
    "        if i.startswith(date_hour):\n",
    "            print(i)"
   ]
  },
  {
   "cell_type": "markdown",
   "metadata": {},
   "source": [
    "#### **Print Even Number**"
   ]
  },
  {
   "cell_type": "markdown",
   "metadata": {},
   "source": [
    "<p style=\"padding-left:50px;color:#33FFF9;font-size:14px;font-weight:bolder\">Logic: 1"
   ]
  },
  {
   "cell_type": "code",
   "execution_count": 46,
   "metadata": {},
   "outputs": [
    {
     "name": "stdout",
     "output_type": "stream",
     "text": [
      "0 2 4 6 8\n"
     ]
    }
   ],
   "source": [
    "print(*range(0, 10, 2))"
   ]
  },
  {
   "cell_type": "markdown",
   "metadata": {},
   "source": [
    "<p style=\"padding-left:50px;color:#33FFF9;font-size:14px;font-weight:bolder\">Logic: 2"
   ]
  },
  {
   "cell_type": "code",
   "execution_count": 47,
   "metadata": {},
   "outputs": [
    {
     "name": "stdout",
     "output_type": "stream",
     "text": [
      "0 2 4 6 8\n"
     ]
    }
   ],
   "source": [
    "even = [i for i in range(0, 10, 2)]\n",
    "print(*even)"
   ]
  },
  {
   "cell_type": "markdown",
   "metadata": {},
   "source": [
    "<p style=\"padding-left:50px;color:#33FFF9;font-size:14px;font-weight:bolder\">Logic: 3"
   ]
  },
  {
   "cell_type": "code",
   "execution_count": 50,
   "metadata": {},
   "outputs": [
    {
     "name": "stdout",
     "output_type": "stream",
     "text": [
      "0 2 4 6 8\n"
     ]
    }
   ],
   "source": [
    "even = [i for i in range(0, 10) if i%2 == 0]\n",
    "print(*even)"
   ]
  },
  {
   "cell_type": "markdown",
   "metadata": {},
   "source": [
    "#### **Convert String To List**"
   ]
  },
  {
   "cell_type": "markdown",
   "metadata": {},
   "source": [
    "<p style=\"padding-left:40px;color:#33FFF9;font-size:13px;font-weight:bolder\">Logic: 1"
   ]
  },
  {
   "cell_type": "code",
   "execution_count": 22,
   "metadata": {},
   "outputs": [
    {
     "data": {
      "text/plain": [
       "['P', 'y', 't', 'h', 'o', 'n']"
      ]
     },
     "execution_count": 22,
     "metadata": {},
     "output_type": "execute_result"
    }
   ],
   "source": [
    "lang = 'Python'\n",
    "list(lang)"
   ]
  },
  {
   "cell_type": "markdown",
   "metadata": {},
   "source": [
    "<p style=\"padding-left:40px;color:#33FFF9;font-size:13px;font-weight:bolder\">Logic: 2"
   ]
  },
  {
   "cell_type": "code",
   "execution_count": 23,
   "metadata": {},
   "outputs": [
    {
     "data": {
      "text/plain": [
       "['P', 'y', 't', 'h', 'o', 'n']"
      ]
     },
     "execution_count": 23,
     "metadata": {},
     "output_type": "execute_result"
    }
   ],
   "source": [
    "lang = 'Python'\n",
    "[i for i in lang]"
   ]
  },
  {
   "cell_type": "markdown",
   "metadata": {},
   "source": [
    "<p style=\"padding-left:40px;color:#33FFF9;font-size:13px;font-weight:bolder\">Logic: 3"
   ]
  },
  {
   "cell_type": "code",
   "execution_count": 24,
   "metadata": {},
   "outputs": [
    {
     "data": {
      "text/plain": [
       "['P', 'y', 't', 'h', 'o', 'n']"
      ]
     },
     "execution_count": 24,
     "metadata": {},
     "output_type": "execute_result"
    }
   ],
   "source": [
    "lang = 'Python'\n",
    "tmp = []\n",
    "for i in lang:\n",
    "    tmp += i\n",
    "tmp"
   ]
  },
  {
   "cell_type": "markdown",
   "metadata": {},
   "source": [
    "#### **How To Convert UNIX Seconds Of Specific Date?**"
   ]
  },
  {
   "cell_type": "code",
   "execution_count": 13,
   "metadata": {},
   "outputs": [
    {
     "name": "stdout",
     "output_type": "stream",
     "text": [
      "1425925800\n"
     ]
    }
   ],
   "source": [
    "%%bash\n",
    "\n",
    "date -d \"Mar 10 2015\" +%s"
   ]
  },
  {
   "cell_type": "code",
   "execution_count": 15,
   "metadata": {},
   "outputs": [
    {
     "name": "stdout",
     "output_type": "stream",
     "text": [
      "1428619265\n"
     ]
    }
   ],
   "source": [
    "%%bash\n",
    "\n",
    "date -d \"04/10/2015 04:11:05\" \"+%s\""
   ]
  },
  {
   "cell_type": "code",
   "execution_count": 14,
   "metadata": {},
   "outputs": [
    {
     "name": "stdout",
     "output_type": "stream",
     "text": [
      "1425925800.0\n"
     ]
    }
   ],
   "source": [
    "%%python3\n",
    "\n",
    "import time\n",
    "time_string = \"Mar 10 2015\"\n",
    "result = time.strptime(time_string, \"%b %d %Y\")\n",
    "print(time.mktime(result))"
   ]
  },
  {
   "cell_type": "markdown",
   "metadata": {},
   "source": [
    "#### **Lambda**\n",
    "\n",
    "**Lambda is nameless function means we can create function without name.**"
   ]
  },
  {
   "cell_type": "code",
   "execution_count": 2,
   "metadata": {},
   "outputs": [
    {
     "data": {
      "text/plain": [
       "10"
      ]
     },
     "execution_count": 2,
     "metadata": {},
     "output_type": "execute_result"
    }
   ],
   "source": [
    "(lambda x : x * 2)(5)"
   ]
  },
  {
   "cell_type": "code",
   "execution_count": 3,
   "metadata": {},
   "outputs": [
    {
     "data": {
      "text/plain": [
       "10"
      ]
     },
     "execution_count": 3,
     "metadata": {},
     "output_type": "execute_result"
    }
   ],
   "source": [
    "lamb = (lambda x : x * 2)\n",
    "lamb(5)"
   ]
  },
  {
   "cell_type": "code",
   "execution_count": 4,
   "metadata": {},
   "outputs": [
    {
     "data": {
      "text/plain": [
       "8"
      ]
     },
     "execution_count": 4,
     "metadata": {},
     "output_type": "execute_result"
    }
   ],
   "source": [
    "(lambda x, y : x + y)(5, 3)"
   ]
  },
  {
   "cell_type": "code",
   "execution_count": 5,
   "metadata": {},
   "outputs": [
    {
     "data": {
      "text/plain": [
       "8"
      ]
     },
     "execution_count": 5,
     "metadata": {},
     "output_type": "execute_result"
    }
   ],
   "source": [
    "lamb = (lambda x, y : x + y)\n",
    "lamb(5, 3)"
   ]
  },
  {
   "cell_type": "code",
   "execution_count": 6,
   "metadata": {},
   "outputs": [
    {
     "data": {
      "text/plain": [
       "5"
      ]
     },
     "execution_count": 6,
     "metadata": {},
     "output_type": "execute_result"
    }
   ],
   "source": [
    "(lambda x, y : x if x > y else y)(5, 3)"
   ]
  },
  {
   "cell_type": "markdown",
   "metadata": {},
   "source": [
    "#### **AND**\n",
    "\n",
    "&ensp; **If anyone condition False(fail). Its False(fail)**"
   ]
  },
  {
   "cell_type": "code",
   "execution_count": 8,
   "metadata": {},
   "outputs": [
    {
     "data": {
      "text/plain": [
       "True"
      ]
     },
     "execution_count": 8,
     "metadata": {},
     "output_type": "execute_result"
    }
   ],
   "source": [
    "    True and True"
   ]
  },
  {
   "cell_type": "code",
   "execution_count": 9,
   "metadata": {},
   "outputs": [
    {
     "data": {
      "text/plain": [
       "False"
      ]
     },
     "execution_count": 9,
     "metadata": {},
     "output_type": "execute_result"
    }
   ],
   "source": [
    "    True and False"
   ]
  },
  {
   "cell_type": "code",
   "execution_count": 10,
   "metadata": {},
   "outputs": [
    {
     "data": {
      "text/plain": [
       "False"
      ]
     },
     "execution_count": 10,
     "metadata": {},
     "output_type": "execute_result"
    }
   ],
   "source": [
    "    False and True"
   ]
  },
  {
   "cell_type": "code",
   "execution_count": 11,
   "metadata": {},
   "outputs": [
    {
     "data": {
      "text/plain": [
       "False"
      ]
     },
     "execution_count": 11,
     "metadata": {},
     "output_type": "execute_result"
    }
   ],
   "source": [
    "    False and False"
   ]
  },
  {
   "cell_type": "markdown",
   "metadata": {},
   "source": [
    "#### **Converting UNIX Time To Human Readable Time**"
   ]
  },
  {
   "cell_type": "code",
   "execution_count": 71,
   "metadata": {},
   "outputs": [
    {
     "name": "stdout",
     "output_type": "stream",
     "text": [
      "Sat Feb 14 05:01:30 IST 2009\n"
     ]
    }
   ],
   "source": [
    "%%bash\n",
    "\n",
    "date -d @1234567890"
   ]
  },
  {
   "cell_type": "code",
   "execution_count": 10,
   "metadata": {},
   "outputs": [
    {
     "name": "stdout",
     "output_type": "stream",
     "text": [
      "Sat Feb 14 05:01:30 2009\n"
     ]
    }
   ],
   "source": [
    "%%python3\n",
    "\n",
    "import time\n",
    "print(time.ctime(1234567890))"
   ]
  },
  {
   "cell_type": "markdown",
   "metadata": {},
   "source": [
    "#### **How Many Days Passed In This Year?**"
   ]
  },
  {
   "cell_type": "code",
   "execution_count": 4,
   "metadata": {},
   "outputs": [
    {
     "name": "stdout",
     "output_type": "stream",
     "text": [
      "This Year passed 179 days.\n"
     ]
    }
   ],
   "source": [
    "import time\n",
    "\n",
    "days = time.localtime().tm_yday\n",
    "print(f'This Year passed {days} days.')"
   ]
  },
  {
   "cell_type": "markdown",
   "metadata": {},
   "source": [
    "#### **How To Get Last Modification Time of File?**"
   ]
  },
  {
   "cell_type": "code",
   "execution_count": 5,
   "metadata": {},
   "outputs": [
    {
     "name": "stdout",
     "output_type": "stream",
     "text": [
      "2020-06-23 18:53:54.886467282 +0530\n"
     ]
    }
   ],
   "source": [
    "%%bash\n",
    "\n",
    "stat -c \"%y\" /home/mana/Work/fruit.txt"
   ]
  },
  {
   "cell_type": "code",
   "execution_count": 8,
   "metadata": {},
   "outputs": [
    {
     "name": "stdout",
     "output_type": "stream",
     "text": [
      "Tue Jun 23 18:53:54 2020\n"
     ]
    }
   ],
   "source": [
    "%%python3\n",
    "\n",
    "from time import ctime\n",
    "import os.path\n",
    "\n",
    "file = '/home/mana/Work/fruit.txt'\n",
    "mseconds = os.path.getmtime(file)\n",
    "print(ctime(mseconds))"
   ]
  },
  {
   "cell_type": "markdown",
   "metadata": {},
   "source": [
    "#### **Get Last File Modification Seconds Since Epoch**"
   ]
  },
  {
   "cell_type": "code",
   "execution_count": 6,
   "metadata": {},
   "outputs": [
    {
     "name": "stdout",
     "output_type": "stream",
     "text": [
      "1592918634\n"
     ]
    }
   ],
   "source": [
    "%%bash\n",
    "\n",
    "stat -c \"%Y\" /home/mana/Work/fruit.txt"
   ]
  },
  {
   "cell_type": "code",
   "execution_count": 50,
   "metadata": {},
   "outputs": [
    {
     "name": "stdout",
     "output_type": "stream",
     "text": [
      "1592918634.8864672\n"
     ]
    }
   ],
   "source": [
    "%%python3\n",
    "\n",
    "from time import ctime\n",
    "import os.path\n",
    "\n",
    "file = '/home/mana/Work/fruit.txt'\n",
    "print(os.path.getmtime(file))"
   ]
  },
  {
   "cell_type": "markdown",
   "metadata": {},
   "source": [
    "#### **Add Every Two Numbers**"
   ]
  },
  {
   "cell_type": "code",
   "execution_count": 72,
   "metadata": {},
   "outputs": [
    {
     "name": "stdout",
     "output_type": "stream",
     "text": [
      "76\r\n",
      "15\r\n",
      "87\r\n",
      "33\r\n"
     ]
    }
   ],
   "source": [
    "cat /home/mana/Work/num.txt"
   ]
  },
  {
   "cell_type": "code",
   "execution_count": 73,
   "metadata": {},
   "outputs": [
    {
     "name": "stdout",
     "output_type": "stream",
     "text": [
      "91\n",
      "120\n"
     ]
    }
   ],
   "source": [
    "%%bash\n",
    "\n",
    "file=/home/mana/Work/num.txt\n",
    "awk 'NR%2{printf \"%s \",$0;next;}1'  $file | \\\n",
    "awk '{print $1 + $2}'"
   ]
  },
  {
   "cell_type": "code",
   "execution_count": 71,
   "metadata": {},
   "outputs": [
    {
     "name": "stdout",
     "output_type": "stream",
     "text": [
      "91\n",
      "120\n"
     ]
    }
   ],
   "source": [
    "%%python3\n",
    "\n",
    "from pathlib import Path\n",
    "file = '/home/mana/Work/num.txt'\n",
    "text = Path(file).read_text().splitlines()\n",
    "for i in zip(text[::2],text[1::2]):\n",
    "    print(sum(map(int, i)))"
   ]
  },
  {
   "cell_type": "markdown",
   "metadata": {},
   "source": [
    "#### **How To Join The Second Line To End Of First Line?**"
   ]
  },
  {
   "cell_type": "code",
   "execution_count": 63,
   "metadata": {},
   "outputs": [
    {
     "name": "stdout",
     "output_type": "stream",
     "text": [
      "Apple Apple.\r\n",
      "Watermelon.\r\n",
      "Bannana.\r\n",
      "Orange.\r\n"
     ]
    }
   ],
   "source": [
    "cat ~/Work/fruit.txt"
   ]
  },
  {
   "cell_type": "code",
   "execution_count": 64,
   "metadata": {},
   "outputs": [
    {
     "name": "stdout",
     "output_type": "stream",
     "text": [
      "Apple Apple. Watermelon.\n",
      "Bannana. Orange.\n"
     ]
    }
   ],
   "source": [
    "%%bash\n",
    "\n",
    "sed 'N;s/\\n/ /' ~/Work/fruit.txt"
   ]
  },
  {
   "cell_type": "code",
   "execution_count": 65,
   "metadata": {},
   "outputs": [
    {
     "name": "stdout",
     "output_type": "stream",
     "text": [
      "Apple Apple. Watermelon.\n",
      "Bannana. Orange.\n"
     ]
    }
   ],
   "source": [
    "%%python3\n",
    "\n",
    "from pathlib import Path\n",
    "file = '/home/mana/Work/fruit.txt'\n",
    "text = Path(file).read_text().splitlines()\n",
    "for i in zip(text[::2],text[1::2]):\n",
    "    print(*i)"
   ]
  },
  {
   "cell_type": "markdown",
   "metadata": {},
   "source": [
    "#### **When Was UNIX Time Started At India?**"
   ]
  },
  {
   "cell_type": "code",
   "execution_count": 89,
   "metadata": {},
   "outputs": [
    {
     "name": "stdout",
     "output_type": "stream",
     "text": [
      "Thursday 01 January 1970 05:30:00 AM IST\n"
     ]
    }
   ],
   "source": [
    "%%bash\n",
    "date -d @0"
   ]
  },
  {
   "cell_type": "code",
   "execution_count": 91,
   "metadata": {},
   "outputs": [
    {
     "data": {
      "text/plain": [
       "'Thu Jan  1 05:30:00 1970'"
      ]
     },
     "execution_count": 91,
     "metadata": {},
     "output_type": "execute_result"
    }
   ],
   "source": [
    "import time\n",
    "\n",
    "time.ctime(0)"
   ]
  },
  {
   "cell_type": "markdown",
   "metadata": {},
   "source": [
    "#### **Time Now**"
   ]
  },
  {
   "cell_type": "code",
   "execution_count": 8,
   "metadata": {},
   "outputs": [
    {
     "name": "stdout",
     "output_type": "stream",
     "text": [
      "08:05:11\n"
     ]
    }
   ],
   "source": [
    "%%bash\n",
    "\n",
    "printf \"%(%T)T\\n\""
   ]
  },
  {
   "cell_type": "code",
   "execution_count": 9,
   "metadata": {},
   "outputs": [
    {
     "name": "stdout",
     "output_type": "stream",
     "text": [
      "08:05:18\n"
     ]
    }
   ],
   "source": [
    "%%bash\n",
    "\n",
    "date +\"%T\""
   ]
  },
  {
   "cell_type": "code",
   "execution_count": 10,
   "metadata": {},
   "outputs": [
    {
     "name": "stdout",
     "output_type": "stream",
     "text": [
      "08:05:25\n"
     ]
    }
   ],
   "source": [
    "%%python3\n",
    "\n",
    "from datetime import datetime\n",
    "print(datetime.now().strftime(\"%T\"))"
   ]
  },
  {
   "cell_type": "code",
   "execution_count": 13,
   "metadata": {},
   "outputs": [
    {
     "name": "stdout",
     "output_type": "stream",
     "text": [
      "08:06:35\n"
     ]
    }
   ],
   "source": [
    "%%python3\n",
    "\n",
    "import time\n",
    "print(time.strftime(\"%T\", time.localtime()))"
   ]
  },
  {
   "cell_type": "markdown",
   "metadata": {},
   "source": [
    "#### **Hi, What is the Date Today?**"
   ]
  },
  {
   "cell_type": "code",
   "execution_count": 4,
   "metadata": {},
   "outputs": [
    {
     "name": "stdout",
     "output_type": "stream",
     "text": [
      "30 June 2020\n"
     ]
    }
   ],
   "source": [
    "%%bash\n",
    "\n",
    "printf \"%(%d %B %Y)T\\n\""
   ]
  },
  {
   "cell_type": "code",
   "execution_count": 5,
   "metadata": {},
   "outputs": [
    {
     "name": "stdout",
     "output_type": "stream",
     "text": [
      "30 June 2020\n"
     ]
    }
   ],
   "source": [
    "%%bash\n",
    "\n",
    "date +\"%d %B %Y\""
   ]
  },
  {
   "cell_type": "code",
   "execution_count": 6,
   "metadata": {},
   "outputs": [
    {
     "name": "stdout",
     "output_type": "stream",
     "text": [
      "30 June 2020\n"
     ]
    }
   ],
   "source": [
    "%%python3\n",
    "\n",
    "from datetime import datetime\n",
    "print(datetime.now().strftime(\"%d %B %Y\"))"
   ]
  },
  {
   "cell_type": "code",
   "execution_count": 7,
   "metadata": {},
   "outputs": [
    {
     "name": "stdout",
     "output_type": "stream",
     "text": [
      "30 June 2020\n"
     ]
    }
   ],
   "source": [
    "%%python3\n",
    "\n",
    "import time\n",
    "print(time.strftime(\"%d %B %Y\", time.localtime()))"
   ]
  },
  {
   "cell_type": "markdown",
   "metadata": {},
   "source": [
    "**Water Mark**"
   ]
  },
  {
   "cell_type": "code",
   "execution_count": 9,
   "metadata": {},
   "outputs": [],
   "source": [
    "from PIL import Image\n",
    "from PIL import ImageDraw\n",
    "from PIL import ImageFont\n",
    "def copyright_apply(input_image_path,\n",
    "                   output_image_path,\n",
    "                   text):\n",
    "    photo = Image.open(input_image_path)\n",
    "    \n",
    "    #Store image width and height\n",
    "    w, h = photo.size\n",
    "    \n",
    "\n",
    "    # make the image editable\n",
    "    drawing = ImageDraw.Draw(photo)\n",
    "    font = ImageFont.truetype(\"arial.ttf\", 20)\n",
    "    \n",
    "    #get text width and height\n",
    "    text_w, text_h = drawing.textsize(text, font)\n",
    "    \n",
    "    pos = w - text_w, (h - text_h) - 50\n",
    "    \n",
    "    c_text = Image.new('RGB', (text_w, (text_h)), color = '#000000')\n",
    "    drawing = ImageDraw.Draw(c_text)\n",
    "    \n",
    "    drawing.text((0,0), text, fill=\"#ffffff\", font=font)\n",
    "    c_text.putalpha(100)\n",
    "   \n",
    "    photo.paste(c_text, pos, c_text)\n",
    "    photo.save(output_image_path)\n",
    "copyright_apply('w.png','ow.png', 'Manavalan Micheal')\n"
   ]
  },
  {
   "cell_type": "markdown",
   "metadata": {},
   "source": [
    "<p style=\"padding-left:100px;color:red;font-size:15px;font-weight:bolder\">What is Time Now?"
   ]
  },
  {
   "cell_type": "code",
   "execution_count": 31,
   "metadata": {},
   "outputs": [
    {
     "name": "stdout",
     "output_type": "stream",
     "text": [
      "13:56:26\n"
     ]
    }
   ],
   "source": [
    "from datetime import datetime\n",
    "\n",
    "print(datetime.now().strftime('%T'))"
   ]
  },
  {
   "cell_type": "code",
   "execution_count": 14,
   "metadata": {},
   "outputs": [
    {
     "name": "stdout",
     "output_type": "stream",
     "text": [
      "10:12:32\n"
     ]
    }
   ],
   "source": [
    "%%bash\n",
    "\n",
    "date +'%T'"
   ]
  },
  {
   "cell_type": "code",
   "execution_count": 55,
   "metadata": {},
   "outputs": [
    {
     "name": "stdout",
     "output_type": "stream",
     "text": [
      "['123']\n"
     ]
    }
   ],
   "source": [
    "L = ['1' + '2' + '3']\n",
    "print(L)"
   ]
  },
  {
   "cell_type": "code",
   "execution_count": 56,
   "metadata": {},
   "outputs": [
    {
     "name": "stdout",
     "output_type": "stream",
     "text": [
      "[6]\n"
     ]
    }
   ],
   "source": [
    "            L = [1 + 2 + 3]\n",
    "            print(L)"
   ]
  },
  {
   "cell_type": "markdown",
   "metadata": {},
   "source": [
    "<p style=\"padding-left:50px;color:black;font-size:15px;font-weight:bolder\">How To Transfort numbers into letters?"
   ]
  },
  {
   "cell_type": "code",
   "execution_count": 54,
   "metadata": {},
   "outputs": [
    {
     "name": "stdout",
     "output_type": "stream",
     "text": [
      "65 66 67 68 69 70 "
     ]
    }
   ],
   "source": [
    "for i in range(65, 71):\n",
    "    print(i, end = ' ')"
   ]
  },
  {
   "cell_type": "code",
   "execution_count": 116,
   "metadata": {},
   "outputs": [
    {
     "name": "stdout",
     "output_type": "stream",
     "text": [
      "A B C D E F G "
     ]
    }
   ],
   "source": [
    "%%bash\n",
    "\n",
    "for i in {65..71}\n",
    "do\n",
    "printf \"\\x$(printf %x $i) \"\n",
    "done"
   ]
  },
  {
   "cell_type": "code",
   "execution_count": 117,
   "metadata": {},
   "outputs": [
    {
     "name": "stdout",
     "output_type": "stream",
     "text": [
      "A B C D E F "
     ]
    }
   ],
   "source": [
    "%%python3\n",
    "\n",
    "for i in range(65, 71):\n",
    "    print(chr(i), end = ' ')"
   ]
  },
  {
   "cell_type": "markdown",
   "metadata": {},
   "source": [
    "Why It All Throw 0?"
   ]
  },
  {
   "cell_type": "code",
   "execution_count": 2,
   "metadata": {},
   "outputs": [
    {
     "data": {
      "text/plain": [
       "'0'"
      ]
     },
     "execution_count": 2,
     "metadata": {},
     "output_type": "execute_result"
    }
   ],
   "source": [
    "p,y,t,h,o,n = '0'*6\n",
    "p"
   ]
  },
  {
   "cell_type": "code",
   "execution_count": 122,
   "metadata": {},
   "outputs": [
    {
     "data": {
      "text/plain": [
       "'0'"
      ]
     },
     "execution_count": 122,
     "metadata": {},
     "output_type": "execute_result"
    }
   ],
   "source": [
    "y"
   ]
  },
  {
   "cell_type": "code",
   "execution_count": 123,
   "metadata": {},
   "outputs": [
    {
     "data": {
      "text/plain": [
       "'0'"
      ]
     },
     "execution_count": 123,
     "metadata": {},
     "output_type": "execute_result"
    }
   ],
   "source": [
    "t"
   ]
  },
  {
   "cell_type": "code",
   "execution_count": 124,
   "metadata": {},
   "outputs": [
    {
     "data": {
      "text/plain": [
       "'0'"
      ]
     },
     "execution_count": 124,
     "metadata": {},
     "output_type": "execute_result"
    }
   ],
   "source": [
    "h"
   ]
  },
  {
   "cell_type": "code",
   "execution_count": 3,
   "metadata": {},
   "outputs": [
    {
     "data": {
      "text/plain": [
       "'0'"
      ]
     },
     "execution_count": 3,
     "metadata": {},
     "output_type": "execute_result"
    }
   ],
   "source": [
    "o"
   ]
  },
  {
   "cell_type": "markdown",
   "metadata": {},
   "source": [
    "<p style=\"padding-left:50px;color:black;font-size:15px;font-weight:bolder\">\n",
    "How to find Linux OS-Release?"
   ]
  },
  {
   "cell_type": "markdown",
   "metadata": {},
   "source": [
    "<p style=\"padding-left:50px;color:black;font-size:14px;font-weight:bolder\">Logic: 1"
   ]
  },
  {
   "cell_type": "code",
   "execution_count": 10,
   "metadata": {},
   "outputs": [
    {
     "data": {
      "text/plain": [
       "'\"Ubuntu 20.04.5 LTS\"'"
      ]
     },
     "execution_count": 10,
     "metadata": {},
     "output_type": "execute_result"
    }
   ],
   "source": [
    "from pathlib import Path\n",
    "import re\n",
    "\n",
    "file_obj = Path('/etc/os-release')\n",
    "os_file = file_obj.read_text()\n",
    "match = re.search(r'PRETTY.*',os_file).group()\n",
    "match.split('=')[1]"
   ]
  },
  {
   "cell_type": "markdown",
   "metadata": {},
   "source": [
    "<p style=\"padding-left:50px;color:black;font-size:14px;font-weight:bolder\">Logic: 2"
   ]
  },
  {
   "cell_type": "code",
   "execution_count": 124,
   "metadata": {},
   "outputs": [
    {
     "name": "stdout",
     "output_type": "stream",
     "text": [
      "\"Ubuntu 20.04.2 LTS\"\n",
      "\n"
     ]
    }
   ],
   "source": [
    "from glob import glob\n",
    "import re\n",
    "\n",
    "temp = glob('/etc/o*release')\n",
    "for i in temp:\n",
    "    for j in open(i).readlines():\n",
    "        if j.startswith('PRETTY'):\n",
    "            print(j.split('=')[1])"
   ]
  },
  {
   "cell_type": "code",
   "execution_count": 2,
   "metadata": {},
   "outputs": [
    {
     "name": "stdout",
     "output_type": "stream",
     "text": [
      "Ubuntu 20.04.2 LTS\n"
     ]
    }
   ],
   "source": [
    "%%bash\n",
    "\n",
    "egrep  -i \"pretty|description\" /etc/*release | \n",
    "awk -F \"[\\\"]\" 'NR==1{print $2}' || cat /etc/*-release"
   ]
  },
  {
   "cell_type": "markdown",
   "metadata": {},
   "source": [
    "**Match of substrings in list1 to list2**"
   ]
  },
  {
   "cell_type": "markdown",
   "metadata": {},
   "source": [
    ">**logic: 1**"
   ]
  },
  {
   "cell_type": "code",
   "execution_count": 53,
   "metadata": {},
   "outputs": [
    {
     "name": "stdout",
     "output_type": "stream",
     "text": [
      "pen\n",
      "fan\n",
      "link\n"
     ]
    }
   ],
   "source": [
    "list1 = [\"pen\", \"fan\", \"link\", \"fog\"] \n",
    "list2 = [\"pen\", \"fan\", \"link down\",\"dog\"]\n",
    "list3 = [i for i, j in zip(list1, list2) if i == j.split()[0]]\n",
    "print(*list3, sep = '\\n')"
   ]
  },
  {
   "cell_type": "markdown",
   "metadata": {},
   "source": [
    ">**logic: 2**"
   ]
  },
  {
   "cell_type": "code",
   "execution_count": 55,
   "metadata": {},
   "outputs": [
    {
     "name": "stdout",
     "output_type": "stream",
     "text": [
      "pen\n",
      "fan\n",
      "link\n"
     ]
    }
   ],
   "source": [
    "from re import match\n",
    "\n",
    "list1 = [\"pen\", \"fan\", \"link\", \"fog\"] \n",
    "list2 = [\"pen\", \"fan\", \"link down\",\"dog\"]\n",
    "for i,j in zip(list1, list2):\n",
    "     if i == match('\\w+' ,j).group():\n",
    "            print(i)"
   ]
  },
  {
   "cell_type": "markdown",
   "metadata": {},
   "source": [
    "<p style=\"padding-left:200px;color:#336CFF;font-size:15px;font-weight:bolder\"> Print File Number"
   ]
  },
  {
   "cell_type": "code",
   "execution_count": 6,
   "metadata": {},
   "outputs": [
    {
     "name": "stdout",
     "output_type": "stream",
     "text": [
      "     1.Watermelon. \n",
      "     2.Apple. \n",
      "     3.Orange. \n",
      "     4.Banana. \n",
      "     5.Grape. \n",
      "     6.Dragon fruit. \n"
     ]
    }
   ],
   "source": [
    "%%bash \n",
    "\n",
    "nl -s \".\" /home/mana/Work/fruit.txt"
   ]
  },
  {
   "cell_type": "code",
   "execution_count": 5,
   "metadata": {},
   "outputs": [
    {
     "name": "stdout",
     "output_type": "stream",
     "text": [
      "1 . Watermelon.\n",
      "2 . Apple.\n",
      "3 . Orange.\n",
      "4 . Banana.\n",
      "5 . Grape.\n",
      "6 . Dragon fruit.\n"
     ]
    }
   ],
   "source": [
    "%%python3\n",
    "\n",
    "import fileinput\n",
    "\n",
    "file = '/home/mana/Work/fruit.txt'\n",
    "for i in fileinput.input(file):\n",
    "    print(fileinput.filelineno(),'.', i.strip())"
   ]
  },
  {
   "cell_type": "markdown",
   "metadata": {},
   "source": [
    "<p style=\"padding-left:150px;color:#336CFF;font-size:15px;font-weight:bolder\"> Get Current Directory"
   ]
  },
  {
   "cell_type": "code",
   "execution_count": 7,
   "metadata": {},
   "outputs": [
    {
     "name": "stdout",
     "output_type": "stream",
     "text": [
      "I'm in /home/mana/Code/Month/2021\n"
     ]
    }
   ],
   "source": [
    "%%bash\n",
    "\n",
    "echo \"I'm in $PWD\""
   ]
  },
  {
   "cell_type": "code",
   "execution_count": 13,
   "metadata": {},
   "outputs": [
    {
     "name": "stdout",
     "output_type": "stream",
     "text": [
      "I'm in /home/mana/Code/Month/2021\n"
     ]
    }
   ],
   "source": [
    "%%python3\n",
    "\n",
    "import os\n",
    "\n",
    "print(\"I'm in\",os.getcwd())"
   ]
  },
  {
   "cell_type": "code",
   "execution_count": 64,
   "metadata": {},
   "outputs": [
    {
     "name": "stdout",
     "output_type": "stream",
     "text": [
      "      *\n",
      "     **\n",
      "    ***\n",
      "   ****\n"
     ]
    }
   ],
   "source": [
    "for i in range(1,5): print(' '*(6-i),'*'*(i))"
   ]
  },
  {
   "cell_type": "markdown",
   "metadata": {},
   "source": [
    "<p style=\"padding-left:50px;color:#336CFF;font-size:15px;font-weight:bolder\">"
   ]
  },
  {
   "cell_type": "markdown",
   "metadata": {},
   "source": [
    "<p style=\"padding-left:200px;color:#336CFF;font-size:15px;font-weight:bolder\">Uptime"
   ]
  },
  {
   "cell_type": "code",
   "execution_count": 89,
   "metadata": {},
   "outputs": [
    {
     "name": "stdout",
     "output_type": "stream",
     "text": [
      "up 3 days, 7 hours, 35 minutes\n"
     ]
    }
   ],
   "source": [
    "%%bash \n",
    "\n",
    "uptime -p"
   ]
  },
  {
   "cell_type": "code",
   "execution_count": 90,
   "metadata": {},
   "outputs": [
    {
     "name": "stdout",
     "output_type": "stream",
     "text": [
      "3 days, 7:35:20\n"
     ]
    }
   ],
   "source": [
    "%%python3\n",
    "\n",
    "from datetime import timedelta\n",
    "from pathlib import Path\n",
    "\n",
    "u = Path('/proc/uptime').read_text().split()[0]\n",
    "t = timedelta(seconds = float(u))\n",
    "print(str(t).split('.')[0])"
   ]
  },
  {
   "cell_type": "markdown",
   "metadata": {},
   "source": [
    "<p style=\"padding-left:100px;color:#0080FF;font-size:15px;font-weight:bolder\">How To Detemine Zero Length String?"
   ]
  },
  {
   "cell_type": "code",
   "execution_count": 14,
   "metadata": {},
   "outputs": [
    {
     "name": "stdout",
     "output_type": "stream",
     "text": [
      "Zero\n"
     ]
    }
   ],
   "source": [
    "s = ''\n",
    "if not s:\n",
    "    print(\"Zero\")\n",
    "else:\n",
    "    print(\"Non Zero\")"
   ]
  },
  {
   "cell_type": "code",
   "execution_count": 5,
   "metadata": {},
   "outputs": [
    {
     "name": "stdout",
     "output_type": "stream",
     "text": [
      "Zero\n"
     ]
    }
   ],
   "source": [
    "%%bash\n",
    "\n",
    "s=''\n",
    "test -z $s && echo \"Zero\" || echo \"Non Zero\""
   ]
  },
  {
   "cell_type": "code",
   "execution_count": 12,
   "metadata": {},
   "outputs": [
    {
     "name": "stdout",
     "output_type": "stream",
     "text": [
      "Zero\n"
     ]
    }
   ],
   "source": [
    "%%bash\n",
    "\n",
    "s=''\n",
    "if [ -z $s ]\n",
    "then\n",
    "echo \"Zero\"\n",
    "else\n",
    "echo \"Non Zero\"\n",
    "fi"
   ]
  },
  {
   "cell_type": "markdown",
   "metadata": {},
   "source": [
    "<p style=\"padding-left:50px;color:#0080FF;font-size:15px;font-weight:bolder\">How to create random number? \n",
    "    \n",
    "    but check if number don't repeat the number"
   ]
  },
  {
   "cell_type": "code",
   "execution_count": 8,
   "metadata": {},
   "outputs": [
    {
     "data": {
      "text/plain": [
       "{0, 2, 3, 4, 5, 8, 9}"
      ]
     },
     "execution_count": 8,
     "metadata": {},
     "output_type": "execute_result"
    }
   ],
   "source": [
    "from random import randrange\n",
    "\n",
    "nums = [randrange(10) for i in range(20)]\n",
    "set(nums)"
   ]
  },
  {
   "cell_type": "markdown",
   "metadata": {},
   "source": [
    ">**<p style=\"padding-left:40px;color:#0080FF;font-size:15px;font-weight:bolder\">How To Print Impress Emoji?**"
   ]
  },
  {
   "cell_type": "code",
   "execution_count": 12,
   "metadata": {},
   "outputs": [
    {
     "name": "stdout",
     "output_type": "stream",
     "text": [
      "💙 💚 💛 💜 💝 💞\n"
     ]
    }
   ],
   "source": [
    "print(*[chr(i) for i in range(128153, 128159)])"
   ]
  },
  {
   "cell_type": "code",
   "execution_count": 1,
   "metadata": {},
   "outputs": [
    {
     "name": "stdout",
     "output_type": "stream",
     "text": [
      "😇\n"
     ]
    }
   ],
   "source": [
    "print(\"\\N{SMILING FACE WITH HALO}\")"
   ]
  },
  {
   "cell_type": "code",
   "execution_count": 4,
   "metadata": {},
   "outputs": [
    {
     "name": "stdout",
     "output_type": "stream",
     "text": [
      "👼\n"
     ]
    }
   ],
   "source": [
    "print(\"\\N{BABY ANGEL}\")"
   ]
  },
  {
   "cell_type": "code",
   "execution_count": 5,
   "metadata": {},
   "outputs": [
    {
     "name": "stdout",
     "output_type": "stream",
     "text": [
      "🐍\n"
     ]
    }
   ],
   "source": [
    "print(\"\\N{SNAKE}\")"
   ]
  },
  {
   "cell_type": "code",
   "execution_count": 7,
   "metadata": {},
   "outputs": [
    {
     "name": "stdout",
     "output_type": "stream",
     "text": [
      "😘\n"
     ]
    }
   ],
   "source": [
    "print('\\U0001F618')"
   ]
  },
  {
   "cell_type": "markdown",
   "metadata": {},
   "source": [
    "<p style=\"padding-left:150px;color:#0080FF;font-size:15px;font-weight:bolder\"> Generate Random Password"
   ]
  },
  {
   "cell_type": "code",
   "execution_count": 54,
   "metadata": {},
   "outputs": [
    {
     "name": "stdout",
     "output_type": "stream",
     "text": [
      "RfcSv=w'\n"
     ]
    }
   ],
   "source": [
    "%%bash\n",
    "\n",
    "cat /dev/urandom | tr -dc '[:alnum:][:punct:]' \\\n",
    "| head -c 8; echo"
   ]
  },
  {
   "cell_type": "code",
   "execution_count": 58,
   "metadata": {},
   "outputs": [
    {
     "name": "stdout",
     "output_type": "stream",
     "text": [
      "&:OZoSlm\n"
     ]
    }
   ],
   "source": [
    "%%python3\n",
    "\n",
    "from string import printable\n",
    "from random import choice\n",
    "\n",
    "print(*[choice(printable) for i in range(8)],sep = '')"
   ]
  },
  {
   "cell_type": "markdown",
   "metadata": {},
   "source": [
    "<p style=\"padding-left:90px;color:#0080FF;font-size:15px;font-weight:bolder\">Generate Random Password Using ASCII"
   ]
  },
  {
   "cell_type": "code",
   "execution_count": 56,
   "metadata": {},
   "outputs": [
    {
     "name": "stdout",
     "output_type": "stream",
     "text": [
      "$hVKTNEc\n"
     ]
    }
   ],
   "source": [
    "%%python3\n",
    "\n",
    "from random import choice\n",
    "\n",
    "num_sym = [*range(35,58)]\n",
    "upp_char = [*range(65,91)]\n",
    "low_char = [*range(97,123)]\n",
    "tot = num_sym + upp_char + low_char\n",
    "print(*[chr(choice(tot)) for i in range(8)], sep = '')"
   ]
  },
  {
   "cell_type": "markdown",
   "metadata": {},
   "source": [
    "<p style=\"padding-left:37px;color:#0080FF;font-size:15px;font-weight:bolder\">How to change 2021-06-30 type of format to 30 Jun 2021?"
   ]
  },
  {
   "cell_type": "code",
   "execution_count": 85,
   "metadata": {},
   "outputs": [
    {
     "name": "stdout",
     "output_type": "stream",
     "text": [
      "30 Jun 2021\n"
     ]
    }
   ],
   "source": [
    "from datetime import datetime\n",
    "\n",
    "D = '2021-06-30'\n",
    "sd = datetime.strptime(D, '%Y-%m-%d')\n",
    "print(sd.strftime('%d %b %Y'))"
   ]
  },
  {
   "cell_type": "code",
   "execution_count": 78,
   "metadata": {},
   "outputs": [
    {
     "name": "stdout",
     "output_type": "stream",
     "text": [
      "30 Jun 2021\n"
     ]
    }
   ],
   "source": [
    "%%bash\n",
    "\n",
    "date -d \"2021-06-30\" +\"%d %b %Y\""
   ]
  },
  {
   "cell_type": "markdown",
   "metadata": {},
   "source": [
    "<p style=\"padding-left:105px;color:#0080FF;font-size:15px;font-weight:bolder\">Simple Tree Pattern"
   ]
  },
  {
   "cell_type": "code",
   "execution_count": 8,
   "metadata": {},
   "outputs": [
    {
     "name": "stdout",
     "output_type": "stream",
     "text": [
      "         *          \n",
      "        ***         \n",
      "       *****        \n",
      "      *******       \n",
      "     *********      \n",
      "       *****        \n"
     ]
    }
   ],
   "source": [
    "for i in [*range(5)] + [2]: \n",
    "    print(f'{\"*\"*(i*2+1):^20}')"
   ]
  },
  {
   "cell_type": "code",
   "execution_count": null,
   "metadata": {},
   "outputs": [],
   "source": []
  }
 ],
 "metadata": {
  "kernelspec": {
   "display_name": "Python 3",
   "language": "python",
   "name": "python3"
  },
  "language_info": {
   "codemirror_mode": {
    "name": "ipython",
    "version": 3
   },
   "file_extension": ".py",
   "mimetype": "text/x-python",
   "name": "python",
   "nbconvert_exporter": "python",
   "pygments_lexer": "ipython3",
   "version": "3.8.10"
  },
  "widgets": {
   "application/vnd.jupyter.widget-state+json": {
    "state": {},
    "version_major": 2,
    "version_minor": 0
   }
  }
 },
 "nbformat": 4,
 "nbformat_minor": 2
}
